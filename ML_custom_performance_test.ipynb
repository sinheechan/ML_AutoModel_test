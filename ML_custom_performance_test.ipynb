{
  "nbformat": 4,
  "nbformat_minor": 0,
  "metadata": {
    "colab": {
      "provenance": [],
      "gpuType": "T4"
    },
    "kernelspec": {
      "name": "python3",
      "display_name": "Python 3"
    },
    "language_info": {
      "name": "python"
    },
    "accelerator": "GPU"
  },
  "cells": [
    {
      "cell_type": "markdown",
      "source": [
        "# Auto ML : Catboost vs PyCaret vs Lazy Predict"
      ],
      "metadata": {
        "id": "nwY43FwqoNep"
      }
    },
    {
      "cell_type": "markdown",
      "source": [
        "## 1. Setting"
      ],
      "metadata": {
        "id": "j5JCKxB3rnrF"
      }
    },
    {
      "cell_type": "markdown",
      "source": [
        "본 테스트에 앞서 공통된 데이터로 Kaggle의 [성인 인구조사 소득 예측 대회] 데이터셋을 사용합니다.\n",
        "\n",
        "<br /><br />\n",
        "본 데이터 셋은 1994년 미국 성인을 대상으로 소득 관련 인구조사를 시행한 데이터로\n",
        "\n",
        "해당 인구조사 항목을 활용하여 각 사람의 소득을 예측하는 것을 목적으로 한다."
      ],
      "metadata": {
        "id": "xERlEmHvrwYF"
      }
    },
    {
      "cell_type": "code",
      "source": [
        "import numpy as np\n",
        "import pandas as pd\n",
        "import matplotlib.pyplot as plt\n",
        "import seaborn as sns\n",
        "\n",
        "# numpy 추가 설정\n",
        "np.random.seed(2024)\n",
        "np.set_printoptions(precision = 4, suppress = True)\n",
        "\n",
        "# pandas 추가 설정\n",
        "PREVIOUS_MAX_ROWS = pd.options.display.max_rows\n",
        "# pd.options.display.max_rows = 20\n",
        "# pd.options.display.max_columns = 20\n",
        "# pd.options.display.max_colwidth = 80\n",
        "\n",
        "# matplotlib 크기, 테마 설정\n",
        "plt.rc(\"figure\", figsize = (8, 4))\n",
        "colors = sns.color_palette('husl')\n",
        "\n",
        "# seaborn 추가 설정\n",
        "sns.set_theme( style=\"white\" )\n",
        "\n",
        "# 그래프 폰트 깨짐 방지\n",
        "import matplotlib.font_manager as fm\n",
        "import os\n",
        "import matplotlib.pyplot as plt\n",
        "!apt -qq install fonts-nanum\n",
        "fe = fm.FontEntry(\n",
        "    fname = r'/usr/share/fonts/truetype/nanum/NanumGothic.ttf',\n",
        "    name = 'NanumGothic')\n",
        "fm.fontManager.ttflist.insert(0, fe)\n",
        "plt.rcParams.update({'font.size': 12, 'font.family': 'NanumGothic'})\n",
        "\n",
        "# 경고메세지 무시\n",
        "import warnings\n",
        "warnings.filterwarnings(\"ignore\")"
      ],
      "metadata": {
        "colab": {
          "base_uri": "https://localhost:8080/"
        },
        "id": "X_pvYod0wbVH",
        "outputId": "f762b58b-a8ce-438e-c677-e16b50d2a82d"
      },
      "execution_count": 142,
      "outputs": [
        {
          "output_type": "stream",
          "name": "stdout",
          "text": [
            "fonts-nanum is already the newest version (20200506-1).\n",
            "0 upgraded, 0 newly installed, 0 to remove and 45 not upgraded.\n"
          ]
        }
      ]
    },
    {
      "cell_type": "code",
      "execution_count": 143,
      "metadata": {
        "id": "lTHG_1U5mPmm"
      },
      "outputs": [],
      "source": [
        "# Data Load\n",
        "train_raw = pd.read_csv(\"/content/drive/MyDrive/Dataset/People_income/train.csv\")\n",
        "test_raw = pd.read_csv(\"/content/drive/MyDrive/Dataset/People_income/test.csv\")\n",
        "submission_raw = pd.read_csv(\"/content/drive/MyDrive/Dataset/People_income/sample_submission.csv\")\n",
        "\n",
        "# Data engineering 을 위한 Data Copy\n",
        "train = train_raw.copy()\n",
        "test = test_raw.copy()"
      ]
    },
    {
      "cell_type": "markdown",
      "source": [
        "## 2. EDA"
      ],
      "metadata": {
        "id": "IE3uiagxwtVF"
      }
    },
    {
      "cell_type": "markdown",
      "source": [
        "### 2.1 Columns Check"
      ],
      "metadata": {
        "id": "g2dlRqX2L7Xv"
      }
    },
    {
      "cell_type": "markdown",
      "source": [
        "- train : 16 cloumns (income 포함), 결측치 없음\n",
        "- test : 15 cloumns, 결측치 없음"
      ],
      "metadata": {
        "id": "E0TdydyrxBcM"
      }
    },
    {
      "cell_type": "code",
      "source": [
        "train.head()"
      ],
      "metadata": {
        "colab": {
          "base_uri": "https://localhost:8080/",
          "height": 206
        },
        "id": "pHsSH2Ttw3bn",
        "outputId": "de9c5649-df24-453a-b7c0-6b82577ccf9a"
      },
      "execution_count": 144,
      "outputs": [
        {
          "output_type": "execute_result",
          "data": {
            "text/plain": [
              "   id  age workclass  fnlwgt     education  education_num      marital_status  \\\n",
              "0   0   40   Private  168538       HS-grad              9  Married-civ-spouse   \n",
              "1   1   17   Private  101626           9th              5       Never-married   \n",
              "2   2   18   Private  353358  Some-college             10       Never-married   \n",
              "3   3   21   Private  151158  Some-college             10       Never-married   \n",
              "4   4   24   Private  122234  Some-college             10       Never-married   \n",
              "\n",
              "          occupation   relationship   race     sex  capital_gain  \\\n",
              "0              Sales        Husband  White    Male             0   \n",
              "1  Machine-op-inspct      Own-child  White    Male             0   \n",
              "2      Other-service      Own-child  White    Male             0   \n",
              "3     Prof-specialty      Own-child  White  Female             0   \n",
              "4       Adm-clerical  Not-in-family  Black  Female             0   \n",
              "\n",
              "   capital_loss  hours_per_week native_country income  \n",
              "0             0              60  United-States   >50K  \n",
              "1             0              20  United-States  <=50K  \n",
              "2             0              16  United-States  <=50K  \n",
              "3             0              25  United-States  <=50K  \n",
              "4             0              20              ?  <=50K  "
            ],
            "text/html": [
              "\n",
              "  <div id=\"df-750d4811-810e-4735-b389-6c73a50784ae\" class=\"colab-df-container\">\n",
              "    <div>\n",
              "<style scoped>\n",
              "    .dataframe tbody tr th:only-of-type {\n",
              "        vertical-align: middle;\n",
              "    }\n",
              "\n",
              "    .dataframe tbody tr th {\n",
              "        vertical-align: top;\n",
              "    }\n",
              "\n",
              "    .dataframe thead th {\n",
              "        text-align: right;\n",
              "    }\n",
              "</style>\n",
              "<table border=\"1\" class=\"dataframe\">\n",
              "  <thead>\n",
              "    <tr style=\"text-align: right;\">\n",
              "      <th></th>\n",
              "      <th>id</th>\n",
              "      <th>age</th>\n",
              "      <th>workclass</th>\n",
              "      <th>fnlwgt</th>\n",
              "      <th>education</th>\n",
              "      <th>education_num</th>\n",
              "      <th>marital_status</th>\n",
              "      <th>occupation</th>\n",
              "      <th>relationship</th>\n",
              "      <th>race</th>\n",
              "      <th>sex</th>\n",
              "      <th>capital_gain</th>\n",
              "      <th>capital_loss</th>\n",
              "      <th>hours_per_week</th>\n",
              "      <th>native_country</th>\n",
              "      <th>income</th>\n",
              "    </tr>\n",
              "  </thead>\n",
              "  <tbody>\n",
              "    <tr>\n",
              "      <th>0</th>\n",
              "      <td>0</td>\n",
              "      <td>40</td>\n",
              "      <td>Private</td>\n",
              "      <td>168538</td>\n",
              "      <td>HS-grad</td>\n",
              "      <td>9</td>\n",
              "      <td>Married-civ-spouse</td>\n",
              "      <td>Sales</td>\n",
              "      <td>Husband</td>\n",
              "      <td>White</td>\n",
              "      <td>Male</td>\n",
              "      <td>0</td>\n",
              "      <td>0</td>\n",
              "      <td>60</td>\n",
              "      <td>United-States</td>\n",
              "      <td>&gt;50K</td>\n",
              "    </tr>\n",
              "    <tr>\n",
              "      <th>1</th>\n",
              "      <td>1</td>\n",
              "      <td>17</td>\n",
              "      <td>Private</td>\n",
              "      <td>101626</td>\n",
              "      <td>9th</td>\n",
              "      <td>5</td>\n",
              "      <td>Never-married</td>\n",
              "      <td>Machine-op-inspct</td>\n",
              "      <td>Own-child</td>\n",
              "      <td>White</td>\n",
              "      <td>Male</td>\n",
              "      <td>0</td>\n",
              "      <td>0</td>\n",
              "      <td>20</td>\n",
              "      <td>United-States</td>\n",
              "      <td>&lt;=50K</td>\n",
              "    </tr>\n",
              "    <tr>\n",
              "      <th>2</th>\n",
              "      <td>2</td>\n",
              "      <td>18</td>\n",
              "      <td>Private</td>\n",
              "      <td>353358</td>\n",
              "      <td>Some-college</td>\n",
              "      <td>10</td>\n",
              "      <td>Never-married</td>\n",
              "      <td>Other-service</td>\n",
              "      <td>Own-child</td>\n",
              "      <td>White</td>\n",
              "      <td>Male</td>\n",
              "      <td>0</td>\n",
              "      <td>0</td>\n",
              "      <td>16</td>\n",
              "      <td>United-States</td>\n",
              "      <td>&lt;=50K</td>\n",
              "    </tr>\n",
              "    <tr>\n",
              "      <th>3</th>\n",
              "      <td>3</td>\n",
              "      <td>21</td>\n",
              "      <td>Private</td>\n",
              "      <td>151158</td>\n",
              "      <td>Some-college</td>\n",
              "      <td>10</td>\n",
              "      <td>Never-married</td>\n",
              "      <td>Prof-specialty</td>\n",
              "      <td>Own-child</td>\n",
              "      <td>White</td>\n",
              "      <td>Female</td>\n",
              "      <td>0</td>\n",
              "      <td>0</td>\n",
              "      <td>25</td>\n",
              "      <td>United-States</td>\n",
              "      <td>&lt;=50K</td>\n",
              "    </tr>\n",
              "    <tr>\n",
              "      <th>4</th>\n",
              "      <td>4</td>\n",
              "      <td>24</td>\n",
              "      <td>Private</td>\n",
              "      <td>122234</td>\n",
              "      <td>Some-college</td>\n",
              "      <td>10</td>\n",
              "      <td>Never-married</td>\n",
              "      <td>Adm-clerical</td>\n",
              "      <td>Not-in-family</td>\n",
              "      <td>Black</td>\n",
              "      <td>Female</td>\n",
              "      <td>0</td>\n",
              "      <td>0</td>\n",
              "      <td>20</td>\n",
              "      <td>?</td>\n",
              "      <td>&lt;=50K</td>\n",
              "    </tr>\n",
              "  </tbody>\n",
              "</table>\n",
              "</div>\n",
              "    <div class=\"colab-df-buttons\">\n",
              "\n",
              "  <div class=\"colab-df-container\">\n",
              "    <button class=\"colab-df-convert\" onclick=\"convertToInteractive('df-750d4811-810e-4735-b389-6c73a50784ae')\"\n",
              "            title=\"Convert this dataframe to an interactive table.\"\n",
              "            style=\"display:none;\">\n",
              "\n",
              "  <svg xmlns=\"http://www.w3.org/2000/svg\" height=\"24px\" viewBox=\"0 -960 960 960\">\n",
              "    <path d=\"M120-120v-720h720v720H120Zm60-500h600v-160H180v160Zm220 220h160v-160H400v160Zm0 220h160v-160H400v160ZM180-400h160v-160H180v160Zm440 0h160v-160H620v160ZM180-180h160v-160H180v160Zm440 0h160v-160H620v160Z\"/>\n",
              "  </svg>\n",
              "    </button>\n",
              "\n",
              "  <style>\n",
              "    .colab-df-container {\n",
              "      display:flex;\n",
              "      gap: 12px;\n",
              "    }\n",
              "\n",
              "    .colab-df-convert {\n",
              "      background-color: #E8F0FE;\n",
              "      border: none;\n",
              "      border-radius: 50%;\n",
              "      cursor: pointer;\n",
              "      display: none;\n",
              "      fill: #1967D2;\n",
              "      height: 32px;\n",
              "      padding: 0 0 0 0;\n",
              "      width: 32px;\n",
              "    }\n",
              "\n",
              "    .colab-df-convert:hover {\n",
              "      background-color: #E2EBFA;\n",
              "      box-shadow: 0px 1px 2px rgba(60, 64, 67, 0.3), 0px 1px 3px 1px rgba(60, 64, 67, 0.15);\n",
              "      fill: #174EA6;\n",
              "    }\n",
              "\n",
              "    .colab-df-buttons div {\n",
              "      margin-bottom: 4px;\n",
              "    }\n",
              "\n",
              "    [theme=dark] .colab-df-convert {\n",
              "      background-color: #3B4455;\n",
              "      fill: #D2E3FC;\n",
              "    }\n",
              "\n",
              "    [theme=dark] .colab-df-convert:hover {\n",
              "      background-color: #434B5C;\n",
              "      box-shadow: 0px 1px 3px 1px rgba(0, 0, 0, 0.15);\n",
              "      filter: drop-shadow(0px 1px 2px rgba(0, 0, 0, 0.3));\n",
              "      fill: #FFFFFF;\n",
              "    }\n",
              "  </style>\n",
              "\n",
              "    <script>\n",
              "      const buttonEl =\n",
              "        document.querySelector('#df-750d4811-810e-4735-b389-6c73a50784ae button.colab-df-convert');\n",
              "      buttonEl.style.display =\n",
              "        google.colab.kernel.accessAllowed ? 'block' : 'none';\n",
              "\n",
              "      async function convertToInteractive(key) {\n",
              "        const element = document.querySelector('#df-750d4811-810e-4735-b389-6c73a50784ae');\n",
              "        const dataTable =\n",
              "          await google.colab.kernel.invokeFunction('convertToInteractive',\n",
              "                                                    [key], {});\n",
              "        if (!dataTable) return;\n",
              "\n",
              "        const docLinkHtml = 'Like what you see? Visit the ' +\n",
              "          '<a target=\"_blank\" href=https://colab.research.google.com/notebooks/data_table.ipynb>data table notebook</a>'\n",
              "          + ' to learn more about interactive tables.';\n",
              "        element.innerHTML = '';\n",
              "        dataTable['output_type'] = 'display_data';\n",
              "        await google.colab.output.renderOutput(dataTable, element);\n",
              "        const docLink = document.createElement('div');\n",
              "        docLink.innerHTML = docLinkHtml;\n",
              "        element.appendChild(docLink);\n",
              "      }\n",
              "    </script>\n",
              "  </div>\n",
              "\n",
              "\n",
              "<div id=\"df-90842d51-2c58-4e92-9cce-452ceaea0f77\">\n",
              "  <button class=\"colab-df-quickchart\" onclick=\"quickchart('df-90842d51-2c58-4e92-9cce-452ceaea0f77')\"\n",
              "            title=\"Suggest charts\"\n",
              "            style=\"display:none;\">\n",
              "\n",
              "<svg xmlns=\"http://www.w3.org/2000/svg\" height=\"24px\"viewBox=\"0 0 24 24\"\n",
              "     width=\"24px\">\n",
              "    <g>\n",
              "        <path d=\"M19 3H5c-1.1 0-2 .9-2 2v14c0 1.1.9 2 2 2h14c1.1 0 2-.9 2-2V5c0-1.1-.9-2-2-2zM9 17H7v-7h2v7zm4 0h-2V7h2v10zm4 0h-2v-4h2v4z\"/>\n",
              "    </g>\n",
              "</svg>\n",
              "  </button>\n",
              "\n",
              "<style>\n",
              "  .colab-df-quickchart {\n",
              "      --bg-color: #E8F0FE;\n",
              "      --fill-color: #1967D2;\n",
              "      --hover-bg-color: #E2EBFA;\n",
              "      --hover-fill-color: #174EA6;\n",
              "      --disabled-fill-color: #AAA;\n",
              "      --disabled-bg-color: #DDD;\n",
              "  }\n",
              "\n",
              "  [theme=dark] .colab-df-quickchart {\n",
              "      --bg-color: #3B4455;\n",
              "      --fill-color: #D2E3FC;\n",
              "      --hover-bg-color: #434B5C;\n",
              "      --hover-fill-color: #FFFFFF;\n",
              "      --disabled-bg-color: #3B4455;\n",
              "      --disabled-fill-color: #666;\n",
              "  }\n",
              "\n",
              "  .colab-df-quickchart {\n",
              "    background-color: var(--bg-color);\n",
              "    border: none;\n",
              "    border-radius: 50%;\n",
              "    cursor: pointer;\n",
              "    display: none;\n",
              "    fill: var(--fill-color);\n",
              "    height: 32px;\n",
              "    padding: 0;\n",
              "    width: 32px;\n",
              "  }\n",
              "\n",
              "  .colab-df-quickchart:hover {\n",
              "    background-color: var(--hover-bg-color);\n",
              "    box-shadow: 0 1px 2px rgba(60, 64, 67, 0.3), 0 1px 3px 1px rgba(60, 64, 67, 0.15);\n",
              "    fill: var(--button-hover-fill-color);\n",
              "  }\n",
              "\n",
              "  .colab-df-quickchart-complete:disabled,\n",
              "  .colab-df-quickchart-complete:disabled:hover {\n",
              "    background-color: var(--disabled-bg-color);\n",
              "    fill: var(--disabled-fill-color);\n",
              "    box-shadow: none;\n",
              "  }\n",
              "\n",
              "  .colab-df-spinner {\n",
              "    border: 2px solid var(--fill-color);\n",
              "    border-color: transparent;\n",
              "    border-bottom-color: var(--fill-color);\n",
              "    animation:\n",
              "      spin 1s steps(1) infinite;\n",
              "  }\n",
              "\n",
              "  @keyframes spin {\n",
              "    0% {\n",
              "      border-color: transparent;\n",
              "      border-bottom-color: var(--fill-color);\n",
              "      border-left-color: var(--fill-color);\n",
              "    }\n",
              "    20% {\n",
              "      border-color: transparent;\n",
              "      border-left-color: var(--fill-color);\n",
              "      border-top-color: var(--fill-color);\n",
              "    }\n",
              "    30% {\n",
              "      border-color: transparent;\n",
              "      border-left-color: var(--fill-color);\n",
              "      border-top-color: var(--fill-color);\n",
              "      border-right-color: var(--fill-color);\n",
              "    }\n",
              "    40% {\n",
              "      border-color: transparent;\n",
              "      border-right-color: var(--fill-color);\n",
              "      border-top-color: var(--fill-color);\n",
              "    }\n",
              "    60% {\n",
              "      border-color: transparent;\n",
              "      border-right-color: var(--fill-color);\n",
              "    }\n",
              "    80% {\n",
              "      border-color: transparent;\n",
              "      border-right-color: var(--fill-color);\n",
              "      border-bottom-color: var(--fill-color);\n",
              "    }\n",
              "    90% {\n",
              "      border-color: transparent;\n",
              "      border-bottom-color: var(--fill-color);\n",
              "    }\n",
              "  }\n",
              "</style>\n",
              "\n",
              "  <script>\n",
              "    async function quickchart(key) {\n",
              "      const quickchartButtonEl =\n",
              "        document.querySelector('#' + key + ' button');\n",
              "      quickchartButtonEl.disabled = true;  // To prevent multiple clicks.\n",
              "      quickchartButtonEl.classList.add('colab-df-spinner');\n",
              "      try {\n",
              "        const charts = await google.colab.kernel.invokeFunction(\n",
              "            'suggestCharts', [key], {});\n",
              "      } catch (error) {\n",
              "        console.error('Error during call to suggestCharts:', error);\n",
              "      }\n",
              "      quickchartButtonEl.classList.remove('colab-df-spinner');\n",
              "      quickchartButtonEl.classList.add('colab-df-quickchart-complete');\n",
              "    }\n",
              "    (() => {\n",
              "      let quickchartButtonEl =\n",
              "        document.querySelector('#df-90842d51-2c58-4e92-9cce-452ceaea0f77 button');\n",
              "      quickchartButtonEl.style.display =\n",
              "        google.colab.kernel.accessAllowed ? 'block' : 'none';\n",
              "    })();\n",
              "  </script>\n",
              "</div>\n",
              "\n",
              "    </div>\n",
              "  </div>\n"
            ],
            "application/vnd.google.colaboratory.intrinsic+json": {
              "type": "dataframe",
              "variable_name": "train",
              "summary": "{\n  \"name\": \"train\",\n  \"rows\": 26049,\n  \"fields\": [\n    {\n      \"column\": \"id\",\n      \"properties\": {\n        \"dtype\": \"number\",\n        \"std\": 7519,\n        \"min\": 0,\n        \"max\": 26048,\n        \"num_unique_values\": 26049,\n        \"samples\": [\n          7792,\n          10861,\n          1668\n        ],\n        \"semantic_type\": \"\",\n        \"description\": \"\"\n      }\n    },\n    {\n      \"column\": \"age\",\n      \"properties\": {\n        \"dtype\": \"number\",\n        \"std\": 13,\n        \"min\": 17,\n        \"max\": 90,\n        \"num_unique_values\": 73,\n        \"samples\": [\n          24,\n          79,\n          31\n        ],\n        \"semantic_type\": \"\",\n        \"description\": \"\"\n      }\n    },\n    {\n      \"column\": \"workclass\",\n      \"properties\": {\n        \"dtype\": \"category\",\n        \"num_unique_values\": 9,\n        \"samples\": [\n          \"Without-pay\",\n          \"State-gov\",\n          \"Federal-gov\"\n        ],\n        \"semantic_type\": \"\",\n        \"description\": \"\"\n      }\n    },\n    {\n      \"column\": \"fnlwgt\",\n      \"properties\": {\n        \"dtype\": \"number\",\n        \"std\": 105966,\n        \"min\": 13769,\n        \"max\": 1484705,\n        \"num_unique_values\": 18422,\n        \"samples\": [\n          185800,\n          47541,\n          200790\n        ],\n        \"semantic_type\": \"\",\n        \"description\": \"\"\n      }\n    },\n    {\n      \"column\": \"education\",\n      \"properties\": {\n        \"dtype\": \"category\",\n        \"num_unique_values\": 16,\n        \"samples\": [\n          \"HS-grad\",\n          \"9th\",\n          \"1st-4th\"\n        ],\n        \"semantic_type\": \"\",\n        \"description\": \"\"\n      }\n    },\n    {\n      \"column\": \"education_num\",\n      \"properties\": {\n        \"dtype\": \"number\",\n        \"std\": 2,\n        \"min\": 1,\n        \"max\": 16,\n        \"num_unique_values\": 16,\n        \"samples\": [\n          9,\n          5,\n          2\n        ],\n        \"semantic_type\": \"\",\n        \"description\": \"\"\n      }\n    },\n    {\n      \"column\": \"marital_status\",\n      \"properties\": {\n        \"dtype\": \"category\",\n        \"num_unique_values\": 7,\n        \"samples\": [\n          \"Married-civ-spouse\",\n          \"Never-married\",\n          \"Widowed\"\n        ],\n        \"semantic_type\": \"\",\n        \"description\": \"\"\n      }\n    },\n    {\n      \"column\": \"occupation\",\n      \"properties\": {\n        \"dtype\": \"category\",\n        \"num_unique_values\": 15,\n        \"samples\": [\n          \"Exec-managerial\",\n          \"Protective-serv\",\n          \"Sales\"\n        ],\n        \"semantic_type\": \"\",\n        \"description\": \"\"\n      }\n    },\n    {\n      \"column\": \"relationship\",\n      \"properties\": {\n        \"dtype\": \"category\",\n        \"num_unique_values\": 6,\n        \"samples\": [\n          \"Husband\",\n          \"Own-child\",\n          \"Other-relative\"\n        ],\n        \"semantic_type\": \"\",\n        \"description\": \"\"\n      }\n    },\n    {\n      \"column\": \"race\",\n      \"properties\": {\n        \"dtype\": \"category\",\n        \"num_unique_values\": 5,\n        \"samples\": [\n          \"Black\",\n          \"Amer-Indian-Eskimo\",\n          \"Asian-Pac-Islander\"\n        ],\n        \"semantic_type\": \"\",\n        \"description\": \"\"\n      }\n    },\n    {\n      \"column\": \"sex\",\n      \"properties\": {\n        \"dtype\": \"category\",\n        \"num_unique_values\": 2,\n        \"samples\": [\n          \"Female\",\n          \"Male\"\n        ],\n        \"semantic_type\": \"\",\n        \"description\": \"\"\n      }\n    },\n    {\n      \"column\": \"capital_gain\",\n      \"properties\": {\n        \"dtype\": \"number\",\n        \"std\": 7388,\n        \"min\": 0,\n        \"max\": 99999,\n        \"num_unique_values\": 119,\n        \"samples\": [\n          6360,\n          3471\n        ],\n        \"semantic_type\": \"\",\n        \"description\": \"\"\n      }\n    },\n    {\n      \"column\": \"capital_loss\",\n      \"properties\": {\n        \"dtype\": \"number\",\n        \"std\": 403,\n        \"min\": 0,\n        \"max\": 4356,\n        \"num_unique_values\": 90,\n        \"samples\": [\n          2377,\n          2547\n        ],\n        \"semantic_type\": \"\",\n        \"description\": \"\"\n      }\n    },\n    {\n      \"column\": \"hours_per_week\",\n      \"properties\": {\n        \"dtype\": \"number\",\n        \"std\": 12,\n        \"min\": 1,\n        \"max\": 99,\n        \"num_unique_values\": 93,\n        \"samples\": [\n          90,\n          70\n        ],\n        \"semantic_type\": \"\",\n        \"description\": \"\"\n      }\n    },\n    {\n      \"column\": \"native_country\",\n      \"properties\": {\n        \"dtype\": \"category\",\n        \"num_unique_values\": 41,\n        \"samples\": [\n          \"England\",\n          \"Haiti\"\n        ],\n        \"semantic_type\": \"\",\n        \"description\": \"\"\n      }\n    },\n    {\n      \"column\": \"income\",\n      \"properties\": {\n        \"dtype\": \"category\",\n        \"num_unique_values\": 2,\n        \"samples\": [\n          \"<=50K\",\n          \">50K\"\n        ],\n        \"semantic_type\": \"\",\n        \"description\": \"\"\n      }\n    }\n  ]\n}"
            }
          },
          "metadata": {},
          "execution_count": 144
        }
      ]
    },
    {
      "cell_type": "code",
      "source": [
        "test.head()"
      ],
      "metadata": {
        "colab": {
          "base_uri": "https://localhost:8080/",
          "height": 206
        },
        "id": "zptXAHINw-r2",
        "outputId": "908a5e80-15a7-4408-9bdd-33af08b62f0b"
      },
      "execution_count": 145,
      "outputs": [
        {
          "output_type": "execute_result",
          "data": {
            "text/plain": [
              "   id  age     workclass  fnlwgt     education  education_num  \\\n",
              "0   0   28       Private   67661  Some-college             10   \n",
              "1   1   40  Self-emp-inc   37869       HS-grad              9   \n",
              "2   2   20       Private  109952  Some-college             10   \n",
              "3   3   40       Private  114537     Assoc-voc             11   \n",
              "4   4   37       Private   51264     Doctorate             16   \n",
              "\n",
              "       marital_status         occupation    relationship   race     sex  \\\n",
              "0       Never-married       Adm-clerical  Other-relative  White  Female   \n",
              "1  Married-civ-spouse    Exec-managerial         Husband  White    Male   \n",
              "2       Never-married  Handlers-cleaners       Own-child  White    Male   \n",
              "3  Married-civ-spouse    Exec-managerial         Husband  White    Male   \n",
              "4  Married-civ-spouse     Prof-specialty         Husband  White    Male   \n",
              "\n",
              "   capital_gain  capital_loss  hours_per_week native_country  \n",
              "0             0             0              40  United-States  \n",
              "1             0             0              50  United-States  \n",
              "2             0             0              25  United-States  \n",
              "3             0             0              50  United-States  \n",
              "4             0             0              99         France  "
            ],
            "text/html": [
              "\n",
              "  <div id=\"df-ee6c9fca-eb45-4bb6-aee7-3ca5dfcfe26d\" class=\"colab-df-container\">\n",
              "    <div>\n",
              "<style scoped>\n",
              "    .dataframe tbody tr th:only-of-type {\n",
              "        vertical-align: middle;\n",
              "    }\n",
              "\n",
              "    .dataframe tbody tr th {\n",
              "        vertical-align: top;\n",
              "    }\n",
              "\n",
              "    .dataframe thead th {\n",
              "        text-align: right;\n",
              "    }\n",
              "</style>\n",
              "<table border=\"1\" class=\"dataframe\">\n",
              "  <thead>\n",
              "    <tr style=\"text-align: right;\">\n",
              "      <th></th>\n",
              "      <th>id</th>\n",
              "      <th>age</th>\n",
              "      <th>workclass</th>\n",
              "      <th>fnlwgt</th>\n",
              "      <th>education</th>\n",
              "      <th>education_num</th>\n",
              "      <th>marital_status</th>\n",
              "      <th>occupation</th>\n",
              "      <th>relationship</th>\n",
              "      <th>race</th>\n",
              "      <th>sex</th>\n",
              "      <th>capital_gain</th>\n",
              "      <th>capital_loss</th>\n",
              "      <th>hours_per_week</th>\n",
              "      <th>native_country</th>\n",
              "    </tr>\n",
              "  </thead>\n",
              "  <tbody>\n",
              "    <tr>\n",
              "      <th>0</th>\n",
              "      <td>0</td>\n",
              "      <td>28</td>\n",
              "      <td>Private</td>\n",
              "      <td>67661</td>\n",
              "      <td>Some-college</td>\n",
              "      <td>10</td>\n",
              "      <td>Never-married</td>\n",
              "      <td>Adm-clerical</td>\n",
              "      <td>Other-relative</td>\n",
              "      <td>White</td>\n",
              "      <td>Female</td>\n",
              "      <td>0</td>\n",
              "      <td>0</td>\n",
              "      <td>40</td>\n",
              "      <td>United-States</td>\n",
              "    </tr>\n",
              "    <tr>\n",
              "      <th>1</th>\n",
              "      <td>1</td>\n",
              "      <td>40</td>\n",
              "      <td>Self-emp-inc</td>\n",
              "      <td>37869</td>\n",
              "      <td>HS-grad</td>\n",
              "      <td>9</td>\n",
              "      <td>Married-civ-spouse</td>\n",
              "      <td>Exec-managerial</td>\n",
              "      <td>Husband</td>\n",
              "      <td>White</td>\n",
              "      <td>Male</td>\n",
              "      <td>0</td>\n",
              "      <td>0</td>\n",
              "      <td>50</td>\n",
              "      <td>United-States</td>\n",
              "    </tr>\n",
              "    <tr>\n",
              "      <th>2</th>\n",
              "      <td>2</td>\n",
              "      <td>20</td>\n",
              "      <td>Private</td>\n",
              "      <td>109952</td>\n",
              "      <td>Some-college</td>\n",
              "      <td>10</td>\n",
              "      <td>Never-married</td>\n",
              "      <td>Handlers-cleaners</td>\n",
              "      <td>Own-child</td>\n",
              "      <td>White</td>\n",
              "      <td>Male</td>\n",
              "      <td>0</td>\n",
              "      <td>0</td>\n",
              "      <td>25</td>\n",
              "      <td>United-States</td>\n",
              "    </tr>\n",
              "    <tr>\n",
              "      <th>3</th>\n",
              "      <td>3</td>\n",
              "      <td>40</td>\n",
              "      <td>Private</td>\n",
              "      <td>114537</td>\n",
              "      <td>Assoc-voc</td>\n",
              "      <td>11</td>\n",
              "      <td>Married-civ-spouse</td>\n",
              "      <td>Exec-managerial</td>\n",
              "      <td>Husband</td>\n",
              "      <td>White</td>\n",
              "      <td>Male</td>\n",
              "      <td>0</td>\n",
              "      <td>0</td>\n",
              "      <td>50</td>\n",
              "      <td>United-States</td>\n",
              "    </tr>\n",
              "    <tr>\n",
              "      <th>4</th>\n",
              "      <td>4</td>\n",
              "      <td>37</td>\n",
              "      <td>Private</td>\n",
              "      <td>51264</td>\n",
              "      <td>Doctorate</td>\n",
              "      <td>16</td>\n",
              "      <td>Married-civ-spouse</td>\n",
              "      <td>Prof-specialty</td>\n",
              "      <td>Husband</td>\n",
              "      <td>White</td>\n",
              "      <td>Male</td>\n",
              "      <td>0</td>\n",
              "      <td>0</td>\n",
              "      <td>99</td>\n",
              "      <td>France</td>\n",
              "    </tr>\n",
              "  </tbody>\n",
              "</table>\n",
              "</div>\n",
              "    <div class=\"colab-df-buttons\">\n",
              "\n",
              "  <div class=\"colab-df-container\">\n",
              "    <button class=\"colab-df-convert\" onclick=\"convertToInteractive('df-ee6c9fca-eb45-4bb6-aee7-3ca5dfcfe26d')\"\n",
              "            title=\"Convert this dataframe to an interactive table.\"\n",
              "            style=\"display:none;\">\n",
              "\n",
              "  <svg xmlns=\"http://www.w3.org/2000/svg\" height=\"24px\" viewBox=\"0 -960 960 960\">\n",
              "    <path d=\"M120-120v-720h720v720H120Zm60-500h600v-160H180v160Zm220 220h160v-160H400v160Zm0 220h160v-160H400v160ZM180-400h160v-160H180v160Zm440 0h160v-160H620v160ZM180-180h160v-160H180v160Zm440 0h160v-160H620v160Z\"/>\n",
              "  </svg>\n",
              "    </button>\n",
              "\n",
              "  <style>\n",
              "    .colab-df-container {\n",
              "      display:flex;\n",
              "      gap: 12px;\n",
              "    }\n",
              "\n",
              "    .colab-df-convert {\n",
              "      background-color: #E8F0FE;\n",
              "      border: none;\n",
              "      border-radius: 50%;\n",
              "      cursor: pointer;\n",
              "      display: none;\n",
              "      fill: #1967D2;\n",
              "      height: 32px;\n",
              "      padding: 0 0 0 0;\n",
              "      width: 32px;\n",
              "    }\n",
              "\n",
              "    .colab-df-convert:hover {\n",
              "      background-color: #E2EBFA;\n",
              "      box-shadow: 0px 1px 2px rgba(60, 64, 67, 0.3), 0px 1px 3px 1px rgba(60, 64, 67, 0.15);\n",
              "      fill: #174EA6;\n",
              "    }\n",
              "\n",
              "    .colab-df-buttons div {\n",
              "      margin-bottom: 4px;\n",
              "    }\n",
              "\n",
              "    [theme=dark] .colab-df-convert {\n",
              "      background-color: #3B4455;\n",
              "      fill: #D2E3FC;\n",
              "    }\n",
              "\n",
              "    [theme=dark] .colab-df-convert:hover {\n",
              "      background-color: #434B5C;\n",
              "      box-shadow: 0px 1px 3px 1px rgba(0, 0, 0, 0.15);\n",
              "      filter: drop-shadow(0px 1px 2px rgba(0, 0, 0, 0.3));\n",
              "      fill: #FFFFFF;\n",
              "    }\n",
              "  </style>\n",
              "\n",
              "    <script>\n",
              "      const buttonEl =\n",
              "        document.querySelector('#df-ee6c9fca-eb45-4bb6-aee7-3ca5dfcfe26d button.colab-df-convert');\n",
              "      buttonEl.style.display =\n",
              "        google.colab.kernel.accessAllowed ? 'block' : 'none';\n",
              "\n",
              "      async function convertToInteractive(key) {\n",
              "        const element = document.querySelector('#df-ee6c9fca-eb45-4bb6-aee7-3ca5dfcfe26d');\n",
              "        const dataTable =\n",
              "          await google.colab.kernel.invokeFunction('convertToInteractive',\n",
              "                                                    [key], {});\n",
              "        if (!dataTable) return;\n",
              "\n",
              "        const docLinkHtml = 'Like what you see? Visit the ' +\n",
              "          '<a target=\"_blank\" href=https://colab.research.google.com/notebooks/data_table.ipynb>data table notebook</a>'\n",
              "          + ' to learn more about interactive tables.';\n",
              "        element.innerHTML = '';\n",
              "        dataTable['output_type'] = 'display_data';\n",
              "        await google.colab.output.renderOutput(dataTable, element);\n",
              "        const docLink = document.createElement('div');\n",
              "        docLink.innerHTML = docLinkHtml;\n",
              "        element.appendChild(docLink);\n",
              "      }\n",
              "    </script>\n",
              "  </div>\n",
              "\n",
              "\n",
              "<div id=\"df-2d1648a0-66ee-4ae7-a705-26932a39a7fa\">\n",
              "  <button class=\"colab-df-quickchart\" onclick=\"quickchart('df-2d1648a0-66ee-4ae7-a705-26932a39a7fa')\"\n",
              "            title=\"Suggest charts\"\n",
              "            style=\"display:none;\">\n",
              "\n",
              "<svg xmlns=\"http://www.w3.org/2000/svg\" height=\"24px\"viewBox=\"0 0 24 24\"\n",
              "     width=\"24px\">\n",
              "    <g>\n",
              "        <path d=\"M19 3H5c-1.1 0-2 .9-2 2v14c0 1.1.9 2 2 2h14c1.1 0 2-.9 2-2V5c0-1.1-.9-2-2-2zM9 17H7v-7h2v7zm4 0h-2V7h2v10zm4 0h-2v-4h2v4z\"/>\n",
              "    </g>\n",
              "</svg>\n",
              "  </button>\n",
              "\n",
              "<style>\n",
              "  .colab-df-quickchart {\n",
              "      --bg-color: #E8F0FE;\n",
              "      --fill-color: #1967D2;\n",
              "      --hover-bg-color: #E2EBFA;\n",
              "      --hover-fill-color: #174EA6;\n",
              "      --disabled-fill-color: #AAA;\n",
              "      --disabled-bg-color: #DDD;\n",
              "  }\n",
              "\n",
              "  [theme=dark] .colab-df-quickchart {\n",
              "      --bg-color: #3B4455;\n",
              "      --fill-color: #D2E3FC;\n",
              "      --hover-bg-color: #434B5C;\n",
              "      --hover-fill-color: #FFFFFF;\n",
              "      --disabled-bg-color: #3B4455;\n",
              "      --disabled-fill-color: #666;\n",
              "  }\n",
              "\n",
              "  .colab-df-quickchart {\n",
              "    background-color: var(--bg-color);\n",
              "    border: none;\n",
              "    border-radius: 50%;\n",
              "    cursor: pointer;\n",
              "    display: none;\n",
              "    fill: var(--fill-color);\n",
              "    height: 32px;\n",
              "    padding: 0;\n",
              "    width: 32px;\n",
              "  }\n",
              "\n",
              "  .colab-df-quickchart:hover {\n",
              "    background-color: var(--hover-bg-color);\n",
              "    box-shadow: 0 1px 2px rgba(60, 64, 67, 0.3), 0 1px 3px 1px rgba(60, 64, 67, 0.15);\n",
              "    fill: var(--button-hover-fill-color);\n",
              "  }\n",
              "\n",
              "  .colab-df-quickchart-complete:disabled,\n",
              "  .colab-df-quickchart-complete:disabled:hover {\n",
              "    background-color: var(--disabled-bg-color);\n",
              "    fill: var(--disabled-fill-color);\n",
              "    box-shadow: none;\n",
              "  }\n",
              "\n",
              "  .colab-df-spinner {\n",
              "    border: 2px solid var(--fill-color);\n",
              "    border-color: transparent;\n",
              "    border-bottom-color: var(--fill-color);\n",
              "    animation:\n",
              "      spin 1s steps(1) infinite;\n",
              "  }\n",
              "\n",
              "  @keyframes spin {\n",
              "    0% {\n",
              "      border-color: transparent;\n",
              "      border-bottom-color: var(--fill-color);\n",
              "      border-left-color: var(--fill-color);\n",
              "    }\n",
              "    20% {\n",
              "      border-color: transparent;\n",
              "      border-left-color: var(--fill-color);\n",
              "      border-top-color: var(--fill-color);\n",
              "    }\n",
              "    30% {\n",
              "      border-color: transparent;\n",
              "      border-left-color: var(--fill-color);\n",
              "      border-top-color: var(--fill-color);\n",
              "      border-right-color: var(--fill-color);\n",
              "    }\n",
              "    40% {\n",
              "      border-color: transparent;\n",
              "      border-right-color: var(--fill-color);\n",
              "      border-top-color: var(--fill-color);\n",
              "    }\n",
              "    60% {\n",
              "      border-color: transparent;\n",
              "      border-right-color: var(--fill-color);\n",
              "    }\n",
              "    80% {\n",
              "      border-color: transparent;\n",
              "      border-right-color: var(--fill-color);\n",
              "      border-bottom-color: var(--fill-color);\n",
              "    }\n",
              "    90% {\n",
              "      border-color: transparent;\n",
              "      border-bottom-color: var(--fill-color);\n",
              "    }\n",
              "  }\n",
              "</style>\n",
              "\n",
              "  <script>\n",
              "    async function quickchart(key) {\n",
              "      const quickchartButtonEl =\n",
              "        document.querySelector('#' + key + ' button');\n",
              "      quickchartButtonEl.disabled = true;  // To prevent multiple clicks.\n",
              "      quickchartButtonEl.classList.add('colab-df-spinner');\n",
              "      try {\n",
              "        const charts = await google.colab.kernel.invokeFunction(\n",
              "            'suggestCharts', [key], {});\n",
              "      } catch (error) {\n",
              "        console.error('Error during call to suggestCharts:', error);\n",
              "      }\n",
              "      quickchartButtonEl.classList.remove('colab-df-spinner');\n",
              "      quickchartButtonEl.classList.add('colab-df-quickchart-complete');\n",
              "    }\n",
              "    (() => {\n",
              "      let quickchartButtonEl =\n",
              "        document.querySelector('#df-2d1648a0-66ee-4ae7-a705-26932a39a7fa button');\n",
              "      quickchartButtonEl.style.display =\n",
              "        google.colab.kernel.accessAllowed ? 'block' : 'none';\n",
              "    })();\n",
              "  </script>\n",
              "</div>\n",
              "\n",
              "    </div>\n",
              "  </div>\n"
            ],
            "application/vnd.google.colaboratory.intrinsic+json": {
              "type": "dataframe",
              "variable_name": "test",
              "summary": "{\n  \"name\": \"test\",\n  \"rows\": 6512,\n  \"fields\": [\n    {\n      \"column\": \"id\",\n      \"properties\": {\n        \"dtype\": \"number\",\n        \"std\": 1879,\n        \"min\": 0,\n        \"max\": 6511,\n        \"num_unique_values\": 6512,\n        \"samples\": [\n          1263,\n          3951,\n          6200\n        ],\n        \"semantic_type\": \"\",\n        \"description\": \"\"\n      }\n    },\n    {\n      \"column\": \"age\",\n      \"properties\": {\n        \"dtype\": \"number\",\n        \"std\": 13,\n        \"min\": 17,\n        \"max\": 90,\n        \"num_unique_values\": 70,\n        \"samples\": [\n          34,\n          28,\n          79\n        ],\n        \"semantic_type\": \"\",\n        \"description\": \"\"\n      }\n    },\n    {\n      \"column\": \"workclass\",\n      \"properties\": {\n        \"dtype\": \"category\",\n        \"num_unique_values\": 9,\n        \"samples\": [\n          \"Without-pay\",\n          \"Self-emp-inc\",\n          \"State-gov\"\n        ],\n        \"semantic_type\": \"\",\n        \"description\": \"\"\n      }\n    },\n    {\n      \"column\": \"fnlwgt\",\n      \"properties\": {\n        \"dtype\": \"number\",\n        \"std\": 103849,\n        \"min\": 12285,\n        \"max\": 1125613,\n        \"num_unique_values\": 5809,\n        \"samples\": [\n          196971,\n          167298,\n          389270\n        ],\n        \"semantic_type\": \"\",\n        \"description\": \"\"\n      }\n    },\n    {\n      \"column\": \"education\",\n      \"properties\": {\n        \"dtype\": \"category\",\n        \"num_unique_values\": 16,\n        \"samples\": [\n          \"Some-college\",\n          \"HS-grad\",\n          \"Assoc-acdm\"\n        ],\n        \"semantic_type\": \"\",\n        \"description\": \"\"\n      }\n    },\n    {\n      \"column\": \"education_num\",\n      \"properties\": {\n        \"dtype\": \"number\",\n        \"std\": 2,\n        \"min\": 1,\n        \"max\": 16,\n        \"num_unique_values\": 16,\n        \"samples\": [\n          10,\n          9,\n          12\n        ],\n        \"semantic_type\": \"\",\n        \"description\": \"\"\n      }\n    },\n    {\n      \"column\": \"marital_status\",\n      \"properties\": {\n        \"dtype\": \"category\",\n        \"num_unique_values\": 7,\n        \"samples\": [\n          \"Never-married\",\n          \"Married-civ-spouse\",\n          \"Separated\"\n        ],\n        \"semantic_type\": \"\",\n        \"description\": \"\"\n      }\n    },\n    {\n      \"column\": \"occupation\",\n      \"properties\": {\n        \"dtype\": \"category\",\n        \"num_unique_values\": 15,\n        \"samples\": [\n          \"Farming-fishing\",\n          \"Armed-Forces\",\n          \"Adm-clerical\"\n        ],\n        \"semantic_type\": \"\",\n        \"description\": \"\"\n      }\n    },\n    {\n      \"column\": \"relationship\",\n      \"properties\": {\n        \"dtype\": \"category\",\n        \"num_unique_values\": 6,\n        \"samples\": [\n          \"Other-relative\",\n          \"Husband\",\n          \"Wife\"\n        ],\n        \"semantic_type\": \"\",\n        \"description\": \"\"\n      }\n    },\n    {\n      \"column\": \"race\",\n      \"properties\": {\n        \"dtype\": \"category\",\n        \"num_unique_values\": 5,\n        \"samples\": [\n          \"Asian-Pac-Islander\",\n          \"Amer-Indian-Eskimo\",\n          \"Black\"\n        ],\n        \"semantic_type\": \"\",\n        \"description\": \"\"\n      }\n    },\n    {\n      \"column\": \"sex\",\n      \"properties\": {\n        \"dtype\": \"category\",\n        \"num_unique_values\": 2,\n        \"samples\": [\n          \"Male\",\n          \"Female\"\n        ],\n        \"semantic_type\": \"\",\n        \"description\": \"\"\n      }\n    },\n    {\n      \"column\": \"capital_gain\",\n      \"properties\": {\n        \"dtype\": \"number\",\n        \"std\": 7371,\n        \"min\": 0,\n        \"max\": 99999,\n        \"num_unique_values\": 91,\n        \"samples\": [\n          41310,\n          3674\n        ],\n        \"semantic_type\": \"\",\n        \"description\": \"\"\n      }\n    },\n    {\n      \"column\": \"capital_loss\",\n      \"properties\": {\n        \"dtype\": \"number\",\n        \"std\": 401,\n        \"min\": 0,\n        \"max\": 4356,\n        \"num_unique_values\": 61,\n        \"samples\": [\n          0,\n          2001\n        ],\n        \"semantic_type\": \"\",\n        \"description\": \"\"\n      }\n    },\n    {\n      \"column\": \"hours_per_week\",\n      \"properties\": {\n        \"dtype\": \"number\",\n        \"std\": 12,\n        \"min\": 1,\n        \"max\": 99,\n        \"num_unique_values\": 79,\n        \"samples\": [\n          56,\n          40\n        ],\n        \"semantic_type\": \"\",\n        \"description\": \"\"\n      }\n    },\n    {\n      \"column\": \"native_country\",\n      \"properties\": {\n        \"dtype\": \"category\",\n        \"num_unique_values\": 42,\n        \"samples\": [\n          \"Scotland\",\n          \"Canada\"\n        ],\n        \"semantic_type\": \"\",\n        \"description\": \"\"\n      }\n    }\n  ]\n}"
            }
          },
          "metadata": {},
          "execution_count": 145
        }
      ]
    },
    {
      "cell_type": "code",
      "source": [
        "train.shape, test.shape"
      ],
      "metadata": {
        "colab": {
          "base_uri": "https://localhost:8080/"
        },
        "id": "ACw5xIzEWQnn",
        "outputId": "fd4cb36f-237a-4aa8-ecb1-c6574ac7fa4c"
      },
      "execution_count": 146,
      "outputs": [
        {
          "output_type": "execute_result",
          "data": {
            "text/plain": [
              "((26049, 16), (6512, 15))"
            ]
          },
          "metadata": {},
          "execution_count": 146
        }
      ]
    },
    {
      "cell_type": "code",
      "source": [
        "print(train.info())\n",
        "\n",
        "print(\"-\" * 100)\n",
        "\n",
        "print(test.info())"
      ],
      "metadata": {
        "colab": {
          "base_uri": "https://localhost:8080/"
        },
        "id": "YR8KIUayxGZG",
        "outputId": "9b37dc88-abad-414d-e4c1-e1641fa09c21"
      },
      "execution_count": 147,
      "outputs": [
        {
          "output_type": "stream",
          "name": "stdout",
          "text": [
            "<class 'pandas.core.frame.DataFrame'>\n",
            "RangeIndex: 26049 entries, 0 to 26048\n",
            "Data columns (total 16 columns):\n",
            " #   Column          Non-Null Count  Dtype \n",
            "---  ------          --------------  ----- \n",
            " 0   id              26049 non-null  int64 \n",
            " 1   age             26049 non-null  int64 \n",
            " 2   workclass       26049 non-null  object\n",
            " 3   fnlwgt          26049 non-null  int64 \n",
            " 4   education       26049 non-null  object\n",
            " 5   education_num   26049 non-null  int64 \n",
            " 6   marital_status  26049 non-null  object\n",
            " 7   occupation      26049 non-null  object\n",
            " 8   relationship    26049 non-null  object\n",
            " 9   race            26049 non-null  object\n",
            " 10  sex             26049 non-null  object\n",
            " 11  capital_gain    26049 non-null  int64 \n",
            " 12  capital_loss    26049 non-null  int64 \n",
            " 13  hours_per_week  26049 non-null  int64 \n",
            " 14  native_country  26049 non-null  object\n",
            " 15  income          26049 non-null  object\n",
            "dtypes: int64(7), object(9)\n",
            "memory usage: 3.2+ MB\n",
            "None\n",
            "----------------------------------------------------------------------------------------------------\n",
            "<class 'pandas.core.frame.DataFrame'>\n",
            "RangeIndex: 6512 entries, 0 to 6511\n",
            "Data columns (total 15 columns):\n",
            " #   Column          Non-Null Count  Dtype \n",
            "---  ------          --------------  ----- \n",
            " 0   id              6512 non-null   int64 \n",
            " 1   age             6512 non-null   int64 \n",
            " 2   workclass       6512 non-null   object\n",
            " 3   fnlwgt          6512 non-null   int64 \n",
            " 4   education       6512 non-null   object\n",
            " 5   education_num   6512 non-null   int64 \n",
            " 6   marital_status  6512 non-null   object\n",
            " 7   occupation      6512 non-null   object\n",
            " 8   relationship    6512 non-null   object\n",
            " 9   race            6512 non-null   object\n",
            " 10  sex             6512 non-null   object\n",
            " 11  capital_gain    6512 non-null   int64 \n",
            " 12  capital_loss    6512 non-null   int64 \n",
            " 13  hours_per_week  6512 non-null   int64 \n",
            " 14  native_country  6512 non-null   object\n",
            "dtypes: int64(7), object(8)\n",
            "memory usage: 763.2+ KB\n",
            "None\n"
          ]
        }
      ]
    },
    {
      "cell_type": "code",
      "source": [
        "train.describe(include='O')"
      ],
      "metadata": {
        "id": "DAxJ2Lwyq2tl"
      },
      "execution_count": null,
      "outputs": []
    },
    {
      "cell_type": "markdown",
      "source": [
        "### 2.2 결측치, 이상치 Check"
      ],
      "metadata": {
        "id": "gwdleqMlMJfk"
      }
    },
    {
      "cell_type": "markdown",
      "source": [
        "위 과정에서 데이터 타입과 칼럼 구성을 알아보았습니다.\n",
        "\n",
        "그렇다면 결측치, 이상치의 존재여부를 조사하기 위해 각 칼럼의 값들을 탐색하였습니다."
      ],
      "metadata": {
        "id": "IwNxG8n0Ljaa"
      }
    },
    {
      "cell_type": "code",
      "source": [
        "num_null = train.isnull().sum()\n",
        "percent = (train.isnull().sum() / train.isnull().count() * 100)\n",
        "\n",
        "pd.concat([num_null, percent], axis=1, keys=['num_null', 'percent']).sort_values(by='percent', ascending=False)"
      ],
      "metadata": {
        "colab": {
          "base_uri": "https://localhost:8080/",
          "height": 551
        },
        "id": "hlWFcFORnm_F",
        "outputId": "ce8fe67d-550e-4c13-f342-a0c96d11f933"
      },
      "execution_count": 148,
      "outputs": [
        {
          "output_type": "execute_result",
          "data": {
            "text/plain": [
              "                num_null  percent\n",
              "id                     0      0.0\n",
              "age                    0      0.0\n",
              "workclass              0      0.0\n",
              "fnlwgt                 0      0.0\n",
              "education              0      0.0\n",
              "education_num          0      0.0\n",
              "marital_status         0      0.0\n",
              "occupation             0      0.0\n",
              "relationship           0      0.0\n",
              "race                   0      0.0\n",
              "sex                    0      0.0\n",
              "capital_gain           0      0.0\n",
              "capital_loss           0      0.0\n",
              "hours_per_week         0      0.0\n",
              "native_country         0      0.0\n",
              "income                 0      0.0"
            ],
            "text/html": [
              "\n",
              "  <div id=\"df-23feac19-e8a9-4c67-b734-b1272301c67a\" class=\"colab-df-container\">\n",
              "    <div>\n",
              "<style scoped>\n",
              "    .dataframe tbody tr th:only-of-type {\n",
              "        vertical-align: middle;\n",
              "    }\n",
              "\n",
              "    .dataframe tbody tr th {\n",
              "        vertical-align: top;\n",
              "    }\n",
              "\n",
              "    .dataframe thead th {\n",
              "        text-align: right;\n",
              "    }\n",
              "</style>\n",
              "<table border=\"1\" class=\"dataframe\">\n",
              "  <thead>\n",
              "    <tr style=\"text-align: right;\">\n",
              "      <th></th>\n",
              "      <th>num_null</th>\n",
              "      <th>percent</th>\n",
              "    </tr>\n",
              "  </thead>\n",
              "  <tbody>\n",
              "    <tr>\n",
              "      <th>id</th>\n",
              "      <td>0</td>\n",
              "      <td>0.0</td>\n",
              "    </tr>\n",
              "    <tr>\n",
              "      <th>age</th>\n",
              "      <td>0</td>\n",
              "      <td>0.0</td>\n",
              "    </tr>\n",
              "    <tr>\n",
              "      <th>workclass</th>\n",
              "      <td>0</td>\n",
              "      <td>0.0</td>\n",
              "    </tr>\n",
              "    <tr>\n",
              "      <th>fnlwgt</th>\n",
              "      <td>0</td>\n",
              "      <td>0.0</td>\n",
              "    </tr>\n",
              "    <tr>\n",
              "      <th>education</th>\n",
              "      <td>0</td>\n",
              "      <td>0.0</td>\n",
              "    </tr>\n",
              "    <tr>\n",
              "      <th>education_num</th>\n",
              "      <td>0</td>\n",
              "      <td>0.0</td>\n",
              "    </tr>\n",
              "    <tr>\n",
              "      <th>marital_status</th>\n",
              "      <td>0</td>\n",
              "      <td>0.0</td>\n",
              "    </tr>\n",
              "    <tr>\n",
              "      <th>occupation</th>\n",
              "      <td>0</td>\n",
              "      <td>0.0</td>\n",
              "    </tr>\n",
              "    <tr>\n",
              "      <th>relationship</th>\n",
              "      <td>0</td>\n",
              "      <td>0.0</td>\n",
              "    </tr>\n",
              "    <tr>\n",
              "      <th>race</th>\n",
              "      <td>0</td>\n",
              "      <td>0.0</td>\n",
              "    </tr>\n",
              "    <tr>\n",
              "      <th>sex</th>\n",
              "      <td>0</td>\n",
              "      <td>0.0</td>\n",
              "    </tr>\n",
              "    <tr>\n",
              "      <th>capital_gain</th>\n",
              "      <td>0</td>\n",
              "      <td>0.0</td>\n",
              "    </tr>\n",
              "    <tr>\n",
              "      <th>capital_loss</th>\n",
              "      <td>0</td>\n",
              "      <td>0.0</td>\n",
              "    </tr>\n",
              "    <tr>\n",
              "      <th>hours_per_week</th>\n",
              "      <td>0</td>\n",
              "      <td>0.0</td>\n",
              "    </tr>\n",
              "    <tr>\n",
              "      <th>native_country</th>\n",
              "      <td>0</td>\n",
              "      <td>0.0</td>\n",
              "    </tr>\n",
              "    <tr>\n",
              "      <th>income</th>\n",
              "      <td>0</td>\n",
              "      <td>0.0</td>\n",
              "    </tr>\n",
              "  </tbody>\n",
              "</table>\n",
              "</div>\n",
              "    <div class=\"colab-df-buttons\">\n",
              "\n",
              "  <div class=\"colab-df-container\">\n",
              "    <button class=\"colab-df-convert\" onclick=\"convertToInteractive('df-23feac19-e8a9-4c67-b734-b1272301c67a')\"\n",
              "            title=\"Convert this dataframe to an interactive table.\"\n",
              "            style=\"display:none;\">\n",
              "\n",
              "  <svg xmlns=\"http://www.w3.org/2000/svg\" height=\"24px\" viewBox=\"0 -960 960 960\">\n",
              "    <path d=\"M120-120v-720h720v720H120Zm60-500h600v-160H180v160Zm220 220h160v-160H400v160Zm0 220h160v-160H400v160ZM180-400h160v-160H180v160Zm440 0h160v-160H620v160ZM180-180h160v-160H180v160Zm440 0h160v-160H620v160Z\"/>\n",
              "  </svg>\n",
              "    </button>\n",
              "\n",
              "  <style>\n",
              "    .colab-df-container {\n",
              "      display:flex;\n",
              "      gap: 12px;\n",
              "    }\n",
              "\n",
              "    .colab-df-convert {\n",
              "      background-color: #E8F0FE;\n",
              "      border: none;\n",
              "      border-radius: 50%;\n",
              "      cursor: pointer;\n",
              "      display: none;\n",
              "      fill: #1967D2;\n",
              "      height: 32px;\n",
              "      padding: 0 0 0 0;\n",
              "      width: 32px;\n",
              "    }\n",
              "\n",
              "    .colab-df-convert:hover {\n",
              "      background-color: #E2EBFA;\n",
              "      box-shadow: 0px 1px 2px rgba(60, 64, 67, 0.3), 0px 1px 3px 1px rgba(60, 64, 67, 0.15);\n",
              "      fill: #174EA6;\n",
              "    }\n",
              "\n",
              "    .colab-df-buttons div {\n",
              "      margin-bottom: 4px;\n",
              "    }\n",
              "\n",
              "    [theme=dark] .colab-df-convert {\n",
              "      background-color: #3B4455;\n",
              "      fill: #D2E3FC;\n",
              "    }\n",
              "\n",
              "    [theme=dark] .colab-df-convert:hover {\n",
              "      background-color: #434B5C;\n",
              "      box-shadow: 0px 1px 3px 1px rgba(0, 0, 0, 0.15);\n",
              "      filter: drop-shadow(0px 1px 2px rgba(0, 0, 0, 0.3));\n",
              "      fill: #FFFFFF;\n",
              "    }\n",
              "  </style>\n",
              "\n",
              "    <script>\n",
              "      const buttonEl =\n",
              "        document.querySelector('#df-23feac19-e8a9-4c67-b734-b1272301c67a button.colab-df-convert');\n",
              "      buttonEl.style.display =\n",
              "        google.colab.kernel.accessAllowed ? 'block' : 'none';\n",
              "\n",
              "      async function convertToInteractive(key) {\n",
              "        const element = document.querySelector('#df-23feac19-e8a9-4c67-b734-b1272301c67a');\n",
              "        const dataTable =\n",
              "          await google.colab.kernel.invokeFunction('convertToInteractive',\n",
              "                                                    [key], {});\n",
              "        if (!dataTable) return;\n",
              "\n",
              "        const docLinkHtml = 'Like what you see? Visit the ' +\n",
              "          '<a target=\"_blank\" href=https://colab.research.google.com/notebooks/data_table.ipynb>data table notebook</a>'\n",
              "          + ' to learn more about interactive tables.';\n",
              "        element.innerHTML = '';\n",
              "        dataTable['output_type'] = 'display_data';\n",
              "        await google.colab.output.renderOutput(dataTable, element);\n",
              "        const docLink = document.createElement('div');\n",
              "        docLink.innerHTML = docLinkHtml;\n",
              "        element.appendChild(docLink);\n",
              "      }\n",
              "    </script>\n",
              "  </div>\n",
              "\n",
              "\n",
              "<div id=\"df-fe2fda20-cd5d-4071-a719-fea1ed1093b5\">\n",
              "  <button class=\"colab-df-quickchart\" onclick=\"quickchart('df-fe2fda20-cd5d-4071-a719-fea1ed1093b5')\"\n",
              "            title=\"Suggest charts\"\n",
              "            style=\"display:none;\">\n",
              "\n",
              "<svg xmlns=\"http://www.w3.org/2000/svg\" height=\"24px\"viewBox=\"0 0 24 24\"\n",
              "     width=\"24px\">\n",
              "    <g>\n",
              "        <path d=\"M19 3H5c-1.1 0-2 .9-2 2v14c0 1.1.9 2 2 2h14c1.1 0 2-.9 2-2V5c0-1.1-.9-2-2-2zM9 17H7v-7h2v7zm4 0h-2V7h2v10zm4 0h-2v-4h2v4z\"/>\n",
              "    </g>\n",
              "</svg>\n",
              "  </button>\n",
              "\n",
              "<style>\n",
              "  .colab-df-quickchart {\n",
              "      --bg-color: #E8F0FE;\n",
              "      --fill-color: #1967D2;\n",
              "      --hover-bg-color: #E2EBFA;\n",
              "      --hover-fill-color: #174EA6;\n",
              "      --disabled-fill-color: #AAA;\n",
              "      --disabled-bg-color: #DDD;\n",
              "  }\n",
              "\n",
              "  [theme=dark] .colab-df-quickchart {\n",
              "      --bg-color: #3B4455;\n",
              "      --fill-color: #D2E3FC;\n",
              "      --hover-bg-color: #434B5C;\n",
              "      --hover-fill-color: #FFFFFF;\n",
              "      --disabled-bg-color: #3B4455;\n",
              "      --disabled-fill-color: #666;\n",
              "  }\n",
              "\n",
              "  .colab-df-quickchart {\n",
              "    background-color: var(--bg-color);\n",
              "    border: none;\n",
              "    border-radius: 50%;\n",
              "    cursor: pointer;\n",
              "    display: none;\n",
              "    fill: var(--fill-color);\n",
              "    height: 32px;\n",
              "    padding: 0;\n",
              "    width: 32px;\n",
              "  }\n",
              "\n",
              "  .colab-df-quickchart:hover {\n",
              "    background-color: var(--hover-bg-color);\n",
              "    box-shadow: 0 1px 2px rgba(60, 64, 67, 0.3), 0 1px 3px 1px rgba(60, 64, 67, 0.15);\n",
              "    fill: var(--button-hover-fill-color);\n",
              "  }\n",
              "\n",
              "  .colab-df-quickchart-complete:disabled,\n",
              "  .colab-df-quickchart-complete:disabled:hover {\n",
              "    background-color: var(--disabled-bg-color);\n",
              "    fill: var(--disabled-fill-color);\n",
              "    box-shadow: none;\n",
              "  }\n",
              "\n",
              "  .colab-df-spinner {\n",
              "    border: 2px solid var(--fill-color);\n",
              "    border-color: transparent;\n",
              "    border-bottom-color: var(--fill-color);\n",
              "    animation:\n",
              "      spin 1s steps(1) infinite;\n",
              "  }\n",
              "\n",
              "  @keyframes spin {\n",
              "    0% {\n",
              "      border-color: transparent;\n",
              "      border-bottom-color: var(--fill-color);\n",
              "      border-left-color: var(--fill-color);\n",
              "    }\n",
              "    20% {\n",
              "      border-color: transparent;\n",
              "      border-left-color: var(--fill-color);\n",
              "      border-top-color: var(--fill-color);\n",
              "    }\n",
              "    30% {\n",
              "      border-color: transparent;\n",
              "      border-left-color: var(--fill-color);\n",
              "      border-top-color: var(--fill-color);\n",
              "      border-right-color: var(--fill-color);\n",
              "    }\n",
              "    40% {\n",
              "      border-color: transparent;\n",
              "      border-right-color: var(--fill-color);\n",
              "      border-top-color: var(--fill-color);\n",
              "    }\n",
              "    60% {\n",
              "      border-color: transparent;\n",
              "      border-right-color: var(--fill-color);\n",
              "    }\n",
              "    80% {\n",
              "      border-color: transparent;\n",
              "      border-right-color: var(--fill-color);\n",
              "      border-bottom-color: var(--fill-color);\n",
              "    }\n",
              "    90% {\n",
              "      border-color: transparent;\n",
              "      border-bottom-color: var(--fill-color);\n",
              "    }\n",
              "  }\n",
              "</style>\n",
              "\n",
              "  <script>\n",
              "    async function quickchart(key) {\n",
              "      const quickchartButtonEl =\n",
              "        document.querySelector('#' + key + ' button');\n",
              "      quickchartButtonEl.disabled = true;  // To prevent multiple clicks.\n",
              "      quickchartButtonEl.classList.add('colab-df-spinner');\n",
              "      try {\n",
              "        const charts = await google.colab.kernel.invokeFunction(\n",
              "            'suggestCharts', [key], {});\n",
              "      } catch (error) {\n",
              "        console.error('Error during call to suggestCharts:', error);\n",
              "      }\n",
              "      quickchartButtonEl.classList.remove('colab-df-spinner');\n",
              "      quickchartButtonEl.classList.add('colab-df-quickchart-complete');\n",
              "    }\n",
              "    (() => {\n",
              "      let quickchartButtonEl =\n",
              "        document.querySelector('#df-fe2fda20-cd5d-4071-a719-fea1ed1093b5 button');\n",
              "      quickchartButtonEl.style.display =\n",
              "        google.colab.kernel.accessAllowed ? 'block' : 'none';\n",
              "    })();\n",
              "  </script>\n",
              "</div>\n",
              "\n",
              "    </div>\n",
              "  </div>\n"
            ],
            "application/vnd.google.colaboratory.intrinsic+json": {
              "type": "dataframe",
              "summary": "{\n  \"name\": \"pd\",\n  \"rows\": 16,\n  \"fields\": [\n    {\n      \"column\": \"num_null\",\n      \"properties\": {\n        \"dtype\": \"number\",\n        \"std\": 0,\n        \"min\": 0,\n        \"max\": 0,\n        \"num_unique_values\": 1,\n        \"samples\": [\n          0\n        ],\n        \"semantic_type\": \"\",\n        \"description\": \"\"\n      }\n    },\n    {\n      \"column\": \"percent\",\n      \"properties\": {\n        \"dtype\": \"number\",\n        \"std\": 0.0,\n        \"min\": 0.0,\n        \"max\": 0.0,\n        \"num_unique_values\": 1,\n        \"samples\": [\n          0.0\n        ],\n        \"semantic_type\": \"\",\n        \"description\": \"\"\n      }\n    }\n  ]\n}"
            }
          },
          "metadata": {},
          "execution_count": 148
        }
      ]
    },
    {
      "cell_type": "code",
      "source": [
        "num_null = test.isnull().sum()\n",
        "percent = (test.isnull().sum() / test.isnull().count() * 100)\n",
        "\n",
        "pd.concat([num_null, percent], axis=1, keys=['num_null', 'percent']).sort_values(by='percent', ascending=False)"
      ],
      "metadata": {
        "colab": {
          "base_uri": "https://localhost:8080/",
          "height": 520
        },
        "id": "6twSkiZeveeh",
        "outputId": "69c6a969-1049-4fb0-8cf3-144949f4696f"
      },
      "execution_count": 149,
      "outputs": [
        {
          "output_type": "execute_result",
          "data": {
            "text/plain": [
              "                num_null  percent\n",
              "id                     0      0.0\n",
              "age                    0      0.0\n",
              "workclass              0      0.0\n",
              "fnlwgt                 0      0.0\n",
              "education              0      0.0\n",
              "education_num          0      0.0\n",
              "marital_status         0      0.0\n",
              "occupation             0      0.0\n",
              "relationship           0      0.0\n",
              "race                   0      0.0\n",
              "sex                    0      0.0\n",
              "capital_gain           0      0.0\n",
              "capital_loss           0      0.0\n",
              "hours_per_week         0      0.0\n",
              "native_country         0      0.0"
            ],
            "text/html": [
              "\n",
              "  <div id=\"df-d84659ae-ebd4-4b48-b8d0-accf7d21144e\" class=\"colab-df-container\">\n",
              "    <div>\n",
              "<style scoped>\n",
              "    .dataframe tbody tr th:only-of-type {\n",
              "        vertical-align: middle;\n",
              "    }\n",
              "\n",
              "    .dataframe tbody tr th {\n",
              "        vertical-align: top;\n",
              "    }\n",
              "\n",
              "    .dataframe thead th {\n",
              "        text-align: right;\n",
              "    }\n",
              "</style>\n",
              "<table border=\"1\" class=\"dataframe\">\n",
              "  <thead>\n",
              "    <tr style=\"text-align: right;\">\n",
              "      <th></th>\n",
              "      <th>num_null</th>\n",
              "      <th>percent</th>\n",
              "    </tr>\n",
              "  </thead>\n",
              "  <tbody>\n",
              "    <tr>\n",
              "      <th>id</th>\n",
              "      <td>0</td>\n",
              "      <td>0.0</td>\n",
              "    </tr>\n",
              "    <tr>\n",
              "      <th>age</th>\n",
              "      <td>0</td>\n",
              "      <td>0.0</td>\n",
              "    </tr>\n",
              "    <tr>\n",
              "      <th>workclass</th>\n",
              "      <td>0</td>\n",
              "      <td>0.0</td>\n",
              "    </tr>\n",
              "    <tr>\n",
              "      <th>fnlwgt</th>\n",
              "      <td>0</td>\n",
              "      <td>0.0</td>\n",
              "    </tr>\n",
              "    <tr>\n",
              "      <th>education</th>\n",
              "      <td>0</td>\n",
              "      <td>0.0</td>\n",
              "    </tr>\n",
              "    <tr>\n",
              "      <th>education_num</th>\n",
              "      <td>0</td>\n",
              "      <td>0.0</td>\n",
              "    </tr>\n",
              "    <tr>\n",
              "      <th>marital_status</th>\n",
              "      <td>0</td>\n",
              "      <td>0.0</td>\n",
              "    </tr>\n",
              "    <tr>\n",
              "      <th>occupation</th>\n",
              "      <td>0</td>\n",
              "      <td>0.0</td>\n",
              "    </tr>\n",
              "    <tr>\n",
              "      <th>relationship</th>\n",
              "      <td>0</td>\n",
              "      <td>0.0</td>\n",
              "    </tr>\n",
              "    <tr>\n",
              "      <th>race</th>\n",
              "      <td>0</td>\n",
              "      <td>0.0</td>\n",
              "    </tr>\n",
              "    <tr>\n",
              "      <th>sex</th>\n",
              "      <td>0</td>\n",
              "      <td>0.0</td>\n",
              "    </tr>\n",
              "    <tr>\n",
              "      <th>capital_gain</th>\n",
              "      <td>0</td>\n",
              "      <td>0.0</td>\n",
              "    </tr>\n",
              "    <tr>\n",
              "      <th>capital_loss</th>\n",
              "      <td>0</td>\n",
              "      <td>0.0</td>\n",
              "    </tr>\n",
              "    <tr>\n",
              "      <th>hours_per_week</th>\n",
              "      <td>0</td>\n",
              "      <td>0.0</td>\n",
              "    </tr>\n",
              "    <tr>\n",
              "      <th>native_country</th>\n",
              "      <td>0</td>\n",
              "      <td>0.0</td>\n",
              "    </tr>\n",
              "  </tbody>\n",
              "</table>\n",
              "</div>\n",
              "    <div class=\"colab-df-buttons\">\n",
              "\n",
              "  <div class=\"colab-df-container\">\n",
              "    <button class=\"colab-df-convert\" onclick=\"convertToInteractive('df-d84659ae-ebd4-4b48-b8d0-accf7d21144e')\"\n",
              "            title=\"Convert this dataframe to an interactive table.\"\n",
              "            style=\"display:none;\">\n",
              "\n",
              "  <svg xmlns=\"http://www.w3.org/2000/svg\" height=\"24px\" viewBox=\"0 -960 960 960\">\n",
              "    <path d=\"M120-120v-720h720v720H120Zm60-500h600v-160H180v160Zm220 220h160v-160H400v160Zm0 220h160v-160H400v160ZM180-400h160v-160H180v160Zm440 0h160v-160H620v160ZM180-180h160v-160H180v160Zm440 0h160v-160H620v160Z\"/>\n",
              "  </svg>\n",
              "    </button>\n",
              "\n",
              "  <style>\n",
              "    .colab-df-container {\n",
              "      display:flex;\n",
              "      gap: 12px;\n",
              "    }\n",
              "\n",
              "    .colab-df-convert {\n",
              "      background-color: #E8F0FE;\n",
              "      border: none;\n",
              "      border-radius: 50%;\n",
              "      cursor: pointer;\n",
              "      display: none;\n",
              "      fill: #1967D2;\n",
              "      height: 32px;\n",
              "      padding: 0 0 0 0;\n",
              "      width: 32px;\n",
              "    }\n",
              "\n",
              "    .colab-df-convert:hover {\n",
              "      background-color: #E2EBFA;\n",
              "      box-shadow: 0px 1px 2px rgba(60, 64, 67, 0.3), 0px 1px 3px 1px rgba(60, 64, 67, 0.15);\n",
              "      fill: #174EA6;\n",
              "    }\n",
              "\n",
              "    .colab-df-buttons div {\n",
              "      margin-bottom: 4px;\n",
              "    }\n",
              "\n",
              "    [theme=dark] .colab-df-convert {\n",
              "      background-color: #3B4455;\n",
              "      fill: #D2E3FC;\n",
              "    }\n",
              "\n",
              "    [theme=dark] .colab-df-convert:hover {\n",
              "      background-color: #434B5C;\n",
              "      box-shadow: 0px 1px 3px 1px rgba(0, 0, 0, 0.15);\n",
              "      filter: drop-shadow(0px 1px 2px rgba(0, 0, 0, 0.3));\n",
              "      fill: #FFFFFF;\n",
              "    }\n",
              "  </style>\n",
              "\n",
              "    <script>\n",
              "      const buttonEl =\n",
              "        document.querySelector('#df-d84659ae-ebd4-4b48-b8d0-accf7d21144e button.colab-df-convert');\n",
              "      buttonEl.style.display =\n",
              "        google.colab.kernel.accessAllowed ? 'block' : 'none';\n",
              "\n",
              "      async function convertToInteractive(key) {\n",
              "        const element = document.querySelector('#df-d84659ae-ebd4-4b48-b8d0-accf7d21144e');\n",
              "        const dataTable =\n",
              "          await google.colab.kernel.invokeFunction('convertToInteractive',\n",
              "                                                    [key], {});\n",
              "        if (!dataTable) return;\n",
              "\n",
              "        const docLinkHtml = 'Like what you see? Visit the ' +\n",
              "          '<a target=\"_blank\" href=https://colab.research.google.com/notebooks/data_table.ipynb>data table notebook</a>'\n",
              "          + ' to learn more about interactive tables.';\n",
              "        element.innerHTML = '';\n",
              "        dataTable['output_type'] = 'display_data';\n",
              "        await google.colab.output.renderOutput(dataTable, element);\n",
              "        const docLink = document.createElement('div');\n",
              "        docLink.innerHTML = docLinkHtml;\n",
              "        element.appendChild(docLink);\n",
              "      }\n",
              "    </script>\n",
              "  </div>\n",
              "\n",
              "\n",
              "<div id=\"df-cc3cd4c9-4354-426e-a84c-9eb60f5b9b64\">\n",
              "  <button class=\"colab-df-quickchart\" onclick=\"quickchart('df-cc3cd4c9-4354-426e-a84c-9eb60f5b9b64')\"\n",
              "            title=\"Suggest charts\"\n",
              "            style=\"display:none;\">\n",
              "\n",
              "<svg xmlns=\"http://www.w3.org/2000/svg\" height=\"24px\"viewBox=\"0 0 24 24\"\n",
              "     width=\"24px\">\n",
              "    <g>\n",
              "        <path d=\"M19 3H5c-1.1 0-2 .9-2 2v14c0 1.1.9 2 2 2h14c1.1 0 2-.9 2-2V5c0-1.1-.9-2-2-2zM9 17H7v-7h2v7zm4 0h-2V7h2v10zm4 0h-2v-4h2v4z\"/>\n",
              "    </g>\n",
              "</svg>\n",
              "  </button>\n",
              "\n",
              "<style>\n",
              "  .colab-df-quickchart {\n",
              "      --bg-color: #E8F0FE;\n",
              "      --fill-color: #1967D2;\n",
              "      --hover-bg-color: #E2EBFA;\n",
              "      --hover-fill-color: #174EA6;\n",
              "      --disabled-fill-color: #AAA;\n",
              "      --disabled-bg-color: #DDD;\n",
              "  }\n",
              "\n",
              "  [theme=dark] .colab-df-quickchart {\n",
              "      --bg-color: #3B4455;\n",
              "      --fill-color: #D2E3FC;\n",
              "      --hover-bg-color: #434B5C;\n",
              "      --hover-fill-color: #FFFFFF;\n",
              "      --disabled-bg-color: #3B4455;\n",
              "      --disabled-fill-color: #666;\n",
              "  }\n",
              "\n",
              "  .colab-df-quickchart {\n",
              "    background-color: var(--bg-color);\n",
              "    border: none;\n",
              "    border-radius: 50%;\n",
              "    cursor: pointer;\n",
              "    display: none;\n",
              "    fill: var(--fill-color);\n",
              "    height: 32px;\n",
              "    padding: 0;\n",
              "    width: 32px;\n",
              "  }\n",
              "\n",
              "  .colab-df-quickchart:hover {\n",
              "    background-color: var(--hover-bg-color);\n",
              "    box-shadow: 0 1px 2px rgba(60, 64, 67, 0.3), 0 1px 3px 1px rgba(60, 64, 67, 0.15);\n",
              "    fill: var(--button-hover-fill-color);\n",
              "  }\n",
              "\n",
              "  .colab-df-quickchart-complete:disabled,\n",
              "  .colab-df-quickchart-complete:disabled:hover {\n",
              "    background-color: var(--disabled-bg-color);\n",
              "    fill: var(--disabled-fill-color);\n",
              "    box-shadow: none;\n",
              "  }\n",
              "\n",
              "  .colab-df-spinner {\n",
              "    border: 2px solid var(--fill-color);\n",
              "    border-color: transparent;\n",
              "    border-bottom-color: var(--fill-color);\n",
              "    animation:\n",
              "      spin 1s steps(1) infinite;\n",
              "  }\n",
              "\n",
              "  @keyframes spin {\n",
              "    0% {\n",
              "      border-color: transparent;\n",
              "      border-bottom-color: var(--fill-color);\n",
              "      border-left-color: var(--fill-color);\n",
              "    }\n",
              "    20% {\n",
              "      border-color: transparent;\n",
              "      border-left-color: var(--fill-color);\n",
              "      border-top-color: var(--fill-color);\n",
              "    }\n",
              "    30% {\n",
              "      border-color: transparent;\n",
              "      border-left-color: var(--fill-color);\n",
              "      border-top-color: var(--fill-color);\n",
              "      border-right-color: var(--fill-color);\n",
              "    }\n",
              "    40% {\n",
              "      border-color: transparent;\n",
              "      border-right-color: var(--fill-color);\n",
              "      border-top-color: var(--fill-color);\n",
              "    }\n",
              "    60% {\n",
              "      border-color: transparent;\n",
              "      border-right-color: var(--fill-color);\n",
              "    }\n",
              "    80% {\n",
              "      border-color: transparent;\n",
              "      border-right-color: var(--fill-color);\n",
              "      border-bottom-color: var(--fill-color);\n",
              "    }\n",
              "    90% {\n",
              "      border-color: transparent;\n",
              "      border-bottom-color: var(--fill-color);\n",
              "    }\n",
              "  }\n",
              "</style>\n",
              "\n",
              "  <script>\n",
              "    async function quickchart(key) {\n",
              "      const quickchartButtonEl =\n",
              "        document.querySelector('#' + key + ' button');\n",
              "      quickchartButtonEl.disabled = true;  // To prevent multiple clicks.\n",
              "      quickchartButtonEl.classList.add('colab-df-spinner');\n",
              "      try {\n",
              "        const charts = await google.colab.kernel.invokeFunction(\n",
              "            'suggestCharts', [key], {});\n",
              "      } catch (error) {\n",
              "        console.error('Error during call to suggestCharts:', error);\n",
              "      }\n",
              "      quickchartButtonEl.classList.remove('colab-df-spinner');\n",
              "      quickchartButtonEl.classList.add('colab-df-quickchart-complete');\n",
              "    }\n",
              "    (() => {\n",
              "      let quickchartButtonEl =\n",
              "        document.querySelector('#df-cc3cd4c9-4354-426e-a84c-9eb60f5b9b64 button');\n",
              "      quickchartButtonEl.style.display =\n",
              "        google.colab.kernel.accessAllowed ? 'block' : 'none';\n",
              "    })();\n",
              "  </script>\n",
              "</div>\n",
              "\n",
              "    </div>\n",
              "  </div>\n"
            ],
            "application/vnd.google.colaboratory.intrinsic+json": {
              "type": "dataframe",
              "summary": "{\n  \"name\": \"pd\",\n  \"rows\": 15,\n  \"fields\": [\n    {\n      \"column\": \"num_null\",\n      \"properties\": {\n        \"dtype\": \"number\",\n        \"std\": 0,\n        \"min\": 0,\n        \"max\": 0,\n        \"num_unique_values\": 1,\n        \"samples\": [\n          0\n        ],\n        \"semantic_type\": \"\",\n        \"description\": \"\"\n      }\n    },\n    {\n      \"column\": \"percent\",\n      \"properties\": {\n        \"dtype\": \"number\",\n        \"std\": 0.0,\n        \"min\": 0.0,\n        \"max\": 0.0,\n        \"num_unique_values\": 1,\n        \"samples\": [\n          0.0\n        ],\n        \"semantic_type\": \"\",\n        \"description\": \"\"\n      }\n    }\n  ]\n}"
            }
          },
          "metadata": {},
          "execution_count": 149
        }
      ]
    },
    {
      "cell_type": "markdown",
      "source": [
        "눈에 띄는 이상치는 특별히 발견되지 않았으며\n",
        "\n",
        "결측치는 없으나 \"?\" 값이 발견되어 어떤 칼럼에 분포하였는지 체크 후 이후 전처리를 수행하겠습니다."
      ],
      "metadata": {
        "id": "kGhmEJM6L27M"
      }
    },
    {
      "cell_type": "code",
      "source": [
        "for col in train.columns:\n",
        "    if '?' in train[col].values:\n",
        "        print(col)"
      ],
      "metadata": {
        "colab": {
          "base_uri": "https://localhost:8080/"
        },
        "id": "n_bNW99TL02u",
        "outputId": "6ca5495c-10ce-4bcb-e68d-c503c34ce3eb"
      },
      "execution_count": 150,
      "outputs": [
        {
          "output_type": "stream",
          "name": "stdout",
          "text": [
            "workclass\n",
            "occupation\n",
            "native_country\n"
          ]
        }
      ]
    },
    {
      "cell_type": "markdown",
      "source": [
        "[ Column 설명 ]\n",
        "\n",
        "각 칼럼의 자세한 설명은 아래 Dataset의 설명서를 참고한다.\n",
        "\n",
        "  ![image.png](data:image/png;base64,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)"
      ],
      "metadata": {
        "id": "L7HKIh6t3r1z"
      }
    },
    {
      "cell_type": "markdown",
      "source": [
        "**[ EDA 요약 ]**\n",
        "\n",
        "- 본 데이터셋은 칼럼 총 16개로 feature의 타입(type)은 int 6개, object 9개 로 구성되었습니다.\n",
        "- 데이터 칼럼 별 Null 값은 없으나 몇몇 칼럼에 \"?\" 값이 보여 데이터 전처리 필요할 것으로 판단됩니다.\n",
        "- 각각 칼럼의 특성을 고려하여 아래 기재된 순서대로 전처리 및 시각화 작업을 진행합니다.\n",
        "- 각 칼럼 중 전문 용어로 구성된 칼럼은 해당 칼럼 분석에 부가 설명을 표기하였습니다.\n",
        "\n",
        "<br /><br />\n",
        "아래 전처리 순서는 해당 의미가 비슷한 칼럼으로 그룹화하여 진행합니다.\n",
        "\n",
        "1 Income (소득)\n",
        "\n",
        "2 Age(나이)\n",
        "\n",
        "3 Workclass(고용형태) & Occupation(업종)\n",
        "\n",
        "4 education(교육 수준) & education_num(교육 수준 수치)\n",
        "\n",
        "5 Marital_status(결혼 상태) & Relationship(가족 관계)\n",
        "\n",
        "6 Race(인종) & Native_country(국적)\n",
        "\n",
        "7 Sex(성별)\n",
        "\n",
        "8 Hours_per_week(주당 근무 시간)\n",
        "\n",
        "9 capital_gain(양도 소득) & capital_loss(양도 손실)\n",
        "\n",
        "10 fnlwgt(사람 대표성 가중치)"
      ],
      "metadata": {
        "id": "HYXPebK14W_h"
      }
    },
    {
      "cell_type": "markdown",
      "source": [
        "## 3. Future Engineering"
      ],
      "metadata": {
        "id": "OSnOzRGhy-O7"
      }
    },
    {
      "cell_type": "markdown",
      "source": [
        "### 3.1 Income (소득)\n",
        "\n",
        "Target 예측값인 income 칼럼이 이진분류 가능한 값으로 해당 값을 0,1 값으로 반환합니다.\n",
        "- '>50K': 1\n",
        "- '<=50K': 0"
      ],
      "metadata": {
        "id": "QgIV2-vszeTX"
      }
    },
    {
      "cell_type": "code",
      "source": [
        "train[\"income\"] = train[\"income\"].map(lambda x: 0 if x == \"<=50K\" else 1)\n",
        "\n",
        "train['income'].value_counts()"
      ],
      "metadata": {
        "colab": {
          "base_uri": "https://localhost:8080/"
        },
        "id": "mSF0i3kezDbX",
        "outputId": "32bb01eb-9220-436a-9db8-efbd359d5c0f"
      },
      "execution_count": 151,
      "outputs": [
        {
          "output_type": "execute_result",
          "data": {
            "text/plain": [
              "income\n",
              "0    19744\n",
              "1     6305\n",
              "Name: count, dtype: int64"
            ]
          },
          "metadata": {},
          "execution_count": 151
        }
      ]
    },
    {
      "cell_type": "code",
      "source": [
        "sns.countplot(x='income', data=train, palette = colors)\n",
        "\n",
        "plt.legend(labels=[\"0 : 50K 이하\",\"1 : 50K 초과\" ])"
      ],
      "metadata": {
        "colab": {
          "base_uri": "https://localhost:8080/",
          "height": 412
        },
        "id": "2vY-1JbC0rPB",
        "outputId": "2fcdc51e-32bf-46fc-8592-88e14ba822d2"
      },
      "execution_count": 152,
      "outputs": [
        {
          "output_type": "execute_result",
          "data": {
            "text/plain": [
              "<matplotlib.legend.Legend at 0x7b0f39369780>"
            ]
          },
          "metadata": {},
          "execution_count": 152
        },
        {
          "output_type": "display_data",
          "data": {
            "text/plain": [
              "<Figure size 800x400 with 1 Axes>"
            ],
            "image/png": "[encoded data removed]"
          },
          "metadata": {}
        }
      ]
    },
    {
      "cell_type": "markdown",
      "source": [
        "### 3.2 Age(나이)"
      ],
      "metadata": {
        "id": "wUeh8lYC3Hvn"
      }
    },
    {
      "cell_type": "markdown",
      "source": [
        "- 연령대 범주를 카테고리로 나누지 않고 기존 데이터 값인 연속형 변수로\n",
        "\n",
        "  데이터를 측정하였을 때 모델 정확도에 소폭 상향 보여 기존 칼럼을 유지하여 진행합니다."
      ],
      "metadata": {
        "id": "E_-2yrw_HSyD"
      }
    },
    {
      "cell_type": "code",
      "source": [
        "print('최소 연령: ', train['age'].min())\n",
        "print('최고 연령: ', train['age'].max())\n",
        "print('최빈 연령: ', train[\"age\"].mode().iloc[0])\n",
        "print('평균 연령: {:.2f}'.format(train['age'].mean()))"
      ],
      "metadata": {
        "colab": {
          "base_uri": "https://localhost:8080/"
        },
        "id": "d2Qu-uCB816p",
        "outputId": "4daa1ce7-25f3-462e-a2ca-19d785cc9bb8"
      },
      "execution_count": 153,
      "outputs": [
        {
          "output_type": "stream",
          "name": "stdout",
          "text": [
            "최소 연령:  17\n",
            "최고 연령:  90\n",
            "최빈 연령:  31\n",
            "평균 연령: 38.57\n"
          ]
        }
      ]
    },
    {
      "cell_type": "code",
      "source": [
        "train['age'].value_counts().sort_index()"
      ],
      "metadata": {
        "colab": {
          "base_uri": "https://localhost:8080/"
        },
        "id": "U_zxyXY6CiLy",
        "outputId": "abf7f001-4338-4a37-cb02-4705fee864a2"
      },
      "execution_count": 154,
      "outputs": [
        {
          "output_type": "execute_result",
          "data": {
            "text/plain": [
              "age\n",
              "17    325\n",
              "18    429\n",
              "19    567\n",
              "20    597\n",
              "21    567\n",
              "     ... \n",
              "85      2\n",
              "86      1\n",
              "87      1\n",
              "88      3\n",
              "90     36\n",
              "Name: count, Length: 73, dtype: int64"
            ]
          },
          "metadata": {},
          "execution_count": 154
        }
      ]
    },
    {
      "cell_type": "code",
      "source": [
        "snake = sns.FacetGrid(train, hue=\"income\", aspect=4)\n",
        "snake.map(sns.kdeplot, \"age\", shade=True)\n",
        "snake.set(xlim=(0, train[\"age\"].max()))\n",
        "snake.add_legend(loc='upper right')\n",
        "\n",
        "plt.show()"
      ],
      "metadata": {
        "colab": {
          "base_uri": "https://localhost:8080/",
          "height": 311
        },
        "id": "Wp5lbEKl9e1O",
        "outputId": "1faa4e21-3ee2-4b47-900a-bb0596d44da2"
      },
      "execution_count": 155,
      "outputs": [
        {
          "output_type": "display_data",
          "data": {
            "text/plain": [
              "<Figure size 1268.6x300 with 1 Axes>"
            ],
            "image/png": "[encoded data removed]"
          },
          "metadata": {}
        }
      ]
    },
    {
      "cell_type": "markdown",
      "source": [
        "### 3.3 Workclass(고용형태) & Occupation(업종)"
      ],
      "metadata": {
        "id": "eXr89iRkLkGO"
      }
    },
    {
      "cell_type": "markdown",
      "source": [
        "Workclass & Occupation 칼럼에 결측치는 없으나 \"?\" 형태의 데이터가 각 칼럼 대략 1,500개 정도 발견되었습니다.\n",
        "\n",
        "결측치를 최빈값으로 대체하거나 제거시 1,502 개의 데이터 변화에 의한 성능 저하를 우려하여 Drop 판단을 하기 전 조금 더 세밀히 살펴봅니다."
      ],
      "metadata": {
        "id": "anO6BHAgL4tu"
      }
    },
    {
      "cell_type": "code",
      "source": [
        "train['workclass'].value_counts()"
      ],
      "metadata": {
        "colab": {
          "base_uri": "https://localhost:8080/"
        },
        "id": "BN4hCj51L2cZ",
        "outputId": "731b8066-ef0e-49fe-aa5d-1293a47ec6fc"
      },
      "execution_count": 156,
      "outputs": [
        {
          "output_type": "execute_result",
          "data": {
            "text/plain": [
              "workclass\n",
              "Private             18123\n",
              "Self-emp-not-inc     2030\n",
              "Local-gov            1692\n",
              "?                    1502\n",
              "State-gov            1043\n",
              "Self-emp-inc          877\n",
              "Federal-gov           765\n",
              "Without-pay            11\n",
              "Never-worked            6\n",
              "Name: count, dtype: int64"
            ]
          },
          "metadata": {},
          "execution_count": 156
        }
      ]
    },
    {
      "cell_type": "code",
      "source": [
        "plt.rc(\"figure\", figsize = (12, 8))\n",
        "\n",
        "sns.countplot(x='workclass', hue='income', data=train, palette = colors)"
      ],
      "metadata": {
        "colab": {
          "base_uri": "https://localhost:8080/",
          "height": 720
        },
        "id": "OnkxzBPWM_lT",
        "outputId": "c02742a2-09be-47bb-b716-25880266c63c"
      },
      "execution_count": 157,
      "outputs": [
        {
          "output_type": "execute_result",
          "data": {
            "text/plain": [
              "<Axes: xlabel='workclass', ylabel='count'>"
            ]
          },
          "metadata": {},
          "execution_count": 157
        },
        {
          "output_type": "display_data",
          "data": {
            "text/plain": [
              "<Figure size 1200x800 with 1 Axes>"
            ],
            "image/png": "[encoded data removed]"
          },
          "metadata": {}
        }
      ]
    },
    {
      "cell_type": "code",
      "source": [
        "train['occupation'].value_counts()"
      ],
      "metadata": {
        "colab": {
          "base_uri": "https://localhost:8080/"
        },
        "id": "EXmf5We8ivtC",
        "outputId": "ce418022-bf62-4bf6-d737-a20b4b2e508f"
      },
      "execution_count": 158,
      "outputs": [
        {
          "output_type": "execute_result",
          "data": {
            "text/plain": [
              "occupation\n",
              "Prof-specialty       3304\n",
              "Craft-repair         3262\n",
              "Exec-managerial      3246\n",
              "Sales                2998\n",
              "Adm-clerical         2983\n",
              "Other-service        2626\n",
              "Machine-op-inspct    1582\n",
              "?                    1508\n",
              "Transport-moving     1270\n",
              "Handlers-cleaners    1092\n",
              "Farming-fishing       784\n",
              "Tech-support          742\n",
              "Protective-serv       522\n",
              "Priv-house-serv       123\n",
              "Armed-Forces            7\n",
              "Name: count, dtype: int64"
            ]
          },
          "metadata": {},
          "execution_count": 158
        }
      ]
    },
    {
      "cell_type": "code",
      "source": [
        "plt.rc(\"figure\", figsize = (12, 8))\n",
        "\n",
        "sns.countplot(x='occupation', hue='income', data=train, palette = colors)\n",
        "plt.xticks(rotation=60)"
      ],
      "metadata": {
        "colab": {
          "base_uri": "https://localhost:8080/",
          "height": 1000
        },
        "id": "b3cxV81ojdfB",
        "outputId": "62cb7897-f439-442d-8942-31799eb8088d"
      },
      "execution_count": 159,
      "outputs": [
        {
          "output_type": "execute_result",
          "data": {
            "text/plain": [
              "([0, 1, 2, 3, 4, 5, 6, 7, 8, 9, 10, 11, 12, 13, 14],\n",
              " [Text(0, 0, 'Sales'),\n",
              "  Text(1, 0, 'Machine-op-inspct'),\n",
              "  Text(2, 0, 'Other-service'),\n",
              "  Text(3, 0, 'Prof-specialty'),\n",
              "  Text(4, 0, 'Adm-clerical'),\n",
              "  Text(5, 0, 'Craft-repair'),\n",
              "  Text(6, 0, '?'),\n",
              "  Text(7, 0, 'Handlers-cleaners'),\n",
              "  Text(8, 0, 'Farming-fishing'),\n",
              "  Text(9, 0, 'Exec-managerial'),\n",
              "  Text(10, 0, 'Transport-moving'),\n",
              "  Text(11, 0, 'Protective-serv'),\n",
              "  Text(12, 0, 'Tech-support'),\n",
              "  Text(13, 0, 'Priv-house-serv'),\n",
              "  Text(14, 0, 'Armed-Forces')])"
            ]
          },
          "metadata": {},
          "execution_count": 159
        },
        {
          "output_type": "display_data",
          "data": {
            "text/plain": [
              "<Figure size 1200x800 with 1 Axes>"
            ],
            "image/png": "[encoded data removed]"
          },
          "metadata": {}
        }
      ]
    },
    {
      "cell_type": "markdown",
      "source": [
        "workclass'의 \"?\"값과 'occupation'의 \"?\" 값의 크기가 비슷하여 두 칼럼이 일치하는지 확인합니다."
      ],
      "metadata": {
        "id": "SPZaN-3Skvq4"
      }
    },
    {
      "cell_type": "code",
      "source": [
        "train[(train['workclass'] == '?') & (train['occupation'] == '?')].shape[0] == train[train['workclass'] == '?'].shape[0]"
      ],
      "metadata": {
        "colab": {
          "base_uri": "https://localhost:8080/"
        },
        "id": "-8jI5Z4DkOIx",
        "outputId": "f320e17f-89a5-4f07-db72-4bbeffe69f56"
      },
      "execution_count": 160,
      "outputs": [
        {
          "output_type": "execute_result",
          "data": {
            "text/plain": [
              "True"
            ]
          },
          "metadata": {},
          "execution_count": 160
        }
      ]
    },
    {
      "cell_type": "markdown",
      "source": [
        "workclass는 '?'가 아니지만 occupation 만 '?'를 가지는 데이터를 확인한 결과\n",
        "\n",
        "'Never-worked' 업종에서 추가적으로 6개의 \"?\" 값을 갖는 것을 확인하였습니다.\n",
        "\n",
        "Never-worked 칼럼 값을 제외한 모든 값에서 \"?\" 값이 일치하였음을 확인하였습니다."
      ],
      "metadata": {
        "id": "IMfT70mylk_u"
      }
    },
    {
      "cell_type": "code",
      "source": [
        "train[(train['workclass'] != '?') & (train['occupation'] == '?')][['workclass', 'occupation']]"
      ],
      "metadata": {
        "colab": {
          "base_uri": "https://localhost:8080/",
          "height": 238
        },
        "id": "k73GKJTolfZ1",
        "outputId": "983ce5fc-e260-4592-bc27-52cd0cf678f0"
      },
      "execution_count": 161,
      "outputs": [
        {
          "output_type": "execute_result",
          "data": {
            "text/plain": [
              "          workclass occupation\n",
              "7929   Never-worked          ?\n",
              "8698   Never-worked          ?\n",
              "13008  Never-worked          ?\n",
              "15076  Never-worked          ?\n",
              "17531  Never-worked          ?\n",
              "24153  Never-worked          ?"
            ],
            "text/html": [
              "\n",
              "  <div id=\"df-a29c851b-97ca-4077-8a6a-bcda9499ea0d\" class=\"colab-df-container\">\n",
              "    <div>\n",
              "<style scoped>\n",
              "    .dataframe tbody tr th:only-of-type {\n",
              "        vertical-align: middle;\n",
              "    }\n",
              "\n",
              "    .dataframe tbody tr th {\n",
              "        vertical-align: top;\n",
              "    }\n",
              "\n",
              "    .dataframe thead th {\n",
              "        text-align: right;\n",
              "    }\n",
              "</style>\n",
              "<table border=\"1\" class=\"dataframe\">\n",
              "  <thead>\n",
              "    <tr style=\"text-align: right;\">\n",
              "      <th></th>\n",
              "      <th>workclass</th>\n",
              "      <th>occupation</th>\n",
              "    </tr>\n",
              "  </thead>\n",
              "  <tbody>\n",
              "    <tr>\n",
              "      <th>7929</th>\n",
              "      <td>Never-worked</td>\n",
              "      <td>?</td>\n",
              "    </tr>\n",
              "    <tr>\n",
              "      <th>8698</th>\n",
              "      <td>Never-worked</td>\n",
              "      <td>?</td>\n",
              "    </tr>\n",
              "    <tr>\n",
              "      <th>13008</th>\n",
              "      <td>Never-worked</td>\n",
              "      <td>?</td>\n",
              "    </tr>\n",
              "    <tr>\n",
              "      <th>15076</th>\n",
              "      <td>Never-worked</td>\n",
              "      <td>?</td>\n",
              "    </tr>\n",
              "    <tr>\n",
              "      <th>17531</th>\n",
              "      <td>Never-worked</td>\n",
              "      <td>?</td>\n",
              "    </tr>\n",
              "    <tr>\n",
              "      <th>24153</th>\n",
              "      <td>Never-worked</td>\n",
              "      <td>?</td>\n",
              "    </tr>\n",
              "  </tbody>\n",
              "</table>\n",
              "</div>\n",
              "    <div class=\"colab-df-buttons\">\n",
              "\n",
              "  <div class=\"colab-df-container\">\n",
              "    <button class=\"colab-df-convert\" onclick=\"convertToInteractive('df-a29c851b-97ca-4077-8a6a-bcda9499ea0d')\"\n",
              "            title=\"Convert this dataframe to an interactive table.\"\n",
              "            style=\"display:none;\">\n",
              "\n",
              "  <svg xmlns=\"http://www.w3.org/2000/svg\" height=\"24px\" viewBox=\"0 -960 960 960\">\n",
              "    <path d=\"M120-120v-720h720v720H120Zm60-500h600v-160H180v160Zm220 220h160v-160H400v160Zm0 220h160v-160H400v160ZM180-400h160v-160H180v160Zm440 0h160v-160H620v160ZM180-180h160v-160H180v160Zm440 0h160v-160H620v160Z\"/>\n",
              "  </svg>\n",
              "    </button>\n",
              "\n",
              "  <style>\n",
              "    .colab-df-container {\n",
              "      display:flex;\n",
              "      gap: 12px;\n",
              "    }\n",
              "\n",
              "    .colab-df-convert {\n",
              "      background-color: #E8F0FE;\n",
              "      border: none;\n",
              "      border-radius: 50%;\n",
              "      cursor: pointer;\n",
              "      display: none;\n",
              "      fill: #1967D2;\n",
              "      height: 32px;\n",
              "      padding: 0 0 0 0;\n",
              "      width: 32px;\n",
              "    }\n",
              "\n",
              "    .colab-df-convert:hover {\n",
              "      background-color: #E2EBFA;\n",
              "      box-shadow: 0px 1px 2px rgba(60, 64, 67, 0.3), 0px 1px 3px 1px rgba(60, 64, 67, 0.15);\n",
              "      fill: #174EA6;\n",
              "    }\n",
              "\n",
              "    .colab-df-buttons div {\n",
              "      margin-bottom: 4px;\n",
              "    }\n",
              "\n",
              "    [theme=dark] .colab-df-convert {\n",
              "      background-color: #3B4455;\n",
              "      fill: #D2E3FC;\n",
              "    }\n",
              "\n",
              "    [theme=dark] .colab-df-convert:hover {\n",
              "      background-color: #434B5C;\n",
              "      box-shadow: 0px 1px 3px 1px rgba(0, 0, 0, 0.15);\n",
              "      filter: drop-shadow(0px 1px 2px rgba(0, 0, 0, 0.3));\n",
              "      fill: #FFFFFF;\n",
              "    }\n",
              "  </style>\n",
              "\n",
              "    <script>\n",
              "      const buttonEl =\n",
              "        document.querySelector('#df-a29c851b-97ca-4077-8a6a-bcda9499ea0d button.colab-df-convert');\n",
              "      buttonEl.style.display =\n",
              "        google.colab.kernel.accessAllowed ? 'block' : 'none';\n",
              "\n",
              "      async function convertToInteractive(key) {\n",
              "        const element = document.querySelector('#df-a29c851b-97ca-4077-8a6a-bcda9499ea0d');\n",
              "        const dataTable =\n",
              "          await google.colab.kernel.invokeFunction('convertToInteractive',\n",
              "                                                    [key], {});\n",
              "        if (!dataTable) return;\n",
              "\n",
              "        const docLinkHtml = 'Like what you see? Visit the ' +\n",
              "          '<a target=\"_blank\" href=https://colab.research.google.com/notebooks/data_table.ipynb>data table notebook</a>'\n",
              "          + ' to learn more about interactive tables.';\n",
              "        element.innerHTML = '';\n",
              "        dataTable['output_type'] = 'display_data';\n",
              "        await google.colab.output.renderOutput(dataTable, element);\n",
              "        const docLink = document.createElement('div');\n",
              "        docLink.innerHTML = docLinkHtml;\n",
              "        element.appendChild(docLink);\n",
              "      }\n",
              "    </script>\n",
              "  </div>\n",
              "\n",
              "\n",
              "<div id=\"df-cc6d0891-74e2-44d2-b3e3-16711bc3dfe7\">\n",
              "  <button class=\"colab-df-quickchart\" onclick=\"quickchart('df-cc6d0891-74e2-44d2-b3e3-16711bc3dfe7')\"\n",
              "            title=\"Suggest charts\"\n",
              "            style=\"display:none;\">\n",
              "\n",
              "<svg xmlns=\"http://www.w3.org/2000/svg\" height=\"24px\"viewBox=\"0 0 24 24\"\n",
              "     width=\"24px\">\n",
              "    <g>\n",
              "        <path d=\"M19 3H5c-1.1 0-2 .9-2 2v14c0 1.1.9 2 2 2h14c1.1 0 2-.9 2-2V5c0-1.1-.9-2-2-2zM9 17H7v-7h2v7zm4 0h-2V7h2v10zm4 0h-2v-4h2v4z\"/>\n",
              "    </g>\n",
              "</svg>\n",
              "  </button>\n",
              "\n",
              "<style>\n",
              "  .colab-df-quickchart {\n",
              "      --bg-color: #E8F0FE;\n",
              "      --fill-color: #1967D2;\n",
              "      --hover-bg-color: #E2EBFA;\n",
              "      --hover-fill-color: #174EA6;\n",
              "      --disabled-fill-color: #AAA;\n",
              "      --disabled-bg-color: #DDD;\n",
              "  }\n",
              "\n",
              "  [theme=dark] .colab-df-quickchart {\n",
              "      --bg-color: #3B4455;\n",
              "      --fill-color: #D2E3FC;\n",
              "      --hover-bg-color: #434B5C;\n",
              "      --hover-fill-color: #FFFFFF;\n",
              "      --disabled-bg-color: #3B4455;\n",
              "      --disabled-fill-color: #666;\n",
              "  }\n",
              "\n",
              "  .colab-df-quickchart {\n",
              "    background-color: var(--bg-color);\n",
              "    border: none;\n",
              "    border-radius: 50%;\n",
              "    cursor: pointer;\n",
              "    display: none;\n",
              "    fill: var(--fill-color);\n",
              "    height: 32px;\n",
              "    padding: 0;\n",
              "    width: 32px;\n",
              "  }\n",
              "\n",
              "  .colab-df-quickchart:hover {\n",
              "    background-color: var(--hover-bg-color);\n",
              "    box-shadow: 0 1px 2px rgba(60, 64, 67, 0.3), 0 1px 3px 1px rgba(60, 64, 67, 0.15);\n",
              "    fill: var(--button-hover-fill-color);\n",
              "  }\n",
              "\n",
              "  .colab-df-quickchart-complete:disabled,\n",
              "  .colab-df-quickchart-complete:disabled:hover {\n",
              "    background-color: var(--disabled-bg-color);\n",
              "    fill: var(--disabled-fill-color);\n",
              "    box-shadow: none;\n",
              "  }\n",
              "\n",
              "  .colab-df-spinner {\n",
              "    border: 2px solid var(--fill-color);\n",
              "    border-color: transparent;\n",
              "    border-bottom-color: var(--fill-color);\n",
              "    animation:\n",
              "      spin 1s steps(1) infinite;\n",
              "  }\n",
              "\n",
              "  @keyframes spin {\n",
              "    0% {\n",
              "      border-color: transparent;\n",
              "      border-bottom-color: var(--fill-color);\n",
              "      border-left-color: var(--fill-color);\n",
              "    }\n",
              "    20% {\n",
              "      border-color: transparent;\n",
              "      border-left-color: var(--fill-color);\n",
              "      border-top-color: var(--fill-color);\n",
              "    }\n",
              "    30% {\n",
              "      border-color: transparent;\n",
              "      border-left-color: var(--fill-color);\n",
              "      border-top-color: var(--fill-color);\n",
              "      border-right-color: var(--fill-color);\n",
              "    }\n",
              "    40% {\n",
              "      border-color: transparent;\n",
              "      border-right-color: var(--fill-color);\n",
              "      border-top-color: var(--fill-color);\n",
              "    }\n",
              "    60% {\n",
              "      border-color: transparent;\n",
              "      border-right-color: var(--fill-color);\n",
              "    }\n",
              "    80% {\n",
              "      border-color: transparent;\n",
              "      border-right-color: var(--fill-color);\n",
              "      border-bottom-color: var(--fill-color);\n",
              "    }\n",
              "    90% {\n",
              "      border-color: transparent;\n",
              "      border-bottom-color: var(--fill-color);\n",
              "    }\n",
              "  }\n",
              "</style>\n",
              "\n",
              "  <script>\n",
              "    async function quickchart(key) {\n",
              "      const quickchartButtonEl =\n",
              "        document.querySelector('#' + key + ' button');\n",
              "      quickchartButtonEl.disabled = true;  // To prevent multiple clicks.\n",
              "      quickchartButtonEl.classList.add('colab-df-spinner');\n",
              "      try {\n",
              "        const charts = await google.colab.kernel.invokeFunction(\n",
              "            'suggestCharts', [key], {});\n",
              "      } catch (error) {\n",
              "        console.error('Error during call to suggestCharts:', error);\n",
              "      }\n",
              "      quickchartButtonEl.classList.remove('colab-df-spinner');\n",
              "      quickchartButtonEl.classList.add('colab-df-quickchart-complete');\n",
              "    }\n",
              "    (() => {\n",
              "      let quickchartButtonEl =\n",
              "        document.querySelector('#df-cc6d0891-74e2-44d2-b3e3-16711bc3dfe7 button');\n",
              "      quickchartButtonEl.style.display =\n",
              "        google.colab.kernel.accessAllowed ? 'block' : 'none';\n",
              "    })();\n",
              "  </script>\n",
              "</div>\n",
              "\n",
              "    </div>\n",
              "  </div>\n"
            ],
            "application/vnd.google.colaboratory.intrinsic+json": {
              "type": "dataframe",
              "summary": "{\n  \"name\": \"train[(train['workclass'] != '?') & (train['occupation'] == '?')][['workclass', 'occupation']]\",\n  \"rows\": 6,\n  \"fields\": [\n    {\n      \"column\": \"workclass\",\n      \"properties\": {\n        \"dtype\": \"category\",\n        \"num_unique_values\": 1,\n        \"samples\": [\n          \"Never-worked\"\n        ],\n        \"semantic_type\": \"\",\n        \"description\": \"\"\n      }\n    },\n    {\n      \"column\": \"occupation\",\n      \"properties\": {\n        \"dtype\": \"category\",\n        \"num_unique_values\": 1,\n        \"samples\": [\n          \"?\"\n        ],\n        \"semantic_type\": \"\",\n        \"description\": \"\"\n      }\n    }\n  ]\n}"
            }
          },
          "metadata": {},
          "execution_count": 161
        }
      ]
    },
    {
      "cell_type": "markdown",
      "source": [
        "Never-worked 칼럼 값을 Drop 하여 총 \"?\"값을 workclass와 일치시킵니다."
      ],
      "metadata": {
        "id": "sUpfL5o6gx-y"
      }
    },
    {
      "cell_type": "code",
      "source": [
        "train.drop(train[train['workclass'] == 'Never-worked'].index, axis=0, inplace=True)"
      ],
      "metadata": {
        "id": "Z325G8QMgrO_"
      },
      "execution_count": 162,
      "outputs": []
    },
    {
      "cell_type": "markdown",
      "source": [
        "### 3.4 education(교육 수준) & education_num(교육 수준 수치)\n"
      ],
      "metadata": {
        "id": "TH1aYMnHRJjq"
      }
    },
    {
      "cell_type": "markdown",
      "source": [
        "education(교육 수준) & education_num(교육 수준 수치)의 의미가 비슷해 데이터 값이 어떤 형태로 다른지 확인합니다."
      ],
      "metadata": {
        "id": "5qX9gFv-nDiQ"
      }
    },
    {
      "cell_type": "code",
      "source": [
        "train['education'].value_counts()"
      ],
      "metadata": {
        "colab": {
          "base_uri": "https://localhost:8080/"
        },
        "id": "63Mf5O2AnRY0",
        "outputId": "ec1ea047-fdf4-4186-aea8-1781b9994168"
      },
      "execution_count": 163,
      "outputs": [
        {
          "output_type": "execute_result",
          "data": {
            "text/plain": [
              "education\n",
              "HS-grad         8433\n",
              "Some-college    5798\n",
              "Bachelors       4344\n",
              "Masters         1378\n",
              "Assoc-voc       1096\n",
              "11th             921\n",
              "Assoc-acdm       842\n",
              "10th             729\n",
              "7th-8th          504\n",
              "Prof-school      466\n",
              "9th              418\n",
              "12th             359\n",
              "Doctorate        316\n",
              "5th-6th          265\n",
              "1st-4th          134\n",
              "Preschool         40\n",
              "Name: count, dtype: int64"
            ]
          },
          "metadata": {},
          "execution_count": 163
        }
      ]
    },
    {
      "cell_type": "code",
      "source": [
        "train['education_num'].value_counts()"
      ],
      "metadata": {
        "colab": {
          "base_uri": "https://localhost:8080/"
        },
        "id": "doghhEPKnmIV",
        "outputId": "51badabf-7156-4874-e519-c8c39f722b74"
      },
      "execution_count": 164,
      "outputs": [
        {
          "output_type": "execute_result",
          "data": {
            "text/plain": [
              "education_num\n",
              "9     8433\n",
              "10    5798\n",
              "13    4344\n",
              "14    1378\n",
              "11    1096\n",
              "7      921\n",
              "12     842\n",
              "6      729\n",
              "4      504\n",
              "15     466\n",
              "5      418\n",
              "8      359\n",
              "16     316\n",
              "3      265\n",
              "2      134\n",
              "1       40\n",
              "Name: count, dtype: int64"
            ]
          },
          "metadata": {},
          "execution_count": 164
        }
      ]
    },
    {
      "cell_type": "markdown",
      "source": [
        "education(교육 수준) & education_num(교육 수준 수치)는 같은 의미를 가지므로\n",
        "\n",
        "중복되는 칼럼인 education_num (교육 수준 수치) 칼럼을 Drop 합니다."
      ],
      "metadata": {
        "id": "0KHm6LIvnrV_"
      }
    },
    {
      "cell_type": "code",
      "source": [
        "train = train.drop('education_num', axis=1)"
      ],
      "metadata": {
        "id": "sqriicmAn7Pk"
      },
      "execution_count": 165,
      "outputs": []
    },
    {
      "cell_type": "code",
      "source": [
        "plt.rc(\"figure\", figsize = (12, 8))\n",
        "\n",
        "sns.countplot(x='education', hue='income', data=train, palette = colors)\n",
        "plt.xticks(rotation=60)"
      ],
      "metadata": {
        "colab": {
          "base_uri": "https://localhost:8080/",
          "height": 1000
        },
        "id": "am4OXmMFoBEA",
        "outputId": "c7cad438-c273-444e-c657-9b2726e10158"
      },
      "execution_count": 166,
      "outputs": [
        {
          "output_type": "execute_result",
          "data": {
            "text/plain": [
              "([0, 1, 2, 3, 4, 5, 6, 7, 8, 9, 10, 11, 12, 13, 14, 15],\n",
              " [Text(0, 0, 'HS-grad'),\n",
              "  Text(1, 0, '9th'),\n",
              "  Text(2, 0, 'Some-college'),\n",
              "  Text(3, 0, 'Bachelors'),\n",
              "  Text(4, 0, '11th'),\n",
              "  Text(5, 0, '1st-4th'),\n",
              "  Text(6, 0, '5th-6th'),\n",
              "  Text(7, 0, 'Assoc-acdm'),\n",
              "  Text(8, 0, '10th'),\n",
              "  Text(9, 0, 'Prof-school'),\n",
              "  Text(10, 0, '7th-8th'),\n",
              "  Text(11, 0, 'Masters'),\n",
              "  Text(12, 0, 'Assoc-voc'),\n",
              "  Text(13, 0, 'Doctorate'),\n",
              "  Text(14, 0, '12th'),\n",
              "  Text(15, 0, 'Preschool')])"
            ]
          },
          "metadata": {},
          "execution_count": 166
        },
        {
          "output_type": "display_data",
          "data": {
            "text/plain": [
              "<Figure size 1200x800 with 1 Axes>"
            ],
            "image/png": "[encoded data removed]"
          },
          "metadata": {}
        }
      ]
    },
    {
      "cell_type": "markdown",
      "source": [
        "### 3.5 Marital_status(결혼 상태) & Relationship(가족 관계)"
      ],
      "metadata": {
        "id": "DBusFXyqLMyz"
      }
    },
    {
      "cell_type": "markdown",
      "source": [
        "Marital_status & Relationship 두 칼럼 모두 결혼에 관한 데이터를 의미한다.\n",
        "\n",
        "두 칼럼은 비슷한 의미를 가지나 값의 분포가 상이하고 단어 해석만으로 분석을 하기에\n",
        "\n",
        "당시 분석통계용어가 포함되어 있어 해당 데이터는 별도 전처리를 시행하지 않는다."
      ],
      "metadata": {
        "id": "0neHOLGhLg4c"
      }
    },
    {
      "cell_type": "code",
      "source": [
        "train['marital_status'].value_counts()"
      ],
      "metadata": {
        "colab": {
          "base_uri": "https://localhost:8080/"
        },
        "id": "wzqAa0fxLYjc",
        "outputId": "cf612072-e573-4b48-8c08-f3297270fb19"
      },
      "execution_count": 167,
      "outputs": [
        {
          "output_type": "execute_result",
          "data": {
            "text/plain": [
              "marital_status\n",
              "Married-civ-spouse       11970\n",
              "Never-married             8563\n",
              "Divorced                  3535\n",
              "Separated                  826\n",
              "Widowed                    796\n",
              "Married-spouse-absent      334\n",
              "Married-AF-spouse           19\n",
              "Name: count, dtype: int64"
            ]
          },
          "metadata": {},
          "execution_count": 167
        }
      ]
    },
    {
      "cell_type": "code",
      "source": [
        "plt.rc(\"figure\", figsize = (12, 8))\n",
        "\n",
        "sns.countplot(x='marital_status', hue='income', data=train, palette = colors)"
      ],
      "metadata": {
        "colab": {
          "base_uri": "https://localhost:8080/",
          "height": 720
        },
        "id": "WUFNFYMPMzt1",
        "outputId": "8525a461-772d-4304-dcae-b56ee340aa5f"
      },
      "execution_count": 168,
      "outputs": [
        {
          "output_type": "execute_result",
          "data": {
            "text/plain": [
              "<Axes: xlabel='marital_status', ylabel='count'>"
            ]
          },
          "metadata": {},
          "execution_count": 168
        },
        {
          "output_type": "display_data",
          "data": {
            "text/plain": [
              "<Figure size 1200x800 with 1 Axes>"
            ],
            "image/png": "[encoded data removed]"
          },
          "metadata": {}
        }
      ]
    },
    {
      "cell_type": "code",
      "source": [
        "train['relationship'].value_counts()"
      ],
      "metadata": {
        "colab": {
          "base_uri": "https://localhost:8080/"
        },
        "id": "Z6AyKt3ZL8Ro",
        "outputId": "6737c529-7ddb-4d9a-d12f-467ffdb9433b"
      },
      "execution_count": 169,
      "outputs": [
        {
          "output_type": "execute_result",
          "data": {
            "text/plain": [
              "relationship\n",
              "Husband           10541\n",
              "Not-in-family      6631\n",
              "Own-child          4094\n",
              "Unmarried          2740\n",
              "Wife               1260\n",
              "Other-relative      777\n",
              "Name: count, dtype: int64"
            ]
          },
          "metadata": {},
          "execution_count": 169
        }
      ]
    },
    {
      "cell_type": "code",
      "source": [
        "plt.rc(\"figure\", figsize = (12, 8))\n",
        "\n",
        "sns.countplot(x='relationship', hue='income', data=train, palette = colors)"
      ],
      "metadata": {
        "colab": {
          "base_uri": "https://localhost:8080/",
          "height": 720
        },
        "id": "__ccxo4UMymv",
        "outputId": "9f8e7e95-cc99-48c4-b86b-00325bd0c74e"
      },
      "execution_count": 170,
      "outputs": [
        {
          "output_type": "execute_result",
          "data": {
            "text/plain": [
              "<Axes: xlabel='relationship', ylabel='count'>"
            ]
          },
          "metadata": {},
          "execution_count": 170
        },
        {
          "output_type": "display_data",
          "data": {
            "text/plain": [
              "<Figure size 1200x800 with 1 Axes>"
            ],
            "image/png": "[encoded data removed]"
          },
          "metadata": {}
        }
      ]
    },
    {
      "cell_type": "markdown",
      "source": [
        "### 3.6 Race(인종) & Native_country(국적)"
      ],
      "metadata": {
        "id": "ehsz2v08NcXP"
      }
    },
    {
      "cell_type": "markdown",
      "source": [
        "Race(인종)의 경우 데이터에 백인이 가장 많은 분포를 보이며 값에 이상이 없음을 확인하여 전처리를 시행하지 않는다.\n",
        "\n",
        "하지만 Native_country(국적)은 변수가 너무 많아 나라 별 대륙 별로 구분하였다.\n",
        "\n",
        "기존 Native_country 칼럼을 Drop 한 이후 새롭게 생성한 Native_country 칼럼의 대륙을 구분한 값은 다음과 같다.\n",
        "\n",
        "- north_america = ['United-States', 'Mexico', 'Canada', 'Puerto-Rico', 'El-Salvador', 'Cuba', 'Jamaica', 'Guatemala', 'Dominican-Republic', 'Honduras']\n",
        "- europe = ['Germany', 'England', 'Italy', 'Poland', 'Portugal', 'Greece', 'Ireland', 'Scotland', 'France', 'Yugoslavia', 'Hungary']\n",
        "- asia = ['Philippines', 'India', 'China', 'Japan', 'Taiwan', 'Iran', 'Vietnam', 'Hong', 'Cambodia', 'Laos', 'Thailand']\n",
        "- south_america = ['South', 'Columbia', 'Peru', 'Ecuador', 'Haiti', 'Trinadad&Tobago', 'Nicaragua', 'Outlying-US(Guam-USVI-etc)']\n",
        "\n"
      ],
      "metadata": {
        "id": "sR8YdYdxOFNh"
      }
    },
    {
      "cell_type": "code",
      "source": [
        "train['race'].value_counts()"
      ],
      "metadata": {
        "colab": {
          "base_uri": "https://localhost:8080/"
        },
        "id": "XplKIN17Nnpz",
        "outputId": "6abd265b-f26b-41a9-f99c-a7bfa4efe0c7"
      },
      "execution_count": 171,
      "outputs": [
        {
          "output_type": "execute_result",
          "data": {
            "text/plain": [
              "race\n",
              "White                 22310\n",
              "Black                  2475\n",
              "Asian-Pac-Islander      800\n",
              "Amer-Indian-Eskimo      254\n",
              "Other                   204\n",
              "Name: count, dtype: int64"
            ]
          },
          "metadata": {},
          "execution_count": 171
        }
      ]
    },
    {
      "cell_type": "code",
      "source": [
        "train['native_country'].value_counts()"
      ],
      "metadata": {
        "colab": {
          "base_uri": "https://localhost:8080/"
        },
        "id": "u9Lcu0-QNqFv",
        "outputId": "2f4bfe7a-12c7-4da0-8143-30f516e7b8b8"
      },
      "execution_count": 172,
      "outputs": [
        {
          "output_type": "execute_result",
          "data": {
            "text/plain": [
              "native_country\n",
              "United-States                 23365\n",
              "Mexico                          534\n",
              "?                               456\n",
              "Philippines                     163\n",
              "Germany                         101\n",
              "Puerto-Rico                      95\n",
              "Canada                           92\n",
              "El-Salvador                      79\n",
              "India                            77\n",
              "Cuba                             76\n",
              "England                          67\n",
              "Jamaica                          64\n",
              "South                            63\n",
              "China                            57\n",
              "Guatemala                        52\n",
              "Columbia                         52\n",
              "Italy                            50\n",
              "Vietnam                          50\n",
              "Dominican-Republic               48\n",
              "Poland                           47\n",
              "Japan                            47\n",
              "Taiwan                           39\n",
              "Haiti                            35\n",
              "Iran                             35\n",
              "Portugal                         30\n",
              "Nicaragua                        28\n",
              "Peru                             26\n",
              "Ecuador                          24\n",
              "France                           24\n",
              "Greece                           24\n",
              "Ireland                          18\n",
              "Laos                             15\n",
              "Trinadad&Tobago                  14\n",
              "Hong                             14\n",
              "Cambodia                         14\n",
              "Thailand                         13\n",
              "Outlying-US(Guam-USVI-etc)       13\n",
              "Yugoslavia                       12\n",
              "Honduras                         11\n",
              "Hungary                          11\n",
              "Scotland                          8\n",
              "Name: count, dtype: int64"
            ]
          },
          "metadata": {},
          "execution_count": 172
        }
      ]
    },
    {
      "cell_type": "code",
      "source": [
        "# 대륙별 국가 목록 / united-states 별도 생성\n",
        "united_states = ['United-States']\n",
        "north_america = ['Mexico', 'Canada', 'Puerto-Rico', 'El-Salvador', 'Cuba', 'Jamaica', 'Guatemala', 'Dominican-Republic', 'Honduras']\n",
        "europe = ['Germany', 'England', 'Italy', 'Poland', 'Portugal', 'Greece', 'Ireland', 'Scotland', 'France', 'Yugoslavia', 'Hungary']\n",
        "asia = ['Philippines', 'India', 'China', 'Japan', 'Taiwan', 'Iran', 'Vietnam', 'Hong', 'Cambodia', 'Laos', 'Thailand']\n",
        "south_america = ['South', 'Columbia', 'Peru', 'Ecuador', 'Haiti', 'Trinadad&Tobago', 'Nicaragua', 'Outlying-US(Guam-USVI-etc)']\n",
        "\n",
        "native_country_dict = {}\n",
        "\n",
        "for country in united_states:\n",
        "    native_country_dict[country] = 'United-States'\n",
        "\n",
        "for country in north_america:\n",
        "    native_country_dict[country] = 'North America'\n",
        "\n",
        "for country in europe:\n",
        "    native_country_dict[country] = 'Europe'\n",
        "\n",
        "for country in asia:\n",
        "    native_country_dict[country] = 'Asia'\n",
        "\n",
        "for country in south_america:\n",
        "    native_country_dict[country] = 'South America'\n",
        "\n",
        "\n",
        "# 대륙명 딕셔너리 생성\n",
        "\n",
        "continent_encoding = {\n",
        "    'United-States' : 0,\n",
        "    'North America': 1,\n",
        "    'Europe': 2,\n",
        "    'Asia': 3,\n",
        "    'South America': 4\n",
        "}\n",
        "\n",
        "# 'native_country' 칼럼의 국가명을 대륙명으로 그룹화하여 이름을 변경\n",
        "\n",
        "train['native_country'] = train['native_country'].map(lambda x: continent_encoding.get(native_country_dict.get(x, '?'), 5))\n",
        "\n",
        "\n",
        "train.head()"
      ],
      "metadata": {
        "colab": {
          "base_uri": "https://localhost:8080/",
          "height": 206
        },
        "id": "TMx_UQAIPp2p",
        "outputId": "db2adae0-9af8-41a0-aa8c-742c7ec3211c"
      },
      "execution_count": 173,
      "outputs": [
        {
          "output_type": "execute_result",
          "data": {
            "text/plain": [
              "   id  age workclass  fnlwgt     education      marital_status  \\\n",
              "0   0   40   Private  168538       HS-grad  Married-civ-spouse   \n",
              "1   1   17   Private  101626           9th       Never-married   \n",
              "2   2   18   Private  353358  Some-college       Never-married   \n",
              "3   3   21   Private  151158  Some-college       Never-married   \n",
              "4   4   24   Private  122234  Some-college       Never-married   \n",
              "\n",
              "          occupation   relationship   race     sex  capital_gain  \\\n",
              "0              Sales        Husband  White    Male             0   \n",
              "1  Machine-op-inspct      Own-child  White    Male             0   \n",
              "2      Other-service      Own-child  White    Male             0   \n",
              "3     Prof-specialty      Own-child  White  Female             0   \n",
              "4       Adm-clerical  Not-in-family  Black  Female             0   \n",
              "\n",
              "   capital_loss  hours_per_week  native_country  income  \n",
              "0             0              60               0       1  \n",
              "1             0              20               0       0  \n",
              "2             0              16               0       0  \n",
              "3             0              25               0       0  \n",
              "4             0              20               5       0  "
            ],
            "text/html": [
              "\n",
              "  <div id=\"df-5d508fd0-36b5-46a6-8a94-2999e2d855a9\" class=\"colab-df-container\">\n",
              "    <div>\n",
              "<style scoped>\n",
              "    .dataframe tbody tr th:only-of-type {\n",
              "        vertical-align: middle;\n",
              "    }\n",
              "\n",
              "    .dataframe tbody tr th {\n",
              "        vertical-align: top;\n",
              "    }\n",
              "\n",
              "    .dataframe thead th {\n",
              "        text-align: right;\n",
              "    }\n",
              "</style>\n",
              "<table border=\"1\" class=\"dataframe\">\n",
              "  <thead>\n",
              "    <tr style=\"text-align: right;\">\n",
              "      <th></th>\n",
              "      <th>id</th>\n",
              "      <th>age</th>\n",
              "      <th>workclass</th>\n",
              "      <th>fnlwgt</th>\n",
              "      <th>education</th>\n",
              "      <th>marital_status</th>\n",
              "      <th>occupation</th>\n",
              "      <th>relationship</th>\n",
              "      <th>race</th>\n",
              "      <th>sex</th>\n",
              "      <th>capital_gain</th>\n",
              "      <th>capital_loss</th>\n",
              "      <th>hours_per_week</th>\n",
              "      <th>native_country</th>\n",
              "      <th>income</th>\n",
              "    </tr>\n",
              "  </thead>\n",
              "  <tbody>\n",
              "    <tr>\n",
              "      <th>0</th>\n",
              "      <td>0</td>\n",
              "      <td>40</td>\n",
              "      <td>Private</td>\n",
              "      <td>168538</td>\n",
              "      <td>HS-grad</td>\n",
              "      <td>Married-civ-spouse</td>\n",
              "      <td>Sales</td>\n",
              "      <td>Husband</td>\n",
              "      <td>White</td>\n",
              "      <td>Male</td>\n",
              "      <td>0</td>\n",
              "      <td>0</td>\n",
              "      <td>60</td>\n",
              "      <td>0</td>\n",
              "      <td>1</td>\n",
              "    </tr>\n",
              "    <tr>\n",
              "      <th>1</th>\n",
              "      <td>1</td>\n",
              "      <td>17</td>\n",
              "      <td>Private</td>\n",
              "      <td>101626</td>\n",
              "      <td>9th</td>\n",
              "      <td>Never-married</td>\n",
              "      <td>Machine-op-inspct</td>\n",
              "      <td>Own-child</td>\n",
              "      <td>White</td>\n",
              "      <td>Male</td>\n",
              "      <td>0</td>\n",
              "      <td>0</td>\n",
              "      <td>20</td>\n",
              "      <td>0</td>\n",
              "      <td>0</td>\n",
              "    </tr>\n",
              "    <tr>\n",
              "      <th>2</th>\n",
              "      <td>2</td>\n",
              "      <td>18</td>\n",
              "      <td>Private</td>\n",
              "      <td>353358</td>\n",
              "      <td>Some-college</td>\n",
              "      <td>Never-married</td>\n",
              "      <td>Other-service</td>\n",
              "      <td>Own-child</td>\n",
              "      <td>White</td>\n",
              "      <td>Male</td>\n",
              "      <td>0</td>\n",
              "      <td>0</td>\n",
              "      <td>16</td>\n",
              "      <td>0</td>\n",
              "      <td>0</td>\n",
              "    </tr>\n",
              "    <tr>\n",
              "      <th>3</th>\n",
              "      <td>3</td>\n",
              "      <td>21</td>\n",
              "      <td>Private</td>\n",
              "      <td>151158</td>\n",
              "      <td>Some-college</td>\n",
              "      <td>Never-married</td>\n",
              "      <td>Prof-specialty</td>\n",
              "      <td>Own-child</td>\n",
              "      <td>White</td>\n",
              "      <td>Female</td>\n",
              "      <td>0</td>\n",
              "      <td>0</td>\n",
              "      <td>25</td>\n",
              "      <td>0</td>\n",
              "      <td>0</td>\n",
              "    </tr>\n",
              "    <tr>\n",
              "      <th>4</th>\n",
              "      <td>4</td>\n",
              "      <td>24</td>\n",
              "      <td>Private</td>\n",
              "      <td>122234</td>\n",
              "      <td>Some-college</td>\n",
              "      <td>Never-married</td>\n",
              "      <td>Adm-clerical</td>\n",
              "      <td>Not-in-family</td>\n",
              "      <td>Black</td>\n",
              "      <td>Female</td>\n",
              "      <td>0</td>\n",
              "      <td>0</td>\n",
              "      <td>20</td>\n",
              "      <td>5</td>\n",
              "      <td>0</td>\n",
              "    </tr>\n",
              "  </tbody>\n",
              "</table>\n",
              "</div>\n",
              "    <div class=\"colab-df-buttons\">\n",
              "\n",
              "  <div class=\"colab-df-container\">\n",
              "    <button class=\"colab-df-convert\" onclick=\"convertToInteractive('df-5d508fd0-36b5-46a6-8a94-2999e2d855a9')\"\n",
              "            title=\"Convert this dataframe to an interactive table.\"\n",
              "            style=\"display:none;\">\n",
              "\n",
              "  <svg xmlns=\"http://www.w3.org/2000/svg\" height=\"24px\" viewBox=\"0 -960 960 960\">\n",
              "    <path d=\"M120-120v-720h720v720H120Zm60-500h600v-160H180v160Zm220 220h160v-160H400v160Zm0 220h160v-160H400v160ZM180-400h160v-160H180v160Zm440 0h160v-160H620v160ZM180-180h160v-160H180v160Zm440 0h160v-160H620v160Z\"/>\n",
              "  </svg>\n",
              "    </button>\n",
              "\n",
              "  <style>\n",
              "    .colab-df-container {\n",
              "      display:flex;\n",
              "      gap: 12px;\n",
              "    }\n",
              "\n",
              "    .colab-df-convert {\n",
              "      background-color: #E8F0FE;\n",
              "      border: none;\n",
              "      border-radius: 50%;\n",
              "      cursor: pointer;\n",
              "      display: none;\n",
              "      fill: #1967D2;\n",
              "      height: 32px;\n",
              "      padding: 0 0 0 0;\n",
              "      width: 32px;\n",
              "    }\n",
              "\n",
              "    .colab-df-convert:hover {\n",
              "      background-color: #E2EBFA;\n",
              "      box-shadow: 0px 1px 2px rgba(60, 64, 67, 0.3), 0px 1px 3px 1px rgba(60, 64, 67, 0.15);\n",
              "      fill: #174EA6;\n",
              "    }\n",
              "\n",
              "    .colab-df-buttons div {\n",
              "      margin-bottom: 4px;\n",
              "    }\n",
              "\n",
              "    [theme=dark] .colab-df-convert {\n",
              "      background-color: #3B4455;\n",
              "      fill: #D2E3FC;\n",
              "    }\n",
              "\n",
              "    [theme=dark] .colab-df-convert:hover {\n",
              "      background-color: #434B5C;\n",
              "      box-shadow: 0px 1px 3px 1px rgba(0, 0, 0, 0.15);\n",
              "      filter: drop-shadow(0px 1px 2px rgba(0, 0, 0, 0.3));\n",
              "      fill: #FFFFFF;\n",
              "    }\n",
              "  </style>\n",
              "\n",
              "    <script>\n",
              "      const buttonEl =\n",
              "        document.querySelector('#df-5d508fd0-36b5-46a6-8a94-2999e2d855a9 button.colab-df-convert');\n",
              "      buttonEl.style.display =\n",
              "        google.colab.kernel.accessAllowed ? 'block' : 'none';\n",
              "\n",
              "      async function convertToInteractive(key) {\n",
              "        const element = document.querySelector('#df-5d508fd0-36b5-46a6-8a94-2999e2d855a9');\n",
              "        const dataTable =\n",
              "          await google.colab.kernel.invokeFunction('convertToInteractive',\n",
              "                                                    [key], {});\n",
              "        if (!dataTable) return;\n",
              "\n",
              "        const docLinkHtml = 'Like what you see? Visit the ' +\n",
              "          '<a target=\"_blank\" href=https://colab.research.google.com/notebooks/data_table.ipynb>data table notebook</a>'\n",
              "          + ' to learn more about interactive tables.';\n",
              "        element.innerHTML = '';\n",
              "        dataTable['output_type'] = 'display_data';\n",
              "        await google.colab.output.renderOutput(dataTable, element);\n",
              "        const docLink = document.createElement('div');\n",
              "        docLink.innerHTML = docLinkHtml;\n",
              "        element.appendChild(docLink);\n",
              "      }\n",
              "    </script>\n",
              "  </div>\n",
              "\n",
              "\n",
              "<div id=\"df-ec6f9ac2-9f15-4fd5-9520-31daf53a15c9\">\n",
              "  <button class=\"colab-df-quickchart\" onclick=\"quickchart('df-ec6f9ac2-9f15-4fd5-9520-31daf53a15c9')\"\n",
              "            title=\"Suggest charts\"\n",
              "            style=\"display:none;\">\n",
              "\n",
              "<svg xmlns=\"http://www.w3.org/2000/svg\" height=\"24px\"viewBox=\"0 0 24 24\"\n",
              "     width=\"24px\">\n",
              "    <g>\n",
              "        <path d=\"M19 3H5c-1.1 0-2 .9-2 2v14c0 1.1.9 2 2 2h14c1.1 0 2-.9 2-2V5c0-1.1-.9-2-2-2zM9 17H7v-7h2v7zm4 0h-2V7h2v10zm4 0h-2v-4h2v4z\"/>\n",
              "    </g>\n",
              "</svg>\n",
              "  </button>\n",
              "\n",
              "<style>\n",
              "  .colab-df-quickchart {\n",
              "      --bg-color: #E8F0FE;\n",
              "      --fill-color: #1967D2;\n",
              "      --hover-bg-color: #E2EBFA;\n",
              "      --hover-fill-color: #174EA6;\n",
              "      --disabled-fill-color: #AAA;\n",
              "      --disabled-bg-color: #DDD;\n",
              "  }\n",
              "\n",
              "  [theme=dark] .colab-df-quickchart {\n",
              "      --bg-color: #3B4455;\n",
              "      --fill-color: #D2E3FC;\n",
              "      --hover-bg-color: #434B5C;\n",
              "      --hover-fill-color: #FFFFFF;\n",
              "      --disabled-bg-color: #3B4455;\n",
              "      --disabled-fill-color: #666;\n",
              "  }\n",
              "\n",
              "  .colab-df-quickchart {\n",
              "    background-color: var(--bg-color);\n",
              "    border: none;\n",
              "    border-radius: 50%;\n",
              "    cursor: pointer;\n",
              "    display: none;\n",
              "    fill: var(--fill-color);\n",
              "    height: 32px;\n",
              "    padding: 0;\n",
              "    width: 32px;\n",
              "  }\n",
              "\n",
              "  .colab-df-quickchart:hover {\n",
              "    background-color: var(--hover-bg-color);\n",
              "    box-shadow: 0 1px 2px rgba(60, 64, 67, 0.3), 0 1px 3px 1px rgba(60, 64, 67, 0.15);\n",
              "    fill: var(--button-hover-fill-color);\n",
              "  }\n",
              "\n",
              "  .colab-df-quickchart-complete:disabled,\n",
              "  .colab-df-quickchart-complete:disabled:hover {\n",
              "    background-color: var(--disabled-bg-color);\n",
              "    fill: var(--disabled-fill-color);\n",
              "    box-shadow: none;\n",
              "  }\n",
              "\n",
              "  .colab-df-spinner {\n",
              "    border: 2px solid var(--fill-color);\n",
              "    border-color: transparent;\n",
              "    border-bottom-color: var(--fill-color);\n",
              "    animation:\n",
              "      spin 1s steps(1) infinite;\n",
              "  }\n",
              "\n",
              "  @keyframes spin {\n",
              "    0% {\n",
              "      border-color: transparent;\n",
              "      border-bottom-color: var(--fill-color);\n",
              "      border-left-color: var(--fill-color);\n",
              "    }\n",
              "    20% {\n",
              "      border-color: transparent;\n",
              "      border-left-color: var(--fill-color);\n",
              "      border-top-color: var(--fill-color);\n",
              "    }\n",
              "    30% {\n",
              "      border-color: transparent;\n",
              "      border-left-color: var(--fill-color);\n",
              "      border-top-color: var(--fill-color);\n",
              "      border-right-color: var(--fill-color);\n",
              "    }\n",
              "    40% {\n",
              "      border-color: transparent;\n",
              "      border-right-color: var(--fill-color);\n",
              "      border-top-color: var(--fill-color);\n",
              "    }\n",
              "    60% {\n",
              "      border-color: transparent;\n",
              "      border-right-color: var(--fill-color);\n",
              "    }\n",
              "    80% {\n",
              "      border-color: transparent;\n",
              "      border-right-color: var(--fill-color);\n",
              "      border-bottom-color: var(--fill-color);\n",
              "    }\n",
              "    90% {\n",
              "      border-color: transparent;\n",
              "      border-bottom-color: var(--fill-color);\n",
              "    }\n",
              "  }\n",
              "</style>\n",
              "\n",
              "  <script>\n",
              "    async function quickchart(key) {\n",
              "      const quickchartButtonEl =\n",
              "        document.querySelector('#' + key + ' button');\n",
              "      quickchartButtonEl.disabled = true;  // To prevent multiple clicks.\n",
              "      quickchartButtonEl.classList.add('colab-df-spinner');\n",
              "      try {\n",
              "        const charts = await google.colab.kernel.invokeFunction(\n",
              "            'suggestCharts', [key], {});\n",
              "      } catch (error) {\n",
              "        console.error('Error during call to suggestCharts:', error);\n",
              "      }\n",
              "      quickchartButtonEl.classList.remove('colab-df-spinner');\n",
              "      quickchartButtonEl.classList.add('colab-df-quickchart-complete');\n",
              "    }\n",
              "    (() => {\n",
              "      let quickchartButtonEl =\n",
              "        document.querySelector('#df-ec6f9ac2-9f15-4fd5-9520-31daf53a15c9 button');\n",
              "      quickchartButtonEl.style.display =\n",
              "        google.colab.kernel.accessAllowed ? 'block' : 'none';\n",
              "    })();\n",
              "  </script>\n",
              "</div>\n",
              "\n",
              "    </div>\n",
              "  </div>\n"
            ],
            "application/vnd.google.colaboratory.intrinsic+json": {
              "type": "dataframe",
              "variable_name": "train",
              "summary": "{\n  \"name\": \"train\",\n  \"rows\": 26043,\n  \"fields\": [\n    {\n      \"column\": \"id\",\n      \"properties\": {\n        \"dtype\": \"number\",\n        \"std\": 7520,\n        \"min\": 0,\n        \"max\": 26048,\n        \"num_unique_values\": 26043,\n        \"samples\": [\n          7792,\n          17703,\n          1668\n        ],\n        \"semantic_type\": \"\",\n        \"description\": \"\"\n      }\n    },\n    {\n      \"column\": \"age\",\n      \"properties\": {\n        \"dtype\": \"number\",\n        \"std\": 13,\n        \"min\": 17,\n        \"max\": 90,\n        \"num_unique_values\": 73,\n        \"samples\": [\n          24,\n          79,\n          31\n        ],\n        \"semantic_type\": \"\",\n        \"description\": \"\"\n      }\n    },\n    {\n      \"column\": \"workclass\",\n      \"properties\": {\n        \"dtype\": \"category\",\n        \"num_unique_values\": 8,\n        \"samples\": [\n          \"State-gov\",\n          \"Federal-gov\",\n          \"Private\"\n        ],\n        \"semantic_type\": \"\",\n        \"description\": \"\"\n      }\n    },\n    {\n      \"column\": \"fnlwgt\",\n      \"properties\": {\n        \"dtype\": \"number\",\n        \"std\": 105964,\n        \"min\": 13769,\n        \"max\": 1484705,\n        \"num_unique_values\": 18419,\n        \"samples\": [\n          175509,\n          239529,\n          385242\n        ],\n        \"semantic_type\": \"\",\n        \"description\": \"\"\n      }\n    },\n    {\n      \"column\": \"education\",\n      \"properties\": {\n        \"dtype\": \"category\",\n        \"num_unique_values\": 16,\n        \"samples\": [\n          \"HS-grad\",\n          \"9th\",\n          \"1st-4th\"\n        ],\n        \"semantic_type\": \"\",\n        \"description\": \"\"\n      }\n    },\n    {\n      \"column\": \"marital_status\",\n      \"properties\": {\n        \"dtype\": \"category\",\n        \"num_unique_values\": 7,\n        \"samples\": [\n          \"Married-civ-spouse\",\n          \"Never-married\",\n          \"Widowed\"\n        ],\n        \"semantic_type\": \"\",\n        \"description\": \"\"\n      }\n    },\n    {\n      \"column\": \"occupation\",\n      \"properties\": {\n        \"dtype\": \"category\",\n        \"num_unique_values\": 15,\n        \"samples\": [\n          \"Exec-managerial\",\n          \"Protective-serv\",\n          \"Sales\"\n        ],\n        \"semantic_type\": \"\",\n        \"description\": \"\"\n      }\n    },\n    {\n      \"column\": \"relationship\",\n      \"properties\": {\n        \"dtype\": \"category\",\n        \"num_unique_values\": 6,\n        \"samples\": [\n          \"Husband\",\n          \"Own-child\",\n          \"Other-relative\"\n        ],\n        \"semantic_type\": \"\",\n        \"description\": \"\"\n      }\n    },\n    {\n      \"column\": \"race\",\n      \"properties\": {\n        \"dtype\": \"category\",\n        \"num_unique_values\": 5,\n        \"samples\": [\n          \"Black\",\n          \"Amer-Indian-Eskimo\",\n          \"Asian-Pac-Islander\"\n        ],\n        \"semantic_type\": \"\",\n        \"description\": \"\"\n      }\n    },\n    {\n      \"column\": \"sex\",\n      \"properties\": {\n        \"dtype\": \"category\",\n        \"num_unique_values\": 2,\n        \"samples\": [\n          \"Female\",\n          \"Male\"\n        ],\n        \"semantic_type\": \"\",\n        \"description\": \"\"\n      }\n    },\n    {\n      \"column\": \"capital_gain\",\n      \"properties\": {\n        \"dtype\": \"number\",\n        \"std\": 7389,\n        \"min\": 0,\n        \"max\": 99999,\n        \"num_unique_values\": 119,\n        \"samples\": [\n          6360,\n          3471\n        ],\n        \"semantic_type\": \"\",\n        \"description\": \"\"\n      }\n    },\n    {\n      \"column\": \"capital_loss\",\n      \"properties\": {\n        \"dtype\": \"number\",\n        \"std\": 403,\n        \"min\": 0,\n        \"max\": 4356,\n        \"num_unique_values\": 90,\n        \"samples\": [\n          2377,\n          2547\n        ],\n        \"semantic_type\": \"\",\n        \"description\": \"\"\n      }\n    },\n    {\n      \"column\": \"hours_per_week\",\n      \"properties\": {\n        \"dtype\": \"number\",\n        \"std\": 12,\n        \"min\": 1,\n        \"max\": 99,\n        \"num_unique_values\": 93,\n        \"samples\": [\n          90,\n          70\n        ],\n        \"semantic_type\": \"\",\n        \"description\": \"\"\n      }\n    },\n    {\n      \"column\": \"native_country\",\n      \"properties\": {\n        \"dtype\": \"number\",\n        \"std\": 0,\n        \"min\": 0,\n        \"max\": 5,\n        \"num_unique_values\": 6,\n        \"samples\": [\n          0,\n          5\n        ],\n        \"semantic_type\": \"\",\n        \"description\": \"\"\n      }\n    },\n    {\n      \"column\": \"income\",\n      \"properties\": {\n        \"dtype\": \"number\",\n        \"std\": 0,\n        \"min\": 0,\n        \"max\": 1,\n        \"num_unique_values\": 2,\n        \"samples\": [\n          0,\n          1\n        ],\n        \"semantic_type\": \"\",\n        \"description\": \"\"\n      }\n    }\n  ]\n}"
            }
          },
          "metadata": {},
          "execution_count": 173
        }
      ]
    },
    {
      "cell_type": "code",
      "source": [
        "train['native_country'].isnull().sum()"
      ],
      "metadata": {
        "colab": {
          "base_uri": "https://localhost:8080/"
        },
        "id": "A-iN4LP0RtJ4",
        "outputId": "1bc95c16-ae26-4d81-9ce7-e6ad95e84990"
      },
      "execution_count": 174,
      "outputs": [
        {
          "output_type": "execute_result",
          "data": {
            "text/plain": [
              "0"
            ]
          },
          "metadata": {},
          "execution_count": 174
        }
      ]
    },
    {
      "cell_type": "code",
      "source": [
        "train['native_country'].fillna('?', inplace=True)\n",
        "\n",
        "train['native_country'].isnull().sum()"
      ],
      "metadata": {
        "colab": {
          "base_uri": "https://localhost:8080/"
        },
        "id": "rMjEt2wrRWkj",
        "outputId": "739d90ee-fcd0-4cfb-d471-bdce4e338efc"
      },
      "execution_count": 175,
      "outputs": [
        {
          "output_type": "execute_result",
          "data": {
            "text/plain": [
              "0"
            ]
          },
          "metadata": {},
          "execution_count": 175
        }
      ]
    },
    {
      "cell_type": "code",
      "source": [
        "train['native_country'].value_counts()"
      ],
      "metadata": {
        "colab": {
          "base_uri": "https://localhost:8080/"
        },
        "id": "guuemT9mSK8C",
        "outputId": "001fe5bf-4a23-429e-961d-4a68ac330a42"
      },
      "execution_count": 176,
      "outputs": [
        {
          "output_type": "execute_result",
          "data": {
            "text/plain": [
              "native_country\n",
              "0    23365\n",
              "1     1051\n",
              "3      524\n",
              "5      456\n",
              "2      392\n",
              "4      255\n",
              "Name: count, dtype: int64"
            ]
          },
          "metadata": {},
          "execution_count": 176
        }
      ]
    },
    {
      "cell_type": "code",
      "source": [
        "plt.rc(\"figure\", figsize = (10, 8))\n",
        "\n",
        "sns.countplot(x='native_country', hue='income', data=train, palette = colors)"
      ],
      "metadata": {
        "colab": {
          "base_uri": "https://localhost:8080/",
          "height": 720
        },
        "id": "0hw1hrpOSfGB",
        "outputId": "f4abecb8-33f4-4b98-9012-bc9f145d3e3b"
      },
      "execution_count": 177,
      "outputs": [
        {
          "output_type": "execute_result",
          "data": {
            "text/plain": [
              "<Axes: xlabel='native_country', ylabel='count'>"
            ]
          },
          "metadata": {},
          "execution_count": 177
        },
        {
          "output_type": "display_data",
          "data": {
            "text/plain": [
              "<Figure size 1000x800 with 1 Axes>"
            ],
            "image/png": "[encoded data removed]"
          },
          "metadata": {}
        }
      ]
    },
    {
      "cell_type": "markdown",
      "source": [
        "### 3.7 Sex(성별)"
      ],
      "metadata": {
        "id": "Tb-tbG0hTXGT"
      }
    },
    {
      "cell_type": "markdown",
      "source": [
        "별 다른 특이사항은 발견되지 않아 그대로 대략적 분포만 체크를 진행하였습니다."
      ],
      "metadata": {
        "id": "uZStsk-hTl0U"
      }
    },
    {
      "cell_type": "code",
      "source": [
        "train['sex'].value_counts()"
      ],
      "metadata": {
        "colab": {
          "base_uri": "https://localhost:8080/"
        },
        "id": "v-quwl-FTbNm",
        "outputId": "6cbe2b09-0be1-4acb-9731-71b4d18e0938"
      },
      "execution_count": 178,
      "outputs": [
        {
          "output_type": "execute_result",
          "data": {
            "text/plain": [
              "sex\n",
              "Male      17477\n",
              "Female     8566\n",
              "Name: count, dtype: int64"
            ]
          },
          "metadata": {},
          "execution_count": 178
        }
      ]
    },
    {
      "cell_type": "code",
      "source": [
        "plt.rc(\"figure\", figsize = (8, 4))\n",
        "\n",
        "sns.countplot(x='sex', hue='income', data=train, palette = colors)"
      ],
      "metadata": {
        "colab": {
          "base_uri": "https://localhost:8080/",
          "height": 412
        },
        "id": "dedA-Y_4Tu2f",
        "outputId": "e4862b63-a24f-46b4-fef4-3b15be13055a"
      },
      "execution_count": 179,
      "outputs": [
        {
          "output_type": "execute_result",
          "data": {
            "text/plain": [
              "<Axes: xlabel='sex', ylabel='count'>"
            ]
          },
          "metadata": {},
          "execution_count": 179
        },
        {
          "output_type": "display_data",
          "data": {
            "text/plain": [
              "<Figure size 800x400 with 1 Axes>"
            ],
            "image/png": "[encoded data removed]"
          },
          "metadata": {}
        }
      ]
    },
    {
      "cell_type": "markdown",
      "source": [
        "### 3.8 Hours_per_week(주당 근무 시간)"
      ],
      "metadata": {
        "id": "uq0QbPgwT6JL"
      }
    },
    {
      "cell_type": "code",
      "source": [
        "train['hours_per_week'].value_counts()"
      ],
      "metadata": {
        "colab": {
          "base_uri": "https://localhost:8080/"
        },
        "id": "F1H7bbyxUMJq",
        "outputId": "176841c0-ff81-4f58-b6f7-ca85dfd0c3f9"
      },
      "execution_count": 180,
      "outputs": [
        {
          "output_type": "execute_result",
          "data": {
            "text/plain": [
              "hours_per_week\n",
              "40    12152\n",
              "50     2314\n",
              "45     1458\n",
              "60     1164\n",
              "35     1041\n",
              "      ...  \n",
              "81        1\n",
              "92        1\n",
              "89        1\n",
              "88        1\n",
              "94        1\n",
              "Name: count, Length: 93, dtype: int64"
            ]
          },
          "metadata": {},
          "execution_count": 180
        }
      ]
    },
    {
      "cell_type": "code",
      "source": [
        "plt.rc(\"figure\", figsize = (12, 8))\n",
        "\n",
        "train[train['income'] == 0]['hours_per_week'].plot(kind='kde', color='red')\n",
        "train[train['income'] == 1]['hours_per_week'].plot(kind='kde', color='blue')\n",
        "\n",
        "plt.legend(labels=[\"0 : 50K 이하\",\"1 : 50K 초과\" ])"
      ],
      "metadata": {
        "colab": {
          "base_uri": "https://localhost:8080/",
          "height": 699
        },
        "id": "YB9AIMt5USSB",
        "outputId": "d4b5b208-5b54-47c6-a921-a25a8b84cb30"
      },
      "execution_count": 181,
      "outputs": [
        {
          "output_type": "execute_result",
          "data": {
            "text/plain": [
              "<matplotlib.legend.Legend at 0x7b0ec6b16710>"
            ]
          },
          "metadata": {},
          "execution_count": 181
        },
        {
          "output_type": "display_data",
          "data": {
            "text/plain": [
              "<Figure size 1200x800 with 1 Axes>"
            ],
            "image/png": "[encoded data removed]"
          },
          "metadata": {}
        }
      ]
    },
    {
      "cell_type": "markdown",
      "source": [
        "### 3.9 capital_gain(양도 소득) & capital_loss(양도 손실)"
      ],
      "metadata": {
        "id": "Ya3FVaBjToHS"
      }
    },
    {
      "cell_type": "markdown",
      "source": [
        "양도소득과 양도손실의 개념을 정의합니다.\n",
        "<br /><br />\n",
        "**capital_gain(양도 소득)**\n",
        "\n",
        "개인이 토지, 건물 등 부동산이나 주식 등과 파생상품의 양도 또는 분양권과 같은\n",
        "\n",
        "부동산에 관한 권리를 양도함으로 인하여 발생하는 이익(소득)을 과세대상으로 하여 부과하는 세금\n",
        "<br /><br />\n",
        "**capital_loss(양도 손실)**\n",
        "\n",
        "투자 또는 부동산과 같은 자본 자산의 가치가 감소할 때 발생하는 손실"
      ],
      "metadata": {
        "id": "uM0mwAvfT8La"
      }
    },
    {
      "cell_type": "markdown",
      "source": [
        "각 칼럼의 분포 값을 확인해보니 0값의 비율이 대부분을 차지하였다."
      ],
      "metadata": {
        "id": "TN4O3c6-VItJ"
      }
    },
    {
      "cell_type": "markdown",
      "source": [
        "**capital_gain(양도 소득)**"
      ],
      "metadata": {
        "id": "-puPiG9HZjG4"
      }
    },
    {
      "cell_type": "code",
      "source": [
        "print(train['capital_gain'].value_counts())"
      ],
      "metadata": {
        "colab": {
          "base_uri": "https://localhost:8080/"
        },
        "id": "nAzbJOrmUYol",
        "outputId": "d4724506-68a6-4076-9dde-4c57b683c1b3"
      },
      "execution_count": 182,
      "outputs": [
        {
          "output_type": "stream",
          "name": "stdout",
          "text": [
            "capital_gain\n",
            "0        23850\n",
            "15024      283\n",
            "7688       229\n",
            "7298       205\n",
            "99999      127\n",
            "         ...  \n",
            "7978         1\n",
            "6097         1\n",
            "4931         1\n",
            "22040        1\n",
            "1455         1\n",
            "Name: count, Length: 119, dtype: int64\n"
          ]
        }
      ]
    },
    {
      "cell_type": "code",
      "source": [
        "plt.rc(\"figure\", figsize = (10, 8))\n",
        "\n",
        "train[train['income'] == 0]['capital_gain'].plot(kind='kde', color='red')\n",
        "train[train['income'] == 1]['capital_gain'].plot(kind='kde', color='blue')\n",
        "\n",
        "plt.legend(labels=[\"0 : 50K 이하\",\"1 : 50K 초과\" ])"
      ],
      "metadata": {
        "colab": {
          "base_uri": "https://localhost:8080/",
          "height": 699
        },
        "id": "anjlbVOWUirA",
        "outputId": "48ae9582-72c0-4811-84ba-23cdce8e512c"
      },
      "execution_count": 183,
      "outputs": [
        {
          "output_type": "execute_result",
          "data": {
            "text/plain": [
              "<matplotlib.legend.Legend at 0x7b0ec6b715a0>"
            ]
          },
          "metadata": {},
          "execution_count": 183
        },
        {
          "output_type": "display_data",
          "data": {
            "text/plain": [
              "<Figure size 1000x800 with 1 Axes>"
            ],
            "image/png": "[encoded data removed]"
          },
          "metadata": {}
        }
      ]
    },
    {
      "cell_type": "markdown",
      "source": [
        "**capital_loss(양도 손실)**"
      ],
      "metadata": {
        "id": "BoOMzIIoZsVL"
      }
    },
    {
      "cell_type": "code",
      "source": [
        "print(train['capital_loss'].value_counts())"
      ],
      "metadata": {
        "colab": {
          "base_uri": "https://localhost:8080/"
        },
        "id": "qACJ1rCscjLp",
        "outputId": "76274dd2-27dc-4003-e1ef-c1ab7a12af3b"
      },
      "execution_count": 184,
      "outputs": [
        {
          "output_type": "stream",
          "name": "stdout",
          "text": [
            "capital_loss\n",
            "0       24817\n",
            "1902      168\n",
            "1977      136\n",
            "1887      129\n",
            "1602       41\n",
            "        ...  \n",
            "1816        1\n",
            "2163        1\n",
            "2467        1\n",
            "323         1\n",
            "2080        1\n",
            "Name: count, Length: 90, dtype: int64\n"
          ]
        }
      ]
    },
    {
      "cell_type": "code",
      "source": [
        "plt.rc(\"figure\", figsize = (10, 8))\n",
        "\n",
        "train[train['income'] == 0]['capital_loss'].plot(kind='kde', color='red')\n",
        "train[train['income'] == 1]['capital_loss'].plot(kind='kde', color='blue')\n",
        "\n",
        "plt.legend(labels=[\"0 : 50K 이하\",\"1 : 50K 초과\" ])"
      ],
      "metadata": {
        "colab": {
          "base_uri": "https://localhost:8080/",
          "height": 699
        },
        "id": "SzV_DzElX-XT",
        "outputId": "92ea7ff7-395d-4d62-96df-02c1382759c4"
      },
      "execution_count": 185,
      "outputs": [
        {
          "output_type": "execute_result",
          "data": {
            "text/plain": [
              "<matplotlib.legend.Legend at 0x7b0ec672e230>"
            ]
          },
          "metadata": {},
          "execution_count": 185
        },
        {
          "output_type": "display_data",
          "data": {
            "text/plain": [
              "<Figure size 1000x800 with 1 Axes>"
            ],
            "image/png": "[encoded data removed]"
          },
          "metadata": {}
        }
      ]
    },
    {
      "cell_type": "markdown",
      "source": [
        "### 3.10 fnlwgt(사람 대표성 가중치)"
      ],
      "metadata": {
        "id": "z8KR3Wytcp_B"
      }
    },
    {
      "cell_type": "markdown",
      "source": [
        "fnlwgt는 전체 변수에 따른 가중치를 뜻합니다.\n",
        "\n",
        "즉, 사람의 특성(결혼 유무, 학력)에 대한 대표성이 높을수록 fnlwgt는 높게 측정됩니다.\n"
      ],
      "metadata": {
        "id": "Bcu1X68-dJo2"
      }
    },
    {
      "cell_type": "code",
      "source": [
        "train[train['income'] == 0]['fnlwgt'].plot(kind='kde', color='red')\n",
        "train[train['income'] == 1]['fnlwgt'].plot(kind='kde', color='blue')\n",
        "\n",
        "plt.legend(labels=[\"0 : 50K 이하\",\"1 : 50K 초과\" ])"
      ],
      "metadata": {
        "colab": {
          "base_uri": "https://localhost:8080/",
          "height": 734
        },
        "id": "7DMEHpSjcMtg",
        "outputId": "3acb7bae-3e6e-44fe-8734-c64de9fdef6a"
      },
      "execution_count": 186,
      "outputs": [
        {
          "output_type": "execute_result",
          "data": {
            "text/plain": [
              "<matplotlib.legend.Legend at 0x7b0ec6790550>"
            ]
          },
          "metadata": {},
          "execution_count": 186
        },
        {
          "output_type": "display_data",
          "data": {
            "text/plain": [
              "<Figure size 1000x800 with 1 Axes>"
            ],
            "image/png": "[encoded data removed]"
          },
          "metadata": {}
        }
      ]
    },
    {
      "cell_type": "markdown",
      "source": [
        "**[ Feature Engineering 적용사항]**\n",
        "\n",
        "<br/>\n",
        "\n",
        "- Target 예측값인 income 칼럼이 이진분류 가능한 값으로 해당 값을 0,1 값으로 반환\n",
        "- Occupation(업종) : Never-worked 칼럼 \"?\" 6개 값을 Drop\n",
        "- Native_country : 국가 별 5개 대륙으로 그룹화\n",
        "  -  'United-States' : 0,\n",
        "  - 'North America': 1,\n",
        "  - 'Europe': 2,\n",
        "  - 'Asia': 3,\n",
        "  - 'South America': 4\n",
        "  - '?' : 5\n",
        "\n",
        "- education_num (교육 수준 수치) 칼럼을 Drop\n"
      ],
      "metadata": {
        "id": "fwYb3elOeNIY"
      }
    },
    {
      "cell_type": "markdown",
      "source": [
        "## 4. train / test Data 동기화"
      ],
      "metadata": {
        "id": "6OWgf_RLiv1x"
      }
    },
    {
      "cell_type": "markdown",
      "source": [
        "### 4.1 함수화"
      ],
      "metadata": {
        "id": "9u0-9U9Uni8T"
      }
    },
    {
      "cell_type": "code",
      "source": [
        "# Feature Engineering 이후 분리할 인덱스\n",
        "idx = len(train)\n",
        "\n",
        "# train과 test set 합쳐서 한번에 진행\n",
        "\n",
        "train = train_raw.copy()\n",
        "test = test_raw.copy()\n",
        "\n",
        "mix_data = pd.concat([train, test])"
      ],
      "metadata": {
        "id": "3EY1EwxXi10h"
      },
      "execution_count": 187,
      "outputs": []
    },
    {
      "cell_type": "code",
      "source": [
        "# 총 3개의 작업 수행\n",
        "\n",
        "def preprocess_data(df):\n",
        "    # Map 'income' column to binary values\n",
        "    df['income'] = df['income'].map(lambda x: 1 if x == '>50K' else 0)\n",
        "\n",
        "    # Drop 'Never-worked' rows from 'workclass' column\n",
        "    df.drop(df[df['workclass'] == 'Never-worked'].index, axis=0, inplace=True)\n",
        "\n",
        "    # Define native country mappings\n",
        "    united_states = ['United-States']\n",
        "    north_america = ['Mexico', 'Canada', 'Puerto-Rico', 'El-Salvador', 'Cuba', 'Jamaica', 'Guatemala', 'Dominican-Republic', 'Honduras']\n",
        "    europe = ['Germany', 'England', 'Italy', 'Poland', 'Portugal', 'Greece', 'Ireland', 'Scotland', 'France', 'Yugoslavia', 'Hungary']\n",
        "    asia = ['Philippines', 'India', 'China', 'Japan', 'Taiwan', 'Iran', 'Vietnam', 'Hong', 'Cambodia', 'Laos', 'Thailand']\n",
        "    south_america = ['South', 'Columbia', 'Peru', 'Ecuador', 'Haiti', 'Trinadad&Tobago', 'Nicaragua', 'Outlying-US(Guam-USVI-etc)']\n",
        "\n",
        "    native_country_dict = {}\n",
        "\n",
        "    for country in united_states:\n",
        "        native_country_dict[country] = 'United-States'\n",
        "\n",
        "    for country in north_america:\n",
        "        native_country_dict[country] = 'North America'\n",
        "\n",
        "    for country in europe:\n",
        "        native_country_dict[country] = 'Europe'\n",
        "\n",
        "    for country in asia:\n",
        "        native_country_dict[country] = 'Asia'\n",
        "\n",
        "    for country in south_america:\n",
        "        native_country_dict[country] = 'South America'\n",
        "\n",
        "    # Define continent encoding\n",
        "    continent_encoding = {\n",
        "        'United-States' : 0,\n",
        "        'North America': 1,\n",
        "        'Europe': 2,\n",
        "        'Asia': 3,\n",
        "        'South America': 4\n",
        "    }\n",
        "\n",
        "    # Map 'native_country' column to continent names and encode\n",
        "    df['native_country'] = df['native_country'].map(lambda x: continent_encoding.get(native_country_dict.get(x, '?'), 5))\n",
        "\n",
        "    # Drop 'education_num' column\n",
        "    df.drop('education_num', axis=1, inplace=True)\n",
        "\n",
        "    return df\n",
        "\n",
        "mix_data = preprocess_data(mix_data)"
      ],
      "metadata": {
        "id": "LZHSjxw6oA_M"
      },
      "execution_count": 188,
      "outputs": []
    },
    {
      "cell_type": "code",
      "source": [
        "mix_data.head()"
      ],
      "metadata": {
        "colab": {
          "base_uri": "https://localhost:8080/",
          "height": 206
        },
        "id": "GKSYCaq0muxe",
        "outputId": "8205904f-d717-41f6-c306-5e623fd507c3"
      },
      "execution_count": 189,
      "outputs": [
        {
          "output_type": "execute_result",
          "data": {
            "text/plain": [
              "   id  age workclass  fnlwgt     education      marital_status  \\\n",
              "0   0   40   Private  168538       HS-grad  Married-civ-spouse   \n",
              "1   1   17   Private  101626           9th       Never-married   \n",
              "2   2   18   Private  353358  Some-college       Never-married   \n",
              "3   3   21   Private  151158  Some-college       Never-married   \n",
              "4   4   24   Private  122234  Some-college       Never-married   \n",
              "\n",
              "          occupation   relationship   race     sex  capital_gain  \\\n",
              "0              Sales        Husband  White    Male             0   \n",
              "1  Machine-op-inspct      Own-child  White    Male             0   \n",
              "2      Other-service      Own-child  White    Male             0   \n",
              "3     Prof-specialty      Own-child  White  Female             0   \n",
              "4       Adm-clerical  Not-in-family  Black  Female             0   \n",
              "\n",
              "   capital_loss  hours_per_week  native_country  income  \n",
              "0             0              60               0       1  \n",
              "1             0              20               0       0  \n",
              "2             0              16               0       0  \n",
              "3             0              25               0       0  \n",
              "4             0              20               5       0  "
            ],
            "text/html": [
              "\n",
              "  <div id=\"df-72c89ab7-b254-407a-8b28-1f89f784af86\" class=\"colab-df-container\">\n",
              "    <div>\n",
              "<style scoped>\n",
              "    .dataframe tbody tr th:only-of-type {\n",
              "        vertical-align: middle;\n",
              "    }\n",
              "\n",
              "    .dataframe tbody tr th {\n",
              "        vertical-align: top;\n",
              "    }\n",
              "\n",
              "    .dataframe thead th {\n",
              "        text-align: right;\n",
              "    }\n",
              "</style>\n",
              "<table border=\"1\" class=\"dataframe\">\n",
              "  <thead>\n",
              "    <tr style=\"text-align: right;\">\n",
              "      <th></th>\n",
              "      <th>id</th>\n",
              "      <th>age</th>\n",
              "      <th>workclass</th>\n",
              "      <th>fnlwgt</th>\n",
              "      <th>education</th>\n",
              "      <th>marital_status</th>\n",
              "      <th>occupation</th>\n",
              "      <th>relationship</th>\n",
              "      <th>race</th>\n",
              "      <th>sex</th>\n",
              "      <th>capital_gain</th>\n",
              "      <th>capital_loss</th>\n",
              "      <th>hours_per_week</th>\n",
              "      <th>native_country</th>\n",
              "      <th>income</th>\n",
              "    </tr>\n",
              "  </thead>\n",
              "  <tbody>\n",
              "    <tr>\n",
              "      <th>0</th>\n",
              "      <td>0</td>\n",
              "      <td>40</td>\n",
              "      <td>Private</td>\n",
              "      <td>168538</td>\n",
              "      <td>HS-grad</td>\n",
              "      <td>Married-civ-spouse</td>\n",
              "      <td>Sales</td>\n",
              "      <td>Husband</td>\n",
              "      <td>White</td>\n",
              "      <td>Male</td>\n",
              "      <td>0</td>\n",
              "      <td>0</td>\n",
              "      <td>60</td>\n",
              "      <td>0</td>\n",
              "      <td>1</td>\n",
              "    </tr>\n",
              "    <tr>\n",
              "      <th>1</th>\n",
              "      <td>1</td>\n",
              "      <td>17</td>\n",
              "      <td>Private</td>\n",
              "      <td>101626</td>\n",
              "      <td>9th</td>\n",
              "      <td>Never-married</td>\n",
              "      <td>Machine-op-inspct</td>\n",
              "      <td>Own-child</td>\n",
              "      <td>White</td>\n",
              "      <td>Male</td>\n",
              "      <td>0</td>\n",
              "      <td>0</td>\n",
              "      <td>20</td>\n",
              "      <td>0</td>\n",
              "      <td>0</td>\n",
              "    </tr>\n",
              "    <tr>\n",
              "      <th>2</th>\n",
              "      <td>2</td>\n",
              "      <td>18</td>\n",
              "      <td>Private</td>\n",
              "      <td>353358</td>\n",
              "      <td>Some-college</td>\n",
              "      <td>Never-married</td>\n",
              "      <td>Other-service</td>\n",
              "      <td>Own-child</td>\n",
              "      <td>White</td>\n",
              "      <td>Male</td>\n",
              "      <td>0</td>\n",
              "      <td>0</td>\n",
              "      <td>16</td>\n",
              "      <td>0</td>\n",
              "      <td>0</td>\n",
              "    </tr>\n",
              "    <tr>\n",
              "      <th>3</th>\n",
              "      <td>3</td>\n",
              "      <td>21</td>\n",
              "      <td>Private</td>\n",
              "      <td>151158</td>\n",
              "      <td>Some-college</td>\n",
              "      <td>Never-married</td>\n",
              "      <td>Prof-specialty</td>\n",
              "      <td>Own-child</td>\n",
              "      <td>White</td>\n",
              "      <td>Female</td>\n",
              "      <td>0</td>\n",
              "      <td>0</td>\n",
              "      <td>25</td>\n",
              "      <td>0</td>\n",
              "      <td>0</td>\n",
              "    </tr>\n",
              "    <tr>\n",
              "      <th>4</th>\n",
              "      <td>4</td>\n",
              "      <td>24</td>\n",
              "      <td>Private</td>\n",
              "      <td>122234</td>\n",
              "      <td>Some-college</td>\n",
              "      <td>Never-married</td>\n",
              "      <td>Adm-clerical</td>\n",
              "      <td>Not-in-family</td>\n",
              "      <td>Black</td>\n",
              "      <td>Female</td>\n",
              "      <td>0</td>\n",
              "      <td>0</td>\n",
              "      <td>20</td>\n",
              "      <td>5</td>\n",
              "      <td>0</td>\n",
              "    </tr>\n",
              "  </tbody>\n",
              "</table>\n",
              "</div>\n",
              "    <div class=\"colab-df-buttons\">\n",
              "\n",
              "  <div class=\"colab-df-container\">\n",
              "    <button class=\"colab-df-convert\" onclick=\"convertToInteractive('df-72c89ab7-b254-407a-8b28-1f89f784af86')\"\n",
              "            title=\"Convert this dataframe to an interactive table.\"\n",
              "            style=\"display:none;\">\n",
              "\n",
              "  <svg xmlns=\"http://www.w3.org/2000/svg\" height=\"24px\" viewBox=\"0 -960 960 960\">\n",
              "    <path d=\"M120-120v-720h720v720H120Zm60-500h600v-160H180v160Zm220 220h160v-160H400v160Zm0 220h160v-160H400v160ZM180-400h160v-160H180v160Zm440 0h160v-160H620v160ZM180-180h160v-160H180v160Zm440 0h160v-160H620v160Z\"/>\n",
              "  </svg>\n",
              "    </button>\n",
              "\n",
              "  <style>\n",
              "    .colab-df-container {\n",
              "      display:flex;\n",
              "      gap: 12px;\n",
              "    }\n",
              "\n",
              "    .colab-df-convert {\n",
              "      background-color: #E8F0FE;\n",
              "      border: none;\n",
              "      border-radius: 50%;\n",
              "      cursor: pointer;\n",
              "      display: none;\n",
              "      fill: #1967D2;\n",
              "      height: 32px;\n",
              "      padding: 0 0 0 0;\n",
              "      width: 32px;\n",
              "    }\n",
              "\n",
              "    .colab-df-convert:hover {\n",
              "      background-color: #E2EBFA;\n",
              "      box-shadow: 0px 1px 2px rgba(60, 64, 67, 0.3), 0px 1px 3px 1px rgba(60, 64, 67, 0.15);\n",
              "      fill: #174EA6;\n",
              "    }\n",
              "\n",
              "    .colab-df-buttons div {\n",
              "      margin-bottom: 4px;\n",
              "    }\n",
              "\n",
              "    [theme=dark] .colab-df-convert {\n",
              "      background-color: #3B4455;\n",
              "      fill: #D2E3FC;\n",
              "    }\n",
              "\n",
              "    [theme=dark] .colab-df-convert:hover {\n",
              "      background-color: #434B5C;\n",
              "      box-shadow: 0px 1px 3px 1px rgba(0, 0, 0, 0.15);\n",
              "      filter: drop-shadow(0px 1px 2px rgba(0, 0, 0, 0.3));\n",
              "      fill: #FFFFFF;\n",
              "    }\n",
              "  </style>\n",
              "\n",
              "    <script>\n",
              "      const buttonEl =\n",
              "        document.querySelector('#df-72c89ab7-b254-407a-8b28-1f89f784af86 button.colab-df-convert');\n",
              "      buttonEl.style.display =\n",
              "        google.colab.kernel.accessAllowed ? 'block' : 'none';\n",
              "\n",
              "      async function convertToInteractive(key) {\n",
              "        const element = document.querySelector('#df-72c89ab7-b254-407a-8b28-1f89f784af86');\n",
              "        const dataTable =\n",
              "          await google.colab.kernel.invokeFunction('convertToInteractive',\n",
              "                                                    [key], {});\n",
              "        if (!dataTable) return;\n",
              "\n",
              "        const docLinkHtml = 'Like what you see? Visit the ' +\n",
              "          '<a target=\"_blank\" href=https://colab.research.google.com/notebooks/data_table.ipynb>data table notebook</a>'\n",
              "          + ' to learn more about interactive tables.';\n",
              "        element.innerHTML = '';\n",
              "        dataTable['output_type'] = 'display_data';\n",
              "        await google.colab.output.renderOutput(dataTable, element);\n",
              "        const docLink = document.createElement('div');\n",
              "        docLink.innerHTML = docLinkHtml;\n",
              "        element.appendChild(docLink);\n",
              "      }\n",
              "    </script>\n",
              "  </div>\n",
              "\n",
              "\n",
              "<div id=\"df-784a898f-3fda-4b02-842b-0de6324d38f1\">\n",
              "  <button class=\"colab-df-quickchart\" onclick=\"quickchart('df-784a898f-3fda-4b02-842b-0de6324d38f1')\"\n",
              "            title=\"Suggest charts\"\n",
              "            style=\"display:none;\">\n",
              "\n",
              "<svg xmlns=\"http://www.w3.org/2000/svg\" height=\"24px\"viewBox=\"0 0 24 24\"\n",
              "     width=\"24px\">\n",
              "    <g>\n",
              "        <path d=\"M19 3H5c-1.1 0-2 .9-2 2v14c0 1.1.9 2 2 2h14c1.1 0 2-.9 2-2V5c0-1.1-.9-2-2-2zM9 17H7v-7h2v7zm4 0h-2V7h2v10zm4 0h-2v-4h2v4z\"/>\n",
              "    </g>\n",
              "</svg>\n",
              "  </button>\n",
              "\n",
              "<style>\n",
              "  .colab-df-quickchart {\n",
              "      --bg-color: #E8F0FE;\n",
              "      --fill-color: #1967D2;\n",
              "      --hover-bg-color: #E2EBFA;\n",
              "      --hover-fill-color: #174EA6;\n",
              "      --disabled-fill-color: #AAA;\n",
              "      --disabled-bg-color: #DDD;\n",
              "  }\n",
              "\n",
              "  [theme=dark] .colab-df-quickchart {\n",
              "      --bg-color: #3B4455;\n",
              "      --fill-color: #D2E3FC;\n",
              "      --hover-bg-color: #434B5C;\n",
              "      --hover-fill-color: #FFFFFF;\n",
              "      --disabled-bg-color: #3B4455;\n",
              "      --disabled-fill-color: #666;\n",
              "  }\n",
              "\n",
              "  .colab-df-quickchart {\n",
              "    background-color: var(--bg-color);\n",
              "    border: none;\n",
              "    border-radius: 50%;\n",
              "    cursor: pointer;\n",
              "    display: none;\n",
              "    fill: var(--fill-color);\n",
              "    height: 32px;\n",
              "    padding: 0;\n",
              "    width: 32px;\n",
              "  }\n",
              "\n",
              "  .colab-df-quickchart:hover {\n",
              "    background-color: var(--hover-bg-color);\n",
              "    box-shadow: 0 1px 2px rgba(60, 64, 67, 0.3), 0 1px 3px 1px rgba(60, 64, 67, 0.15);\n",
              "    fill: var(--button-hover-fill-color);\n",
              "  }\n",
              "\n",
              "  .colab-df-quickchart-complete:disabled,\n",
              "  .colab-df-quickchart-complete:disabled:hover {\n",
              "    background-color: var(--disabled-bg-color);\n",
              "    fill: var(--disabled-fill-color);\n",
              "    box-shadow: none;\n",
              "  }\n",
              "\n",
              "  .colab-df-spinner {\n",
              "    border: 2px solid var(--fill-color);\n",
              "    border-color: transparent;\n",
              "    border-bottom-color: var(--fill-color);\n",
              "    animation:\n",
              "      spin 1s steps(1) infinite;\n",
              "  }\n",
              "\n",
              "  @keyframes spin {\n",
              "    0% {\n",
              "      border-color: transparent;\n",
              "      border-bottom-color: var(--fill-color);\n",
              "      border-left-color: var(--fill-color);\n",
              "    }\n",
              "    20% {\n",
              "      border-color: transparent;\n",
              "      border-left-color: var(--fill-color);\n",
              "      border-top-color: var(--fill-color);\n",
              "    }\n",
              "    30% {\n",
              "      border-color: transparent;\n",
              "      border-left-color: var(--fill-color);\n",
              "      border-top-color: var(--fill-color);\n",
              "      border-right-color: var(--fill-color);\n",
              "    }\n",
              "    40% {\n",
              "      border-color: transparent;\n",
              "      border-right-color: var(--fill-color);\n",
              "      border-top-color: var(--fill-color);\n",
              "    }\n",
              "    60% {\n",
              "      border-color: transparent;\n",
              "      border-right-color: var(--fill-color);\n",
              "    }\n",
              "    80% {\n",
              "      border-color: transparent;\n",
              "      border-right-color: var(--fill-color);\n",
              "      border-bottom-color: var(--fill-color);\n",
              "    }\n",
              "    90% {\n",
              "      border-color: transparent;\n",
              "      border-bottom-color: var(--fill-color);\n",
              "    }\n",
              "  }\n",
              "</style>\n",
              "\n",
              "  <script>\n",
              "    async function quickchart(key) {\n",
              "      const quickchartButtonEl =\n",
              "        document.querySelector('#' + key + ' button');\n",
              "      quickchartButtonEl.disabled = true;  // To prevent multiple clicks.\n",
              "      quickchartButtonEl.classList.add('colab-df-spinner');\n",
              "      try {\n",
              "        const charts = await google.colab.kernel.invokeFunction(\n",
              "            'suggestCharts', [key], {});\n",
              "      } catch (error) {\n",
              "        console.error('Error during call to suggestCharts:', error);\n",
              "      }\n",
              "      quickchartButtonEl.classList.remove('colab-df-spinner');\n",
              "      quickchartButtonEl.classList.add('colab-df-quickchart-complete');\n",
              "    }\n",
              "    (() => {\n",
              "      let quickchartButtonEl =\n",
              "        document.querySelector('#df-784a898f-3fda-4b02-842b-0de6324d38f1 button');\n",
              "      quickchartButtonEl.style.display =\n",
              "        google.colab.kernel.accessAllowed ? 'block' : 'none';\n",
              "    })();\n",
              "  </script>\n",
              "</div>\n",
              "\n",
              "    </div>\n",
              "  </div>\n"
            ],
            "application/vnd.google.colaboratory.intrinsic+json": {
              "type": "dataframe",
              "variable_name": "mix_data",
              "summary": "{\n  \"name\": \"mix_data\",\n  \"rows\": 32553,\n  \"fields\": [\n    {\n      \"column\": \"id\",\n      \"properties\": {\n        \"dtype\": \"number\",\n        \"std\": 7824,\n        \"min\": 0,\n        \"max\": 26048,\n        \"num_unique_values\": 26042,\n        \"samples\": [\n          7793,\n          25077,\n          1668\n        ],\n        \"semantic_type\": \"\",\n        \"description\": \"\"\n      }\n    },\n    {\n      \"column\": \"age\",\n      \"properties\": {\n        \"dtype\": \"number\",\n        \"std\": 13,\n        \"min\": 17,\n        \"max\": 90,\n        \"num_unique_values\": 73,\n        \"samples\": [\n          24,\n          79,\n          31\n        ],\n        \"semantic_type\": \"\",\n        \"description\": \"\"\n      }\n    },\n    {\n      \"column\": \"workclass\",\n      \"properties\": {\n        \"dtype\": \"category\",\n        \"num_unique_values\": 8,\n        \"samples\": [\n          \"State-gov\",\n          \"Federal-gov\",\n          \"Private\"\n        ],\n        \"semantic_type\": \"\",\n        \"description\": \"\"\n      }\n    },\n    {\n      \"column\": \"fnlwgt\",\n      \"properties\": {\n        \"dtype\": \"number\",\n        \"std\": 105548,\n        \"min\": 12285,\n        \"max\": 1484705,\n        \"num_unique_values\": 21644,\n        \"samples\": [\n          139464,\n          192237,\n          136862\n        ],\n        \"semantic_type\": \"\",\n        \"description\": \"\"\n      }\n    },\n    {\n      \"column\": \"education\",\n      \"properties\": {\n        \"dtype\": \"category\",\n        \"num_unique_values\": 16,\n        \"samples\": [\n          \"HS-grad\",\n          \"9th\",\n          \"1st-4th\"\n        ],\n        \"semantic_type\": \"\",\n        \"description\": \"\"\n      }\n    },\n    {\n      \"column\": \"marital_status\",\n      \"properties\": {\n        \"dtype\": \"category\",\n        \"num_unique_values\": 7,\n        \"samples\": [\n          \"Married-civ-spouse\",\n          \"Never-married\",\n          \"Widowed\"\n        ],\n        \"semantic_type\": \"\",\n        \"description\": \"\"\n      }\n    },\n    {\n      \"column\": \"occupation\",\n      \"properties\": {\n        \"dtype\": \"category\",\n        \"num_unique_values\": 15,\n        \"samples\": [\n          \"Exec-managerial\",\n          \"Protective-serv\",\n          \"Sales\"\n        ],\n        \"semantic_type\": \"\",\n        \"description\": \"\"\n      }\n    },\n    {\n      \"column\": \"relationship\",\n      \"properties\": {\n        \"dtype\": \"category\",\n        \"num_unique_values\": 6,\n        \"samples\": [\n          \"Husband\",\n          \"Own-child\",\n          \"Other-relative\"\n        ],\n        \"semantic_type\": \"\",\n        \"description\": \"\"\n      }\n    },\n    {\n      \"column\": \"race\",\n      \"properties\": {\n        \"dtype\": \"category\",\n        \"num_unique_values\": 5,\n        \"samples\": [\n          \"Black\",\n          \"Amer-Indian-Eskimo\",\n          \"Asian-Pac-Islander\"\n        ],\n        \"semantic_type\": \"\",\n        \"description\": \"\"\n      }\n    },\n    {\n      \"column\": \"sex\",\n      \"properties\": {\n        \"dtype\": \"category\",\n        \"num_unique_values\": 2,\n        \"samples\": [\n          \"Female\",\n          \"Male\"\n        ],\n        \"semantic_type\": \"\",\n        \"description\": \"\"\n      }\n    },\n    {\n      \"column\": \"capital_gain\",\n      \"properties\": {\n        \"dtype\": \"number\",\n        \"std\": 7386,\n        \"min\": 0,\n        \"max\": 99999,\n        \"num_unique_values\": 119,\n        \"samples\": [\n          6360,\n          3471\n        ],\n        \"semantic_type\": \"\",\n        \"description\": \"\"\n      }\n    },\n    {\n      \"column\": \"capital_loss\",\n      \"properties\": {\n        \"dtype\": \"number\",\n        \"std\": 403,\n        \"min\": 0,\n        \"max\": 4356,\n        \"num_unique_values\": 92,\n        \"samples\": [\n          2377,\n          2547\n        ],\n        \"semantic_type\": \"\",\n        \"description\": \"\"\n      }\n    },\n    {\n      \"column\": \"hours_per_week\",\n      \"properties\": {\n        \"dtype\": \"number\",\n        \"std\": 12,\n        \"min\": 1,\n        \"max\": 99,\n        \"num_unique_values\": 94,\n        \"samples\": [\n          90,\n          70\n        ],\n        \"semantic_type\": \"\",\n        \"description\": \"\"\n      }\n    },\n    {\n      \"column\": \"native_country\",\n      \"properties\": {\n        \"dtype\": \"number\",\n        \"std\": 0,\n        \"min\": 0,\n        \"max\": 5,\n        \"num_unique_values\": 6,\n        \"samples\": [\n          0,\n          5\n        ],\n        \"semantic_type\": \"\",\n        \"description\": \"\"\n      }\n    },\n    {\n      \"column\": \"income\",\n      \"properties\": {\n        \"dtype\": \"number\",\n        \"std\": 0,\n        \"min\": 0,\n        \"max\": 1,\n        \"num_unique_values\": 2,\n        \"samples\": [\n          0,\n          1\n        ],\n        \"semantic_type\": \"\",\n        \"description\": \"\"\n      }\n    }\n  ]\n}"
            }
          },
          "metadata": {},
          "execution_count": 189
        }
      ]
    },
    {
      "cell_type": "markdown",
      "source": [
        "### 4.2 추가적인 불필요한 데이터 Drop"
      ],
      "metadata": {
        "id": "Gy_F2hETj7cg"
      }
    },
    {
      "cell_type": "code",
      "source": [
        "drop_col = ['id',\"sex\", \"native_country\", \"race\", \"fnlwgt\"]\n",
        "\n",
        "mix_data = mix_data.drop(columns=drop_col)"
      ],
      "metadata": {
        "id": "j-00uTFqnmWR"
      },
      "execution_count": 190,
      "outputs": []
    },
    {
      "cell_type": "code",
      "source": [
        "mix_data.head()"
      ],
      "metadata": {
        "colab": {
          "base_uri": "https://localhost:8080/",
          "height": 206
        },
        "id": "FX-0UxY5oi59",
        "outputId": "2b3f6eea-b096-4b2c-c0fa-840c91bc2b54"
      },
      "execution_count": 191,
      "outputs": [
        {
          "output_type": "execute_result",
          "data": {
            "text/plain": [
              "   age workclass     education      marital_status         occupation  \\\n",
              "0   40   Private       HS-grad  Married-civ-spouse              Sales   \n",
              "1   17   Private           9th       Never-married  Machine-op-inspct   \n",
              "2   18   Private  Some-college       Never-married      Other-service   \n",
              "3   21   Private  Some-college       Never-married     Prof-specialty   \n",
              "4   24   Private  Some-college       Never-married       Adm-clerical   \n",
              "\n",
              "    relationship  capital_gain  capital_loss  hours_per_week  income  \n",
              "0        Husband             0             0              60       1  \n",
              "1      Own-child             0             0              20       0  \n",
              "2      Own-child             0             0              16       0  \n",
              "3      Own-child             0             0              25       0  \n",
              "4  Not-in-family             0             0              20       0  "
            ],
            "text/html": [
              "\n",
              "  <div id=\"df-982f764c-e1a8-4876-a97b-6079f6235109\" class=\"colab-df-container\">\n",
              "    <div>\n",
              "<style scoped>\n",
              "    .dataframe tbody tr th:only-of-type {\n",
              "        vertical-align: middle;\n",
              "    }\n",
              "\n",
              "    .dataframe tbody tr th {\n",
              "        vertical-align: top;\n",
              "    }\n",
              "\n",
              "    .dataframe thead th {\n",
              "        text-align: right;\n",
              "    }\n",
              "</style>\n",
              "<table border=\"1\" class=\"dataframe\">\n",
              "  <thead>\n",
              "    <tr style=\"text-align: right;\">\n",
              "      <th></th>\n",
              "      <th>age</th>\n",
              "      <th>workclass</th>\n",
              "      <th>education</th>\n",
              "      <th>marital_status</th>\n",
              "      <th>occupation</th>\n",
              "      <th>relationship</th>\n",
              "      <th>capital_gain</th>\n",
              "      <th>capital_loss</th>\n",
              "      <th>hours_per_week</th>\n",
              "      <th>income</th>\n",
              "    </tr>\n",
              "  </thead>\n",
              "  <tbody>\n",
              "    <tr>\n",
              "      <th>0</th>\n",
              "      <td>40</td>\n",
              "      <td>Private</td>\n",
              "      <td>HS-grad</td>\n",
              "      <td>Married-civ-spouse</td>\n",
              "      <td>Sales</td>\n",
              "      <td>Husband</td>\n",
              "      <td>0</td>\n",
              "      <td>0</td>\n",
              "      <td>60</td>\n",
              "      <td>1</td>\n",
              "    </tr>\n",
              "    <tr>\n",
              "      <th>1</th>\n",
              "      <td>17</td>\n",
              "      <td>Private</td>\n",
              "      <td>9th</td>\n",
              "      <td>Never-married</td>\n",
              "      <td>Machine-op-inspct</td>\n",
              "      <td>Own-child</td>\n",
              "      <td>0</td>\n",
              "      <td>0</td>\n",
              "      <td>20</td>\n",
              "      <td>0</td>\n",
              "    </tr>\n",
              "    <tr>\n",
              "      <th>2</th>\n",
              "      <td>18</td>\n",
              "      <td>Private</td>\n",
              "      <td>Some-college</td>\n",
              "      <td>Never-married</td>\n",
              "      <td>Other-service</td>\n",
              "      <td>Own-child</td>\n",
              "      <td>0</td>\n",
              "      <td>0</td>\n",
              "      <td>16</td>\n",
              "      <td>0</td>\n",
              "    </tr>\n",
              "    <tr>\n",
              "      <th>3</th>\n",
              "      <td>21</td>\n",
              "      <td>Private</td>\n",
              "      <td>Some-college</td>\n",
              "      <td>Never-married</td>\n",
              "      <td>Prof-specialty</td>\n",
              "      <td>Own-child</td>\n",
              "      <td>0</td>\n",
              "      <td>0</td>\n",
              "      <td>25</td>\n",
              "      <td>0</td>\n",
              "    </tr>\n",
              "    <tr>\n",
              "      <th>4</th>\n",
              "      <td>24</td>\n",
              "      <td>Private</td>\n",
              "      <td>Some-college</td>\n",
              "      <td>Never-married</td>\n",
              "      <td>Adm-clerical</td>\n",
              "      <td>Not-in-family</td>\n",
              "      <td>0</td>\n",
              "      <td>0</td>\n",
              "      <td>20</td>\n",
              "      <td>0</td>\n",
              "    </tr>\n",
              "  </tbody>\n",
              "</table>\n",
              "</div>\n",
              "    <div class=\"colab-df-buttons\">\n",
              "\n",
              "  <div class=\"colab-df-container\">\n",
              "    <button class=\"colab-df-convert\" onclick=\"convertToInteractive('df-982f764c-e1a8-4876-a97b-6079f6235109')\"\n",
              "            title=\"Convert this dataframe to an interactive table.\"\n",
              "            style=\"display:none;\">\n",
              "\n",
              "  <svg xmlns=\"http://www.w3.org/2000/svg\" height=\"24px\" viewBox=\"0 -960 960 960\">\n",
              "    <path d=\"M120-120v-720h720v720H120Zm60-500h600v-160H180v160Zm220 220h160v-160H400v160Zm0 220h160v-160H400v160ZM180-400h160v-160H180v160Zm440 0h160v-160H620v160ZM180-180h160v-160H180v160Zm440 0h160v-160H620v160Z\"/>\n",
              "  </svg>\n",
              "    </button>\n",
              "\n",
              "  <style>\n",
              "    .colab-df-container {\n",
              "      display:flex;\n",
              "      gap: 12px;\n",
              "    }\n",
              "\n",
              "    .colab-df-convert {\n",
              "      background-color: #E8F0FE;\n",
              "      border: none;\n",
              "      border-radius: 50%;\n",
              "      cursor: pointer;\n",
              "      display: none;\n",
              "      fill: #1967D2;\n",
              "      height: 32px;\n",
              "      padding: 0 0 0 0;\n",
              "      width: 32px;\n",
              "    }\n",
              "\n",
              "    .colab-df-convert:hover {\n",
              "      background-color: #E2EBFA;\n",
              "      box-shadow: 0px 1px 2px rgba(60, 64, 67, 0.3), 0px 1px 3px 1px rgba(60, 64, 67, 0.15);\n",
              "      fill: #174EA6;\n",
              "    }\n",
              "\n",
              "    .colab-df-buttons div {\n",
              "      margin-bottom: 4px;\n",
              "    }\n",
              "\n",
              "    [theme=dark] .colab-df-convert {\n",
              "      background-color: #3B4455;\n",
              "      fill: #D2E3FC;\n",
              "    }\n",
              "\n",
              "    [theme=dark] .colab-df-convert:hover {\n",
              "      background-color: #434B5C;\n",
              "      box-shadow: 0px 1px 3px 1px rgba(0, 0, 0, 0.15);\n",
              "      filter: drop-shadow(0px 1px 2px rgba(0, 0, 0, 0.3));\n",
              "      fill: #FFFFFF;\n",
              "    }\n",
              "  </style>\n",
              "\n",
              "    <script>\n",
              "      const buttonEl =\n",
              "        document.querySelector('#df-982f764c-e1a8-4876-a97b-6079f6235109 button.colab-df-convert');\n",
              "      buttonEl.style.display =\n",
              "        google.colab.kernel.accessAllowed ? 'block' : 'none';\n",
              "\n",
              "      async function convertToInteractive(key) {\n",
              "        const element = document.querySelector('#df-982f764c-e1a8-4876-a97b-6079f6235109');\n",
              "        const dataTable =\n",
              "          await google.colab.kernel.invokeFunction('convertToInteractive',\n",
              "                                                    [key], {});\n",
              "        if (!dataTable) return;\n",
              "\n",
              "        const docLinkHtml = 'Like what you see? Visit the ' +\n",
              "          '<a target=\"_blank\" href=https://colab.research.google.com/notebooks/data_table.ipynb>data table notebook</a>'\n",
              "          + ' to learn more about interactive tables.';\n",
              "        element.innerHTML = '';\n",
              "        dataTable['output_type'] = 'display_data';\n",
              "        await google.colab.output.renderOutput(dataTable, element);\n",
              "        const docLink = document.createElement('div');\n",
              "        docLink.innerHTML = docLinkHtml;\n",
              "        element.appendChild(docLink);\n",
              "      }\n",
              "    </script>\n",
              "  </div>\n",
              "\n",
              "\n",
              "<div id=\"df-0cb37920-8d5d-4191-a7e8-1628dd9a0d86\">\n",
              "  <button class=\"colab-df-quickchart\" onclick=\"quickchart('df-0cb37920-8d5d-4191-a7e8-1628dd9a0d86')\"\n",
              "            title=\"Suggest charts\"\n",
              "            style=\"display:none;\">\n",
              "\n",
              "<svg xmlns=\"http://www.w3.org/2000/svg\" height=\"24px\"viewBox=\"0 0 24 24\"\n",
              "     width=\"24px\">\n",
              "    <g>\n",
              "        <path d=\"M19 3H5c-1.1 0-2 .9-2 2v14c0 1.1.9 2 2 2h14c1.1 0 2-.9 2-2V5c0-1.1-.9-2-2-2zM9 17H7v-7h2v7zm4 0h-2V7h2v10zm4 0h-2v-4h2v4z\"/>\n",
              "    </g>\n",
              "</svg>\n",
              "  </button>\n",
              "\n",
              "<style>\n",
              "  .colab-df-quickchart {\n",
              "      --bg-color: #E8F0FE;\n",
              "      --fill-color: #1967D2;\n",
              "      --hover-bg-color: #E2EBFA;\n",
              "      --hover-fill-color: #174EA6;\n",
              "      --disabled-fill-color: #AAA;\n",
              "      --disabled-bg-color: #DDD;\n",
              "  }\n",
              "\n",
              "  [theme=dark] .colab-df-quickchart {\n",
              "      --bg-color: #3B4455;\n",
              "      --fill-color: #D2E3FC;\n",
              "      --hover-bg-color: #434B5C;\n",
              "      --hover-fill-color: #FFFFFF;\n",
              "      --disabled-bg-color: #3B4455;\n",
              "      --disabled-fill-color: #666;\n",
              "  }\n",
              "\n",
              "  .colab-df-quickchart {\n",
              "    background-color: var(--bg-color);\n",
              "    border: none;\n",
              "    border-radius: 50%;\n",
              "    cursor: pointer;\n",
              "    display: none;\n",
              "    fill: var(--fill-color);\n",
              "    height: 32px;\n",
              "    padding: 0;\n",
              "    width: 32px;\n",
              "  }\n",
              "\n",
              "  .colab-df-quickchart:hover {\n",
              "    background-color: var(--hover-bg-color);\n",
              "    box-shadow: 0 1px 2px rgba(60, 64, 67, 0.3), 0 1px 3px 1px rgba(60, 64, 67, 0.15);\n",
              "    fill: var(--button-hover-fill-color);\n",
              "  }\n",
              "\n",
              "  .colab-df-quickchart-complete:disabled,\n",
              "  .colab-df-quickchart-complete:disabled:hover {\n",
              "    background-color: var(--disabled-bg-color);\n",
              "    fill: var(--disabled-fill-color);\n",
              "    box-shadow: none;\n",
              "  }\n",
              "\n",
              "  .colab-df-spinner {\n",
              "    border: 2px solid var(--fill-color);\n",
              "    border-color: transparent;\n",
              "    border-bottom-color: var(--fill-color);\n",
              "    animation:\n",
              "      spin 1s steps(1) infinite;\n",
              "  }\n",
              "\n",
              "  @keyframes spin {\n",
              "    0% {\n",
              "      border-color: transparent;\n",
              "      border-bottom-color: var(--fill-color);\n",
              "      border-left-color: var(--fill-color);\n",
              "    }\n",
              "    20% {\n",
              "      border-color: transparent;\n",
              "      border-left-color: var(--fill-color);\n",
              "      border-top-color: var(--fill-color);\n",
              "    }\n",
              "    30% {\n",
              "      border-color: transparent;\n",
              "      border-left-color: var(--fill-color);\n",
              "      border-top-color: var(--fill-color);\n",
              "      border-right-color: var(--fill-color);\n",
              "    }\n",
              "    40% {\n",
              "      border-color: transparent;\n",
              "      border-right-color: var(--fill-color);\n",
              "      border-top-color: var(--fill-color);\n",
              "    }\n",
              "    60% {\n",
              "      border-color: transparent;\n",
              "      border-right-color: var(--fill-color);\n",
              "    }\n",
              "    80% {\n",
              "      border-color: transparent;\n",
              "      border-right-color: var(--fill-color);\n",
              "      border-bottom-color: var(--fill-color);\n",
              "    }\n",
              "    90% {\n",
              "      border-color: transparent;\n",
              "      border-bottom-color: var(--fill-color);\n",
              "    }\n",
              "  }\n",
              "</style>\n",
              "\n",
              "  <script>\n",
              "    async function quickchart(key) {\n",
              "      const quickchartButtonEl =\n",
              "        document.querySelector('#' + key + ' button');\n",
              "      quickchartButtonEl.disabled = true;  // To prevent multiple clicks.\n",
              "      quickchartButtonEl.classList.add('colab-df-spinner');\n",
              "      try {\n",
              "        const charts = await google.colab.kernel.invokeFunction(\n",
              "            'suggestCharts', [key], {});\n",
              "      } catch (error) {\n",
              "        console.error('Error during call to suggestCharts:', error);\n",
              "      }\n",
              "      quickchartButtonEl.classList.remove('colab-df-spinner');\n",
              "      quickchartButtonEl.classList.add('colab-df-quickchart-complete');\n",
              "    }\n",
              "    (() => {\n",
              "      let quickchartButtonEl =\n",
              "        document.querySelector('#df-0cb37920-8d5d-4191-a7e8-1628dd9a0d86 button');\n",
              "      quickchartButtonEl.style.display =\n",
              "        google.colab.kernel.accessAllowed ? 'block' : 'none';\n",
              "    })();\n",
              "  </script>\n",
              "</div>\n",
              "\n",
              "    </div>\n",
              "  </div>\n"
            ],
            "application/vnd.google.colaboratory.intrinsic+json": {
              "type": "dataframe",
              "variable_name": "mix_data",
              "summary": "{\n  \"name\": \"mix_data\",\n  \"rows\": 32553,\n  \"fields\": [\n    {\n      \"column\": \"age\",\n      \"properties\": {\n        \"dtype\": \"number\",\n        \"std\": 13,\n        \"min\": 17,\n        \"max\": 90,\n        \"num_unique_values\": 73,\n        \"samples\": [\n          24,\n          79,\n          31\n        ],\n        \"semantic_type\": \"\",\n        \"description\": \"\"\n      }\n    },\n    {\n      \"column\": \"workclass\",\n      \"properties\": {\n        \"dtype\": \"category\",\n        \"num_unique_values\": 8,\n        \"samples\": [\n          \"State-gov\",\n          \"Federal-gov\",\n          \"Private\"\n        ],\n        \"semantic_type\": \"\",\n        \"description\": \"\"\n      }\n    },\n    {\n      \"column\": \"education\",\n      \"properties\": {\n        \"dtype\": \"category\",\n        \"num_unique_values\": 16,\n        \"samples\": [\n          \"HS-grad\",\n          \"9th\",\n          \"1st-4th\"\n        ],\n        \"semantic_type\": \"\",\n        \"description\": \"\"\n      }\n    },\n    {\n      \"column\": \"marital_status\",\n      \"properties\": {\n        \"dtype\": \"category\",\n        \"num_unique_values\": 7,\n        \"samples\": [\n          \"Married-civ-spouse\",\n          \"Never-married\",\n          \"Widowed\"\n        ],\n        \"semantic_type\": \"\",\n        \"description\": \"\"\n      }\n    },\n    {\n      \"column\": \"occupation\",\n      \"properties\": {\n        \"dtype\": \"category\",\n        \"num_unique_values\": 15,\n        \"samples\": [\n          \"Exec-managerial\",\n          \"Protective-serv\",\n          \"Sales\"\n        ],\n        \"semantic_type\": \"\",\n        \"description\": \"\"\n      }\n    },\n    {\n      \"column\": \"relationship\",\n      \"properties\": {\n        \"dtype\": \"category\",\n        \"num_unique_values\": 6,\n        \"samples\": [\n          \"Husband\",\n          \"Own-child\",\n          \"Other-relative\"\n        ],\n        \"semantic_type\": \"\",\n        \"description\": \"\"\n      }\n    },\n    {\n      \"column\": \"capital_gain\",\n      \"properties\": {\n        \"dtype\": \"number\",\n        \"std\": 7386,\n        \"min\": 0,\n        \"max\": 99999,\n        \"num_unique_values\": 119,\n        \"samples\": [\n          6360,\n          3471,\n          2885\n        ],\n        \"semantic_type\": \"\",\n        \"description\": \"\"\n      }\n    },\n    {\n      \"column\": \"capital_loss\",\n      \"properties\": {\n        \"dtype\": \"number\",\n        \"std\": 403,\n        \"min\": 0,\n        \"max\": 4356,\n        \"num_unique_values\": 92,\n        \"samples\": [\n          2377,\n          2547,\n          1816\n        ],\n        \"semantic_type\": \"\",\n        \"description\": \"\"\n      }\n    },\n    {\n      \"column\": \"hours_per_week\",\n      \"properties\": {\n        \"dtype\": \"number\",\n        \"std\": 12,\n        \"min\": 1,\n        \"max\": 99,\n        \"num_unique_values\": 94,\n        \"samples\": [\n          90,\n          70,\n          11\n        ],\n        \"semantic_type\": \"\",\n        \"description\": \"\"\n      }\n    },\n    {\n      \"column\": \"income\",\n      \"properties\": {\n        \"dtype\": \"number\",\n        \"std\": 0,\n        \"min\": 0,\n        \"max\": 1,\n        \"num_unique_values\": 2,\n        \"samples\": [\n          0,\n          1\n        ],\n        \"semantic_type\": \"\",\n        \"description\": \"\"\n      }\n    }\n  ]\n}"
            }
          },
          "metadata": {},
          "execution_count": 191
        }
      ]
    },
    {
      "cell_type": "markdown",
      "source": [
        "### 4.3 Lable Encoding"
      ],
      "metadata": {
        "id": "8KDo-ePEow1l"
      }
    },
    {
      "cell_type": "code",
      "source": [
        "from sklearn.preprocessing import LabelEncoder\n",
        "\n",
        "label_col = [col for col in mix_data.columns if mix_data[col].dtypes == 'object' and col != 'income']\n",
        "\n",
        "le = LabelEncoder()\n",
        "\n",
        "for col in label_col:\n",
        "    mix_data[col] = le.fit_transform(mix_data[col])"
      ],
      "metadata": {
        "id": "DO4bgvpxo3kU"
      },
      "execution_count": 192,
      "outputs": []
    },
    {
      "cell_type": "code",
      "source": [
        "mix_data.head()"
      ],
      "metadata": {
        "colab": {
          "base_uri": "https://localhost:8080/",
          "height": 206
        },
        "id": "84ID2D1ZpKwQ",
        "outputId": "9f160890-1d79-4974-9309-0277f25c187d"
      },
      "execution_count": 193,
      "outputs": [
        {
          "output_type": "execute_result",
          "data": {
            "text/plain": [
              "   age  workclass  education  marital_status  occupation  relationship  \\\n",
              "0   40          3         11               2          12             0   \n",
              "1   17          3          6               4           7             3   \n",
              "2   18          3         15               4           8             3   \n",
              "3   21          3         15               4          10             3   \n",
              "4   24          3         15               4           1             1   \n",
              "\n",
              "   capital_gain  capital_loss  hours_per_week  income  \n",
              "0             0             0              60       1  \n",
              "1             0             0              20       0  \n",
              "2             0             0              16       0  \n",
              "3             0             0              25       0  \n",
              "4             0             0              20       0  "
            ],
            "text/html": [
              "\n",
              "  <div id=\"df-d1cfa3db-baf8-4b17-8d8a-c5f948f2f50f\" class=\"colab-df-container\">\n",
              "    <div>\n",
              "<style scoped>\n",
              "    .dataframe tbody tr th:only-of-type {\n",
              "        vertical-align: middle;\n",
              "    }\n",
              "\n",
              "    .dataframe tbody tr th {\n",
              "        vertical-align: top;\n",
              "    }\n",
              "\n",
              "    .dataframe thead th {\n",
              "        text-align: right;\n",
              "    }\n",
              "</style>\n",
              "<table border=\"1\" class=\"dataframe\">\n",
              "  <thead>\n",
              "    <tr style=\"text-align: right;\">\n",
              "      <th></th>\n",
              "      <th>age</th>\n",
              "      <th>workclass</th>\n",
              "      <th>education</th>\n",
              "      <th>marital_status</th>\n",
              "      <th>occupation</th>\n",
              "      <th>relationship</th>\n",
              "      <th>capital_gain</th>\n",
              "      <th>capital_loss</th>\n",
              "      <th>hours_per_week</th>\n",
              "      <th>income</th>\n",
              "    </tr>\n",
              "  </thead>\n",
              "  <tbody>\n",
              "    <tr>\n",
              "      <th>0</th>\n",
              "      <td>40</td>\n",
              "      <td>3</td>\n",
              "      <td>11</td>\n",
              "      <td>2</td>\n",
              "      <td>12</td>\n",
              "      <td>0</td>\n",
              "      <td>0</td>\n",
              "      <td>0</td>\n",
              "      <td>60</td>\n",
              "      <td>1</td>\n",
              "    </tr>\n",
              "    <tr>\n",
              "      <th>1</th>\n",
              "      <td>17</td>\n",
              "      <td>3</td>\n",
              "      <td>6</td>\n",
              "      <td>4</td>\n",
              "      <td>7</td>\n",
              "      <td>3</td>\n",
              "      <td>0</td>\n",
              "      <td>0</td>\n",
              "      <td>20</td>\n",
              "      <td>0</td>\n",
              "    </tr>\n",
              "    <tr>\n",
              "      <th>2</th>\n",
              "      <td>18</td>\n",
              "      <td>3</td>\n",
              "      <td>15</td>\n",
              "      <td>4</td>\n",
              "      <td>8</td>\n",
              "      <td>3</td>\n",
              "      <td>0</td>\n",
              "      <td>0</td>\n",
              "      <td>16</td>\n",
              "      <td>0</td>\n",
              "    </tr>\n",
              "    <tr>\n",
              "      <th>3</th>\n",
              "      <td>21</td>\n",
              "      <td>3</td>\n",
              "      <td>15</td>\n",
              "      <td>4</td>\n",
              "      <td>10</td>\n",
              "      <td>3</td>\n",
              "      <td>0</td>\n",
              "      <td>0</td>\n",
              "      <td>25</td>\n",
              "      <td>0</td>\n",
              "    </tr>\n",
              "    <tr>\n",
              "      <th>4</th>\n",
              "      <td>24</td>\n",
              "      <td>3</td>\n",
              "      <td>15</td>\n",
              "      <td>4</td>\n",
              "      <td>1</td>\n",
              "      <td>1</td>\n",
              "      <td>0</td>\n",
              "      <td>0</td>\n",
              "      <td>20</td>\n",
              "      <td>0</td>\n",
              "    </tr>\n",
              "  </tbody>\n",
              "</table>\n",
              "</div>\n",
              "    <div class=\"colab-df-buttons\">\n",
              "\n",
              "  <div class=\"colab-df-container\">\n",
              "    <button class=\"colab-df-convert\" onclick=\"convertToInteractive('df-d1cfa3db-baf8-4b17-8d8a-c5f948f2f50f')\"\n",
              "            title=\"Convert this dataframe to an interactive table.\"\n",
              "            style=\"display:none;\">\n",
              "\n",
              "  <svg xmlns=\"http://www.w3.org/2000/svg\" height=\"24px\" viewBox=\"0 -960 960 960\">\n",
              "    <path d=\"M120-120v-720h720v720H120Zm60-500h600v-160H180v160Zm220 220h160v-160H400v160Zm0 220h160v-160H400v160ZM180-400h160v-160H180v160Zm440 0h160v-160H620v160ZM180-180h160v-160H180v160Zm440 0h160v-160H620v160Z\"/>\n",
              "  </svg>\n",
              "    </button>\n",
              "\n",
              "  <style>\n",
              "    .colab-df-container {\n",
              "      display:flex;\n",
              "      gap: 12px;\n",
              "    }\n",
              "\n",
              "    .colab-df-convert {\n",
              "      background-color: #E8F0FE;\n",
              "      border: none;\n",
              "      border-radius: 50%;\n",
              "      cursor: pointer;\n",
              "      display: none;\n",
              "      fill: #1967D2;\n",
              "      height: 32px;\n",
              "      padding: 0 0 0 0;\n",
              "      width: 32px;\n",
              "    }\n",
              "\n",
              "    .colab-df-convert:hover {\n",
              "      background-color: #E2EBFA;\n",
              "      box-shadow: 0px 1px 2px rgba(60, 64, 67, 0.3), 0px 1px 3px 1px rgba(60, 64, 67, 0.15);\n",
              "      fill: #174EA6;\n",
              "    }\n",
              "\n",
              "    .colab-df-buttons div {\n",
              "      margin-bottom: 4px;\n",
              "    }\n",
              "\n",
              "    [theme=dark] .colab-df-convert {\n",
              "      background-color: #3B4455;\n",
              "      fill: #D2E3FC;\n",
              "    }\n",
              "\n",
              "    [theme=dark] .colab-df-convert:hover {\n",
              "      background-color: #434B5C;\n",
              "      box-shadow: 0px 1px 3px 1px rgba(0, 0, 0, 0.15);\n",
              "      filter: drop-shadow(0px 1px 2px rgba(0, 0, 0, 0.3));\n",
              "      fill: #FFFFFF;\n",
              "    }\n",
              "  </style>\n",
              "\n",
              "    <script>\n",
              "      const buttonEl =\n",
              "        document.querySelector('#df-d1cfa3db-baf8-4b17-8d8a-c5f948f2f50f button.colab-df-convert');\n",
              "      buttonEl.style.display =\n",
              "        google.colab.kernel.accessAllowed ? 'block' : 'none';\n",
              "\n",
              "      async function convertToInteractive(key) {\n",
              "        const element = document.querySelector('#df-d1cfa3db-baf8-4b17-8d8a-c5f948f2f50f');\n",
              "        const dataTable =\n",
              "          await google.colab.kernel.invokeFunction('convertToInteractive',\n",
              "                                                    [key], {});\n",
              "        if (!dataTable) return;\n",
              "\n",
              "        const docLinkHtml = 'Like what you see? Visit the ' +\n",
              "          '<a target=\"_blank\" href=https://colab.research.google.com/notebooks/data_table.ipynb>data table notebook</a>'\n",
              "          + ' to learn more about interactive tables.';\n",
              "        element.innerHTML = '';\n",
              "        dataTable['output_type'] = 'display_data';\n",
              "        await google.colab.output.renderOutput(dataTable, element);\n",
              "        const docLink = document.createElement('div');\n",
              "        docLink.innerHTML = docLinkHtml;\n",
              "        element.appendChild(docLink);\n",
              "      }\n",
              "    </script>\n",
              "  </div>\n",
              "\n",
              "\n",
              "<div id=\"df-73c7007c-660c-4765-a723-c1cfa056f4be\">\n",
              "  <button class=\"colab-df-quickchart\" onclick=\"quickchart('df-73c7007c-660c-4765-a723-c1cfa056f4be')\"\n",
              "            title=\"Suggest charts\"\n",
              "            style=\"display:none;\">\n",
              "\n",
              "<svg xmlns=\"http://www.w3.org/2000/svg\" height=\"24px\"viewBox=\"0 0 24 24\"\n",
              "     width=\"24px\">\n",
              "    <g>\n",
              "        <path d=\"M19 3H5c-1.1 0-2 .9-2 2v14c0 1.1.9 2 2 2h14c1.1 0 2-.9 2-2V5c0-1.1-.9-2-2-2zM9 17H7v-7h2v7zm4 0h-2V7h2v10zm4 0h-2v-4h2v4z\"/>\n",
              "    </g>\n",
              "</svg>\n",
              "  </button>\n",
              "\n",
              "<style>\n",
              "  .colab-df-quickchart {\n",
              "      --bg-color: #E8F0FE;\n",
              "      --fill-color: #1967D2;\n",
              "      --hover-bg-color: #E2EBFA;\n",
              "      --hover-fill-color: #174EA6;\n",
              "      --disabled-fill-color: #AAA;\n",
              "      --disabled-bg-color: #DDD;\n",
              "  }\n",
              "\n",
              "  [theme=dark] .colab-df-quickchart {\n",
              "      --bg-color: #3B4455;\n",
              "      --fill-color: #D2E3FC;\n",
              "      --hover-bg-color: #434B5C;\n",
              "      --hover-fill-color: #FFFFFF;\n",
              "      --disabled-bg-color: #3B4455;\n",
              "      --disabled-fill-color: #666;\n",
              "  }\n",
              "\n",
              "  .colab-df-quickchart {\n",
              "    background-color: var(--bg-color);\n",
              "    border: none;\n",
              "    border-radius: 50%;\n",
              "    cursor: pointer;\n",
              "    display: none;\n",
              "    fill: var(--fill-color);\n",
              "    height: 32px;\n",
              "    padding: 0;\n",
              "    width: 32px;\n",
              "  }\n",
              "\n",
              "  .colab-df-quickchart:hover {\n",
              "    background-color: var(--hover-bg-color);\n",
              "    box-shadow: 0 1px 2px rgba(60, 64, 67, 0.3), 0 1px 3px 1px rgba(60, 64, 67, 0.15);\n",
              "    fill: var(--button-hover-fill-color);\n",
              "  }\n",
              "\n",
              "  .colab-df-quickchart-complete:disabled,\n",
              "  .colab-df-quickchart-complete:disabled:hover {\n",
              "    background-color: var(--disabled-bg-color);\n",
              "    fill: var(--disabled-fill-color);\n",
              "    box-shadow: none;\n",
              "  }\n",
              "\n",
              "  .colab-df-spinner {\n",
              "    border: 2px solid var(--fill-color);\n",
              "    border-color: transparent;\n",
              "    border-bottom-color: var(--fill-color);\n",
              "    animation:\n",
              "      spin 1s steps(1) infinite;\n",
              "  }\n",
              "\n",
              "  @keyframes spin {\n",
              "    0% {\n",
              "      border-color: transparent;\n",
              "      border-bottom-color: var(--fill-color);\n",
              "      border-left-color: var(--fill-color);\n",
              "    }\n",
              "    20% {\n",
              "      border-color: transparent;\n",
              "      border-left-color: var(--fill-color);\n",
              "      border-top-color: var(--fill-color);\n",
              "    }\n",
              "    30% {\n",
              "      border-color: transparent;\n",
              "      border-left-color: var(--fill-color);\n",
              "      border-top-color: var(--fill-color);\n",
              "      border-right-color: var(--fill-color);\n",
              "    }\n",
              "    40% {\n",
              "      border-color: transparent;\n",
              "      border-right-color: var(--fill-color);\n",
              "      border-top-color: var(--fill-color);\n",
              "    }\n",
              "    60% {\n",
              "      border-color: transparent;\n",
              "      border-right-color: var(--fill-color);\n",
              "    }\n",
              "    80% {\n",
              "      border-color: transparent;\n",
              "      border-right-color: var(--fill-color);\n",
              "      border-bottom-color: var(--fill-color);\n",
              "    }\n",
              "    90% {\n",
              "      border-color: transparent;\n",
              "      border-bottom-color: var(--fill-color);\n",
              "    }\n",
              "  }\n",
              "</style>\n",
              "\n",
              "  <script>\n",
              "    async function quickchart(key) {\n",
              "      const quickchartButtonEl =\n",
              "        document.querySelector('#' + key + ' button');\n",
              "      quickchartButtonEl.disabled = true;  // To prevent multiple clicks.\n",
              "      quickchartButtonEl.classList.add('colab-df-spinner');\n",
              "      try {\n",
              "        const charts = await google.colab.kernel.invokeFunction(\n",
              "            'suggestCharts', [key], {});\n",
              "      } catch (error) {\n",
              "        console.error('Error during call to suggestCharts:', error);\n",
              "      }\n",
              "      quickchartButtonEl.classList.remove('colab-df-spinner');\n",
              "      quickchartButtonEl.classList.add('colab-df-quickchart-complete');\n",
              "    }\n",
              "    (() => {\n",
              "      let quickchartButtonEl =\n",
              "        document.querySelector('#df-73c7007c-660c-4765-a723-c1cfa056f4be button');\n",
              "      quickchartButtonEl.style.display =\n",
              "        google.colab.kernel.accessAllowed ? 'block' : 'none';\n",
              "    })();\n",
              "  </script>\n",
              "</div>\n",
              "\n",
              "    </div>\n",
              "  </div>\n"
            ],
            "application/vnd.google.colaboratory.intrinsic+json": {
              "type": "dataframe",
              "variable_name": "mix_data",
              "summary": "{\n  \"name\": \"mix_data\",\n  \"rows\": 32553,\n  \"fields\": [\n    {\n      \"column\": \"age\",\n      \"properties\": {\n        \"dtype\": \"number\",\n        \"std\": 13,\n        \"min\": 17,\n        \"max\": 90,\n        \"num_unique_values\": 73,\n        \"samples\": [\n          24,\n          79,\n          31\n        ],\n        \"semantic_type\": \"\",\n        \"description\": \"\"\n      }\n    },\n    {\n      \"column\": \"workclass\",\n      \"properties\": {\n        \"dtype\": \"number\",\n        \"std\": 1,\n        \"min\": 0,\n        \"max\": 7,\n        \"num_unique_values\": 8,\n        \"samples\": [\n          6,\n          1,\n          3\n        ],\n        \"semantic_type\": \"\",\n        \"description\": \"\"\n      }\n    },\n    {\n      \"column\": \"education\",\n      \"properties\": {\n        \"dtype\": \"number\",\n        \"std\": 3,\n        \"min\": 0,\n        \"max\": 15,\n        \"num_unique_values\": 16,\n        \"samples\": [\n          11,\n          6,\n          3\n        ],\n        \"semantic_type\": \"\",\n        \"description\": \"\"\n      }\n    },\n    {\n      \"column\": \"marital_status\",\n      \"properties\": {\n        \"dtype\": \"number\",\n        \"std\": 1,\n        \"min\": 0,\n        \"max\": 6,\n        \"num_unique_values\": 7,\n        \"samples\": [\n          2,\n          4,\n          6\n        ],\n        \"semantic_type\": \"\",\n        \"description\": \"\"\n      }\n    },\n    {\n      \"column\": \"occupation\",\n      \"properties\": {\n        \"dtype\": \"number\",\n        \"std\": 4,\n        \"min\": 0,\n        \"max\": 14,\n        \"num_unique_values\": 15,\n        \"samples\": [\n          4,\n          11,\n          12\n        ],\n        \"semantic_type\": \"\",\n        \"description\": \"\"\n      }\n    },\n    {\n      \"column\": \"relationship\",\n      \"properties\": {\n        \"dtype\": \"number\",\n        \"std\": 1,\n        \"min\": 0,\n        \"max\": 5,\n        \"num_unique_values\": 6,\n        \"samples\": [\n          0,\n          3,\n          2\n        ],\n        \"semantic_type\": \"\",\n        \"description\": \"\"\n      }\n    },\n    {\n      \"column\": \"capital_gain\",\n      \"properties\": {\n        \"dtype\": \"number\",\n        \"std\": 7386,\n        \"min\": 0,\n        \"max\": 99999,\n        \"num_unique_values\": 119,\n        \"samples\": [\n          6360,\n          3471,\n          2885\n        ],\n        \"semantic_type\": \"\",\n        \"description\": \"\"\n      }\n    },\n    {\n      \"column\": \"capital_loss\",\n      \"properties\": {\n        \"dtype\": \"number\",\n        \"std\": 403,\n        \"min\": 0,\n        \"max\": 4356,\n        \"num_unique_values\": 92,\n        \"samples\": [\n          2377,\n          2547,\n          1816\n        ],\n        \"semantic_type\": \"\",\n        \"description\": \"\"\n      }\n    },\n    {\n      \"column\": \"hours_per_week\",\n      \"properties\": {\n        \"dtype\": \"number\",\n        \"std\": 12,\n        \"min\": 1,\n        \"max\": 99,\n        \"num_unique_values\": 94,\n        \"samples\": [\n          90,\n          70,\n          11\n        ],\n        \"semantic_type\": \"\",\n        \"description\": \"\"\n      }\n    },\n    {\n      \"column\": \"income\",\n      \"properties\": {\n        \"dtype\": \"number\",\n        \"std\": 0,\n        \"min\": 0,\n        \"max\": 1,\n        \"num_unique_values\": 2,\n        \"samples\": [\n          0,\n          1\n        ],\n        \"semantic_type\": \"\",\n        \"description\": \"\"\n      }\n    }\n  ]\n}"
            }
          },
          "metadata": {},
          "execution_count": 193
        }
      ]
    },
    {
      "cell_type": "markdown",
      "source": [
        "### 4.4 Train / Test 데이터셋 분할"
      ],
      "metadata": {
        "id": "xcDcXOTcqJMY"
      }
    },
    {
      "cell_type": "markdown",
      "source": [
        "idx는 데이터셋에서 학습 데이터와 테스트 데이터를 나누는\n",
        "\n",
        "경계선을 나타내는 인덱스로 해당 기준으로 train / test 데이터셋을 분할합니다."
      ],
      "metadata": {
        "id": "OfUMSq9_qoT5"
      }
    },
    {
      "cell_type": "code",
      "source": [
        "train_data= mix_data.iloc[:idx, :]\n",
        "test_data = mix_data.iloc[idx:, :].drop('income', axis=1)\n",
        "\n",
        "print(train_data.shape)\n",
        "print(test_data.shape)"
      ],
      "metadata": {
        "colab": {
          "base_uri": "https://localhost:8080/"
        },
        "id": "0m0BfuXoqFXg",
        "outputId": "74788b7d-84dc-4dd9-faae-a519fad39f15"
      },
      "execution_count": 196,
      "outputs": [
        {
          "output_type": "stream",
          "name": "stdout",
          "text": [
            "(26043, 10)\n",
            "(6510, 9)\n"
          ]
        }
      ]
    },
    {
      "cell_type": "code",
      "source": [
        "from sklearn.model_selection import train_test_split\n",
        "\n",
        "seed = 2024\n",
        "\n",
        "# train_data 에서 Target 값 분할\n",
        "X = train_data.drop('income', axis=1)\n",
        "y = train_data['income']\n",
        "\n",
        "X_train, X_valid, y_train, y_valid = train_test_split(X, y, random_state=seed)\n",
        "\n",
        "print(X_train.shape)\n",
        "print(X_valid.shape)\n",
        "print(y_train.shape)\n",
        "print(y_valid.shape)"
      ],
      "metadata": {
        "colab": {
          "base_uri": "https://localhost:8080/"
        },
        "id": "-BZJXU5dq80f",
        "outputId": "906834d9-bc90-4d17-8269-8b180f004a31"
      },
      "execution_count": 197,
      "outputs": [
        {
          "output_type": "stream",
          "name": "stdout",
          "text": [
            "(19532, 9)\n",
            "(6511, 9)\n",
            "(19532,)\n",
            "(6511,)\n"
          ]
        }
      ]
    },
    {
      "cell_type": "markdown",
      "source": [
        "## 5. Modeling"
      ],
      "metadata": {
        "id": "2E-3eLQark8B"
      }
    },
    {
      "cell_type": "code",
      "source": [
        "# 스코어 확인 함수\n",
        "# python ML Guide 참고\n",
        "\n",
        "from sklearn.metrics import f1_score\n",
        "from sklearn.metrics import *\n",
        "\n",
        "def get_clf_eval(y_test, pred=None, pred_proba=None):\n",
        "\n",
        "    # 오차 행렬\n",
        "    confusion = confusion_matrix(y_test, pred)\n",
        "\n",
        "    # 정확도\n",
        "    accuracy = accuracy_score(y_test, pred)\n",
        "\n",
        "    # 정밀도\n",
        "    precision = precision_score(y_test, pred)\n",
        "\n",
        "    # 재현율\n",
        "    recall = recall_score(y_test, pred)\n",
        "\n",
        "    # F1 score\n",
        "    f1 = f1_score(y_test, pred)\n",
        "\n",
        "    # ROC AUC score\n",
        "    roc_auc = roc_auc_score(y_test, pred_proba) if pred_proba is not None else None\n",
        "\n",
        "    # 계산된 지표 반환\n",
        "    return confusion, accuracy, precision, recall, f1, roc_auc\n",
        "\n",
        "    print('오차 행렬')\n",
        "    print(confusion)\n",
        "    print(f'정확도: {accuracy:.4f}, 정밀도: {precision:.4f}, 재현율: {recall:.4f}, F1: {f1:.4f}, AUC: {roc_auc:.4f}')"
      ],
      "metadata": {
        "id": "szac7mRprnOe"
      },
      "execution_count": 198,
      "outputs": []
    },
    {
      "cell_type": "markdown",
      "source": [
        "## 6. Muchin Learning Model"
      ],
      "metadata": {
        "id": "9N26bHyptRsH"
      }
    },
    {
      "cell_type": "markdown",
      "source": [
        "머신러닝 모델 중 default hyperparameters로 학습 후 score 측정합니다.\n",
        "\n",
        "이후 더 나은 모델에 대한 GridSearchCV 적용 및 그 후에 Stacking 적용합니다."
      ],
      "metadata": {
        "id": "SYcmXpwWtbye"
      }
    },
    {
      "cell_type": "code",
      "source": [
        "from sklearn.ensemble import RandomForestClassifier\n",
        "from lightgbm import LGBMClassifier\n",
        "from sklearn.linear_model import LogisticRegression\n",
        "from catboost import CatBoostClassifier"
      ],
      "metadata": {
        "id": "zaT2BtN3eZ6z"
      },
      "execution_count": 199,
      "outputs": []
    },
    {
      "cell_type": "markdown",
      "source": [
        "### 6.1 Random Forest"
      ],
      "metadata": {
        "id": "dzDKHq0keRfP"
      }
    },
    {
      "cell_type": "code",
      "source": [
        "rf = RandomForestClassifier(n_jobs=-1, random_state=seed)\n",
        "\n",
        "rf.fit(X_train, y_train)\n",
        "y_pred = rf.predict(X_valid) # 예측값\n",
        "y_pred_percent = rf.predict_proba(X_valid) # 예측 확률\n",
        "\n",
        "rf_score = f1_score(y_valid, y_pred)\n",
        "print(\"RF 기본 성능 확인 스코어: {:.4f}\".format(rf_score))"
      ],
      "metadata": {
        "colab": {
          "base_uri": "https://localhost:8080/"
        },
        "id": "WEgrfCULtRJo",
        "outputId": "9ce5e462-6f90-41b9-fe26-f37d64c31b2d"
      },
      "execution_count": 200,
      "outputs": [
        {
          "output_type": "stream",
          "name": "stdout",
          "text": [
            "RF 기본 성능 확인 스코어: 0.6629\n"
          ]
        }
      ]
    },
    {
      "cell_type": "code",
      "source": [
        "get_clf_eval(y_valid, y_pred, y_pred_percent[:, 1])"
      ],
      "metadata": {
        "colab": {
          "base_uri": "https://localhost:8080/"
        },
        "id": "Fb7r7AxseHWr",
        "outputId": "54ff1349-5356-4974-81cf-bf640bcd5e03"
      },
      "execution_count": 201,
      "outputs": [
        {
          "output_type": "execute_result",
          "data": {
            "text/plain": [
              "(array([[4522,  403],\n",
              "        [ 600,  986]]),\n",
              " 0.8459530026109661,\n",
              " 0.7098632109431245,\n",
              " 0.6216897856242118,\n",
              " 0.6628571428571428,\n",
              " 0.8929406417831148)"
            ]
          },
          "metadata": {},
          "execution_count": 201
        }
      ]
    },
    {
      "cell_type": "markdown",
      "source": [
        "### 6.2 LightGBM"
      ],
      "metadata": {
        "id": "AqGQc2H6eXHm"
      }
    },
    {
      "cell_type": "code",
      "source": [
        "lgbm = LGBMClassifier(n_jobs=-1, random_state=seed)\n",
        "\n",
        "lgbm.fit(X_train, y_train)\n",
        "y_pred_lgbm = lgbm.predict(X_valid) # 예측값\n",
        "y_pred_lgbm_percent = lgbm.predict_proba(X_valid)[:, 1] # 예측 확률\n",
        "\n",
        "get_clf_eval(y_valid, y_pred_lgbm, y_pred_lgbm_percent)"
      ],
      "metadata": {
        "colab": {
          "base_uri": "https://localhost:8080/"
        },
        "id": "xw7JOnz3erG1",
        "outputId": "7ac241dd-6d50-4571-897f-278051747f0e"
      },
      "execution_count": 202,
      "outputs": [
        {
          "output_type": "stream",
          "name": "stdout",
          "text": [
            "[LightGBM] [Info] Number of positive: 4719, number of negative: 14813\n",
            "[LightGBM] [Info] Auto-choosing row-wise multi-threading, the overhead of testing was 0.000526 seconds.\n",
            "You can set `force_row_wise=true` to remove the overhead.\n",
            "And if memory is not enough, you can set `force_col_wise=true`.\n",
            "[LightGBM] [Info] Total Bins 360\n",
            "[LightGBM] [Info] Number of data points in the train set: 19532, number of used features: 9\n",
            "[LightGBM] [Info] [binary:BoostFromScore]: pavg=0.241604 -> initscore=-1.143908\n",
            "[LightGBM] [Info] Start training from score -1.143908\n"
          ]
        },
        {
          "output_type": "execute_result",
          "data": {
            "text/plain": [
              "(array([[4648,  277],\n",
              "        [ 566, 1020]]),\n",
              " 0.8705268007986484,\n",
              " 0.7864302235929067,\n",
              " 0.6431273644388399,\n",
              " 0.7075962539021853,\n",
              " 0.9264391471057027)"
            ]
          },
          "metadata": {},
          "execution_count": 202
        }
      ]
    },
    {
      "cell_type": "markdown",
      "source": [
        "### 6.3 CatBoost"
      ],
      "metadata": {
        "id": "Kb-Mgww5fQyC"
      }
    },
    {
      "cell_type": "code",
      "source": [
        "cb = CatBoostClassifier(random_seed=seed, verbose=0)\n",
        "\n",
        "cb.fit(X_train, y_train)\n",
        "y_pred_cb = cb.predict(X_valid) # 예측값\n",
        "y_pred_cb_percent = cb.predict_proba(X_valid)[:, 1] # 예측 확률\n",
        "\n",
        "get_clf_eval(y_valid, y_pred_cb, y_pred_cb_percent)"
      ],
      "metadata": {
        "colab": {
          "base_uri": "https://localhost:8080/"
        },
        "id": "9QyIm0KnfTQD",
        "outputId": "bd085505-0b1e-413f-d895-c852e0d8a3c0"
      },
      "execution_count": 203,
      "outputs": [
        {
          "output_type": "execute_result",
          "data": {
            "text/plain": [
              "(array([[4652,  273],\n",
              "        [ 568, 1018]]),\n",
              " 0.8708339732759944,\n",
              " 0.7885360185902401,\n",
              " 0.6418663303909206,\n",
              " 0.7076816127911018,\n",
              " 0.9264100217000275)"
            ]
          },
          "metadata": {},
          "execution_count": 203
        }
      ]
    },
    {
      "cell_type": "markdown",
      "source": [
        "### 6.4 Best Model"
      ],
      "metadata": {
        "id": "-rlyl3DPf-cw"
      }
    },
    {
      "cell_type": "markdown",
      "source": [
        "LGBM 모델이 가장 높은 성능을 보여 GridSearchCV를 활용해 하이퍼 파라미터 튜닝을 진행한다."
      ],
      "metadata": {
        "id": "zYyG_X3QgDAK"
      }
    },
    {
      "cell_type": "code",
      "source": [
        "from sklearn.model_selection import GridSearchCV\n",
        "\n",
        "lgbm = LGBMClassifier(random_state=seed)\n",
        "\n",
        "# 탐색할 하이퍼파라미터 설정을 params 딕셔너리에서 정의\n",
        "params = {\n",
        "    'boosting_type': ['gbdt', 'dart'], # defalt = 'gbdt'\n",
        "    'num_leaves': [20, 31, 50, 70], # default = 31\n",
        "    'max_depth': [-1, 5, 7, 10, 15, 20, 30], # default = -1 (끝까지 깊게 확장 설정)\n",
        "    'learning_rate': [0.001, 0.01, 0.05, 0.1], # defaut = 0.1\n",
        "}\n",
        "\n",
        "lgbm_grid_cv = GridSearchCV(lgbm, param_grid=params, scoring='f1', n_jobs=-1, cv=5, verbose=1)\n",
        "lgbm_grid_cv.fit(X, y)"
      ],
      "metadata": {
        "colab": {
          "base_uri": "https://localhost:8080/",
          "height": 283
        },
        "id": "U9gGHEDtgBeA",
        "outputId": "253b5908-4296-4195-820d-2846aa063103"
      },
      "execution_count": 204,
      "outputs": [
        {
          "output_type": "stream",
          "name": "stdout",
          "text": [
            "Fitting 5 folds for each of 224 candidates, totalling 1120 fits\n",
            "[LightGBM] [Info] Number of positive: 6305, number of negative: 19738\n",
            "[LightGBM] [Info] Auto-choosing row-wise multi-threading, the overhead of testing was 0.000835 seconds.\n",
            "You can set `force_row_wise=true` to remove the overhead.\n",
            "And if memory is not enough, you can set `force_col_wise=true`.\n",
            "[LightGBM] [Info] Total Bins 373\n",
            "[LightGBM] [Info] Number of data points in the train set: 26043, number of used features: 9\n",
            "[LightGBM] [Info] [binary:BoostFromScore]: pavg=0.242100 -> initscore=-1.141203\n",
            "[LightGBM] [Info] Start training from score -1.141203\n"
          ]
        },
        {
          "output_type": "execute_result",
          "data": {
            "text/plain": [
              "GridSearchCV(cv=5, estimator=LGBMClassifier(random_state=2024), n_jobs=-1,\n",
              "             param_grid={'boosting_type': ['gbdt', 'dart'],\n",
              "                         'learning_rate': [0.001, 0.01, 0.05, 0.1],\n",
              "                         'max_depth': [-1, 5, 7, 10, 15, 20, 30],\n",
              "                         'num_leaves': [20, 31, 50, 70]},\n",
              "             scoring='f1', verbose=1)"
            ],
            "text/html": [
              "<style>#sk-container-id-3 {color: black;background-color: white;}#sk-container-id-3 pre{padding: 0;}#sk-container-id-3 div.sk-toggleable {background-color: white;}#sk-container-id-3 label.sk-toggleable__label {cursor: pointer;display: block;width: 100%;margin-bottom: 0;padding: 0.3em;box-sizing: border-box;text-align: center;}#sk-container-id-3 label.sk-toggleable__label-arrow:before {content: \"▸\";float: left;margin-right: 0.25em;color: #696969;}#sk-container-id-3 label.sk-toggleable__label-arrow:hover:before {color: black;}#sk-container-id-3 div.sk-estimator:hover label.sk-toggleable__label-arrow:before {color: black;}#sk-container-id-3 div.sk-toggleable__content {max-height: 0;max-width: 0;overflow: hidden;text-align: left;background-color: #f0f8ff;}#sk-container-id-3 div.sk-toggleable__content pre {margin: 0.2em;color: black;border-radius: 0.25em;background-color: #f0f8ff;}#sk-container-id-3 input.sk-toggleable__control:checked~div.sk-toggleable__content {max-height: 200px;max-width: 100%;overflow: auto;}#sk-container-id-3 input.sk-toggleable__control:checked~label.sk-toggleable__label-arrow:before {content: \"▾\";}#sk-container-id-3 div.sk-estimator input.sk-toggleable__control:checked~label.sk-toggleable__label {background-color: #d4ebff;}#sk-container-id-3 div.sk-label input.sk-toggleable__control:checked~label.sk-toggleable__label {background-color: #d4ebff;}#sk-container-id-3 input.sk-hidden--visually {border: 0;clip: rect(1px 1px 1px 1px);clip: rect(1px, 1px, 1px, 1px);height: 1px;margin: -1px;overflow: hidden;padding: 0;position: absolute;width: 1px;}#sk-container-id-3 div.sk-estimator {font-family: monospace;background-color: #f0f8ff;border: 1px dotted black;border-radius: 0.25em;box-sizing: border-box;margin-bottom: 0.5em;}#sk-container-id-3 div.sk-estimator:hover {background-color: #d4ebff;}#sk-container-id-3 div.sk-parallel-item::after {content: \"\";width: 100%;border-bottom: 1px solid gray;flex-grow: 1;}#sk-container-id-3 div.sk-label:hover label.sk-toggleable__label {background-color: #d4ebff;}#sk-container-id-3 div.sk-serial::before {content: \"\";position: absolute;border-left: 1px solid gray;box-sizing: border-box;top: 0;bottom: 0;left: 50%;z-index: 0;}#sk-container-id-3 div.sk-serial {display: flex;flex-direction: column;align-items: center;background-color: white;padding-right: 0.2em;padding-left: 0.2em;position: relative;}#sk-container-id-3 div.sk-item {position: relative;z-index: 1;}#sk-container-id-3 div.sk-parallel {display: flex;align-items: stretch;justify-content: center;background-color: white;position: relative;}#sk-container-id-3 div.sk-item::before, #sk-container-id-3 div.sk-parallel-item::before {content: \"\";position: absolute;border-left: 1px solid gray;box-sizing: border-box;top: 0;bottom: 0;left: 50%;z-index: -1;}#sk-container-id-3 div.sk-parallel-item {display: flex;flex-direction: column;z-index: 1;position: relative;background-color: white;}#sk-container-id-3 div.sk-parallel-item:first-child::after {align-self: flex-end;width: 50%;}#sk-container-id-3 div.sk-parallel-item:last-child::after {align-self: flex-start;width: 50%;}#sk-container-id-3 div.sk-parallel-item:only-child::after {width: 0;}#sk-container-id-3 div.sk-dashed-wrapped {border: 1px dashed gray;margin: 0 0.4em 0.5em 0.4em;box-sizing: border-box;padding-bottom: 0.4em;background-color: white;}#sk-container-id-3 div.sk-label label {font-family: monospace;font-weight: bold;display: inline-block;line-height: 1.2em;}#sk-container-id-3 div.sk-label-container {text-align: center;}#sk-container-id-3 div.sk-container {/* jupyter's `normalize.less` sets `[hidden] { display: none; }` but bootstrap.min.css set `[hidden] { display: none !important; }` so we also need the `!important` here to be able to override the default hidden behavior on the sphinx rendered scikit-learn.org. See: https://github.com/scikit-learn/scikit-learn/issues/21755 */display: inline-block !important;position: relative;}#sk-container-id-3 div.sk-text-repr-fallback {display: none;}</style><div id=\"sk-container-id-3\" class=\"sk-top-container\"><div class=\"sk-text-repr-fallback\"><pre>GridSearchCV(cv=5, estimator=LGBMClassifier(random_state=2024), n_jobs=-1,\n",
              "             param_grid={&#x27;boosting_type&#x27;: [&#x27;gbdt&#x27;, &#x27;dart&#x27;],\n",
              "                         &#x27;learning_rate&#x27;: [0.001, 0.01, 0.05, 0.1],\n",
              "                         &#x27;max_depth&#x27;: [-1, 5, 7, 10, 15, 20, 30],\n",
              "                         &#x27;num_leaves&#x27;: [20, 31, 50, 70]},\n",
              "             scoring=&#x27;f1&#x27;, verbose=1)</pre><b>In a Jupyter environment, please rerun this cell to show the HTML representation or trust the notebook. <br />On GitHub, the HTML representation is unable to render, please try loading this page with nbviewer.org.</b></div><div class=\"sk-container\" hidden><div class=\"sk-item sk-dashed-wrapped\"><div class=\"sk-label-container\"><div class=\"sk-label sk-toggleable\"><input class=\"sk-toggleable__control sk-hidden--visually\" id=\"sk-estimator-id-7\" type=\"checkbox\" ><label for=\"sk-estimator-id-7\" class=\"sk-toggleable__label sk-toggleable__label-arrow\">GridSearchCV</label><div class=\"sk-toggleable__content\"><pre>GridSearchCV(cv=5, estimator=LGBMClassifier(random_state=2024), n_jobs=-1,\n",
              "             param_grid={&#x27;boosting_type&#x27;: [&#x27;gbdt&#x27;, &#x27;dart&#x27;],\n",
              "                         &#x27;learning_rate&#x27;: [0.001, 0.01, 0.05, 0.1],\n",
              "                         &#x27;max_depth&#x27;: [-1, 5, 7, 10, 15, 20, 30],\n",
              "                         &#x27;num_leaves&#x27;: [20, 31, 50, 70]},\n",
              "             scoring=&#x27;f1&#x27;, verbose=1)</pre></div></div></div><div class=\"sk-parallel\"><div class=\"sk-parallel-item\"><div class=\"sk-item\"><div class=\"sk-label-container\"><div class=\"sk-label sk-toggleable\"><input class=\"sk-toggleable__control sk-hidden--visually\" id=\"sk-estimator-id-8\" type=\"checkbox\" ><label for=\"sk-estimator-id-8\" class=\"sk-toggleable__label sk-toggleable__label-arrow\">estimator: LGBMClassifier</label><div class=\"sk-toggleable__content\"><pre>LGBMClassifier(random_state=2024)</pre></div></div></div><div class=\"sk-serial\"><div class=\"sk-item\"><div class=\"sk-estimator sk-toggleable\"><input class=\"sk-toggleable__control sk-hidden--visually\" id=\"sk-estimator-id-9\" type=\"checkbox\" ><label for=\"sk-estimator-id-9\" class=\"sk-toggleable__label sk-toggleable__label-arrow\">LGBMClassifier</label><div class=\"sk-toggleable__content\"><pre>LGBMClassifier(random_state=2024)</pre></div></div></div></div></div></div></div></div></div></div>"
            ]
          },
          "metadata": {},
          "execution_count": 204
        }
      ]
    },
    {
      "cell_type": "code",
      "source": [
        "print('GridSearchCV 최고 평균 정확도 : {:.4f}'.format(lgbm_grid_cv.best_score_))\n",
        "print('GridSearchCv 최적 하이퍼 파라미터: ', lgbm_grid_cv.best_params_)"
      ],
      "metadata": {
        "colab": {
          "base_uri": "https://localhost:8080/"
        },
        "id": "nA3HG819hrSJ",
        "outputId": "1e11cf42-c562-4941-c187-bba1e31b07d9"
      },
      "execution_count": 205,
      "outputs": [
        {
          "output_type": "stream",
          "name": "stdout",
          "text": [
            "GridSearchCV 최고 평균 정확도 : 0.7156\n",
            "GridSearchCv 최적 하이퍼 파라미터:  {'boosting_type': 'gbdt', 'learning_rate': 0.1, 'max_depth': -1, 'num_leaves': 31}\n"
          ]
        }
      ]
    },
    {
      "cell_type": "markdown",
      "source": [
        "## 7. Feature 중요도 시각화"
      ],
      "metadata": {
        "id": "rtYscUqxlY_0"
      }
    },
    {
      "cell_type": "code",
      "source": [
        "best_lgbm = lgbm_grid_cv.best_estimator_\n",
        "lgbm_pred = best_lgbm.predict(test_data)"
      ],
      "metadata": {
        "id": "3OfOlHIXlhpB"
      },
      "execution_count": 206,
      "outputs": []
    },
    {
      "cell_type": "code",
      "source": [
        "ftr_importances_values = best_lgbm.feature_importances_\n",
        "\n",
        "# Top 중요도로 정렬을 쉽게 하고, Seaborn의 막대그래프로 쉽게 표현하기 위해 Series 변환\n",
        "ftr_importances = pd.Series(ftr_importances_values, index=X.columns)\n",
        "\n",
        "# 중요도 값 순으로 Series를 정렬\n",
        "ftr_top = ftr_importances.sort_values(ascending=False)\n",
        "\n",
        "plt.figure(figsize=(8, 6))\n",
        "sns.barplot(x=ftr_top, y=ftr_top.index, orient='h', palette = colors)\n",
        "plt.title('Feature importances')\n",
        "plt.show()"
      ],
      "metadata": {
        "colab": {
          "base_uri": "https://localhost:8080/",
          "height": 570
        },
        "id": "JdcXZGoZlYYL",
        "outputId": "43d0c0b1-be93-49c4-f936-aa2680e1ba74"
      },
      "execution_count": 208,
      "outputs": [
        {
          "output_type": "display_data",
          "data": {
            "text/plain": [
              "<Figure size 800x600 with 1 Axes>"
            ],
            "image/png": "[encoded data removed]"
          },
          "metadata": {}
        }
      ]
    }
  ]
}